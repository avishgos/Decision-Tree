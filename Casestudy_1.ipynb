{
 "cells": [
  {
   "cell_type": "markdown",
   "metadata": {},
   "source": [
    " # Import the necessary packages"
   ]
  },
  {
   "cell_type": "code",
   "execution_count": 1,
   "metadata": {},
   "outputs": [],
   "source": [
    "import pandas as pd\n",
    "import numpy as np \n",
    "import matplotlib.pyplot as plt\n",
    "import seaborn as sns\n",
    "import time"
   ]
  },
  {
   "cell_type": "code",
   "execution_count": 64,
   "metadata": {},
   "outputs": [],
   "source": [
    "df=pd.read_excel('Data.xlsx')"
   ]
  },
  {
   "cell_type": "code",
   "execution_count": 65,
   "metadata": {},
   "outputs": [
    {
     "data": {
      "text/html": [
       "<div>\n",
       "<style scoped>\n",
       "    .dataframe tbody tr th:only-of-type {\n",
       "        vertical-align: middle;\n",
       "    }\n",
       "\n",
       "    .dataframe tbody tr th {\n",
       "        vertical-align: top;\n",
       "    }\n",
       "\n",
       "    .dataframe thead th {\n",
       "        text-align: right;\n",
       "    }\n",
       "</style>\n",
       "<table border=\"1\" class=\"dataframe\">\n",
       "  <thead>\n",
       "    <tr style=\"text-align: right;\">\n",
       "      <th></th>\n",
       "      <th>ID</th>\n",
       "      <th>Age</th>\n",
       "      <th>Experience</th>\n",
       "      <th>Income</th>\n",
       "      <th>ZIP Code</th>\n",
       "      <th>Family</th>\n",
       "      <th>CCAvg</th>\n",
       "      <th>Education</th>\n",
       "      <th>Mortgage</th>\n",
       "      <th>Personal Loan</th>\n",
       "      <th>Securities Account</th>\n",
       "      <th>CD Account</th>\n",
       "      <th>Online</th>\n",
       "      <th>CreditCard</th>\n",
       "    </tr>\n",
       "  </thead>\n",
       "  <tbody>\n",
       "    <tr>\n",
       "      <th>0</th>\n",
       "      <td>1</td>\n",
       "      <td>25</td>\n",
       "      <td>1</td>\n",
       "      <td>49</td>\n",
       "      <td>91107</td>\n",
       "      <td>4</td>\n",
       "      <td>1.6</td>\n",
       "      <td>1</td>\n",
       "      <td>0</td>\n",
       "      <td>0</td>\n",
       "      <td>1</td>\n",
       "      <td>0</td>\n",
       "      <td>0</td>\n",
       "      <td>0</td>\n",
       "    </tr>\n",
       "    <tr>\n",
       "      <th>1</th>\n",
       "      <td>2</td>\n",
       "      <td>45</td>\n",
       "      <td>19</td>\n",
       "      <td>34</td>\n",
       "      <td>90089</td>\n",
       "      <td>3</td>\n",
       "      <td>1.5</td>\n",
       "      <td>1</td>\n",
       "      <td>0</td>\n",
       "      <td>0</td>\n",
       "      <td>1</td>\n",
       "      <td>0</td>\n",
       "      <td>0</td>\n",
       "      <td>0</td>\n",
       "    </tr>\n",
       "    <tr>\n",
       "      <th>2</th>\n",
       "      <td>3</td>\n",
       "      <td>39</td>\n",
       "      <td>15</td>\n",
       "      <td>11</td>\n",
       "      <td>94720</td>\n",
       "      <td>1</td>\n",
       "      <td>1.0</td>\n",
       "      <td>1</td>\n",
       "      <td>0</td>\n",
       "      <td>0</td>\n",
       "      <td>0</td>\n",
       "      <td>0</td>\n",
       "      <td>0</td>\n",
       "      <td>0</td>\n",
       "    </tr>\n",
       "    <tr>\n",
       "      <th>3</th>\n",
       "      <td>4</td>\n",
       "      <td>35</td>\n",
       "      <td>9</td>\n",
       "      <td>100</td>\n",
       "      <td>94112</td>\n",
       "      <td>1</td>\n",
       "      <td>2.7</td>\n",
       "      <td>2</td>\n",
       "      <td>0</td>\n",
       "      <td>0</td>\n",
       "      <td>0</td>\n",
       "      <td>0</td>\n",
       "      <td>0</td>\n",
       "      <td>0</td>\n",
       "    </tr>\n",
       "    <tr>\n",
       "      <th>4</th>\n",
       "      <td>5</td>\n",
       "      <td>35</td>\n",
       "      <td>8</td>\n",
       "      <td>45</td>\n",
       "      <td>91330</td>\n",
       "      <td>4</td>\n",
       "      <td>1.0</td>\n",
       "      <td>2</td>\n",
       "      <td>0</td>\n",
       "      <td>0</td>\n",
       "      <td>0</td>\n",
       "      <td>0</td>\n",
       "      <td>0</td>\n",
       "      <td>1</td>\n",
       "    </tr>\n",
       "  </tbody>\n",
       "</table>\n",
       "</div>"
      ],
      "text/plain": [
       "   ID  Age  Experience  Income  ZIP Code  Family  CCAvg  Education  Mortgage  \\\n",
       "0   1   25           1      49     91107       4    1.6          1         0   \n",
       "1   2   45          19      34     90089       3    1.5          1         0   \n",
       "2   3   39          15      11     94720       1    1.0          1         0   \n",
       "3   4   35           9     100     94112       1    2.7          2         0   \n",
       "4   5   35           8      45     91330       4    1.0          2         0   \n",
       "\n",
       "   Personal Loan  Securities Account  CD Account  Online  CreditCard  \n",
       "0              0                   1           0       0           0  \n",
       "1              0                   1           0       0           0  \n",
       "2              0                   0           0       0           0  \n",
       "3              0                   0           0       0           0  \n",
       "4              0                   0           0       0           1  "
      ]
     },
     "execution_count": 65,
     "metadata": {},
     "output_type": "execute_result"
    }
   ],
   "source": [
    "df.head()"
   ]
  },
  {
   "cell_type": "code",
   "execution_count": 66,
   "metadata": {},
   "outputs": [
    {
     "data": {
      "text/html": [
       "<div>\n",
       "<style scoped>\n",
       "    .dataframe tbody tr th:only-of-type {\n",
       "        vertical-align: middle;\n",
       "    }\n",
       "\n",
       "    .dataframe tbody tr th {\n",
       "        vertical-align: top;\n",
       "    }\n",
       "\n",
       "    .dataframe thead th {\n",
       "        text-align: right;\n",
       "    }\n",
       "</style>\n",
       "<table border=\"1\" class=\"dataframe\">\n",
       "  <thead>\n",
       "    <tr style=\"text-align: right;\">\n",
       "      <th></th>\n",
       "      <th>ID</th>\n",
       "      <th>Age</th>\n",
       "      <th>Experience</th>\n",
       "      <th>Income</th>\n",
       "      <th>ZIP Code</th>\n",
       "      <th>Family</th>\n",
       "      <th>CCAvg</th>\n",
       "      <th>Education</th>\n",
       "      <th>Mortgage</th>\n",
       "      <th>Personal Loan</th>\n",
       "      <th>Securities Account</th>\n",
       "      <th>CD Account</th>\n",
       "      <th>Online</th>\n",
       "      <th>CreditCard</th>\n",
       "    </tr>\n",
       "  </thead>\n",
       "  <tbody>\n",
       "    <tr>\n",
       "      <th>count</th>\n",
       "      <td>5000.000000</td>\n",
       "      <td>5000.000000</td>\n",
       "      <td>5000.000000</td>\n",
       "      <td>5000.000000</td>\n",
       "      <td>5000.000000</td>\n",
       "      <td>5000.000000</td>\n",
       "      <td>5000.000000</td>\n",
       "      <td>5000.000000</td>\n",
       "      <td>5000.000000</td>\n",
       "      <td>5000.000000</td>\n",
       "      <td>5000.000000</td>\n",
       "      <td>5000.00000</td>\n",
       "      <td>5000.000000</td>\n",
       "      <td>5000.000000</td>\n",
       "    </tr>\n",
       "    <tr>\n",
       "      <th>mean</th>\n",
       "      <td>2500.500000</td>\n",
       "      <td>45.338400</td>\n",
       "      <td>20.104600</td>\n",
       "      <td>73.774200</td>\n",
       "      <td>93152.503000</td>\n",
       "      <td>2.396400</td>\n",
       "      <td>1.937913</td>\n",
       "      <td>1.881000</td>\n",
       "      <td>56.498800</td>\n",
       "      <td>0.096000</td>\n",
       "      <td>0.104400</td>\n",
       "      <td>0.06040</td>\n",
       "      <td>0.596800</td>\n",
       "      <td>0.294000</td>\n",
       "    </tr>\n",
       "    <tr>\n",
       "      <th>std</th>\n",
       "      <td>1443.520003</td>\n",
       "      <td>11.463166</td>\n",
       "      <td>11.467954</td>\n",
       "      <td>46.033729</td>\n",
       "      <td>2121.852197</td>\n",
       "      <td>1.147663</td>\n",
       "      <td>1.747666</td>\n",
       "      <td>0.839869</td>\n",
       "      <td>101.713802</td>\n",
       "      <td>0.294621</td>\n",
       "      <td>0.305809</td>\n",
       "      <td>0.23825</td>\n",
       "      <td>0.490589</td>\n",
       "      <td>0.455637</td>\n",
       "    </tr>\n",
       "    <tr>\n",
       "      <th>min</th>\n",
       "      <td>1.000000</td>\n",
       "      <td>23.000000</td>\n",
       "      <td>-3.000000</td>\n",
       "      <td>8.000000</td>\n",
       "      <td>9307.000000</td>\n",
       "      <td>1.000000</td>\n",
       "      <td>0.000000</td>\n",
       "      <td>1.000000</td>\n",
       "      <td>0.000000</td>\n",
       "      <td>0.000000</td>\n",
       "      <td>0.000000</td>\n",
       "      <td>0.00000</td>\n",
       "      <td>0.000000</td>\n",
       "      <td>0.000000</td>\n",
       "    </tr>\n",
       "    <tr>\n",
       "      <th>25%</th>\n",
       "      <td>1250.750000</td>\n",
       "      <td>35.000000</td>\n",
       "      <td>10.000000</td>\n",
       "      <td>39.000000</td>\n",
       "      <td>91911.000000</td>\n",
       "      <td>1.000000</td>\n",
       "      <td>0.700000</td>\n",
       "      <td>1.000000</td>\n",
       "      <td>0.000000</td>\n",
       "      <td>0.000000</td>\n",
       "      <td>0.000000</td>\n",
       "      <td>0.00000</td>\n",
       "      <td>0.000000</td>\n",
       "      <td>0.000000</td>\n",
       "    </tr>\n",
       "    <tr>\n",
       "      <th>50%</th>\n",
       "      <td>2500.500000</td>\n",
       "      <td>45.000000</td>\n",
       "      <td>20.000000</td>\n",
       "      <td>64.000000</td>\n",
       "      <td>93437.000000</td>\n",
       "      <td>2.000000</td>\n",
       "      <td>1.500000</td>\n",
       "      <td>2.000000</td>\n",
       "      <td>0.000000</td>\n",
       "      <td>0.000000</td>\n",
       "      <td>0.000000</td>\n",
       "      <td>0.00000</td>\n",
       "      <td>1.000000</td>\n",
       "      <td>0.000000</td>\n",
       "    </tr>\n",
       "    <tr>\n",
       "      <th>75%</th>\n",
       "      <td>3750.250000</td>\n",
       "      <td>55.000000</td>\n",
       "      <td>30.000000</td>\n",
       "      <td>98.000000</td>\n",
       "      <td>94608.000000</td>\n",
       "      <td>3.000000</td>\n",
       "      <td>2.500000</td>\n",
       "      <td>3.000000</td>\n",
       "      <td>101.000000</td>\n",
       "      <td>0.000000</td>\n",
       "      <td>0.000000</td>\n",
       "      <td>0.00000</td>\n",
       "      <td>1.000000</td>\n",
       "      <td>1.000000</td>\n",
       "    </tr>\n",
       "    <tr>\n",
       "      <th>max</th>\n",
       "      <td>5000.000000</td>\n",
       "      <td>67.000000</td>\n",
       "      <td>43.000000</td>\n",
       "      <td>224.000000</td>\n",
       "      <td>96651.000000</td>\n",
       "      <td>4.000000</td>\n",
       "      <td>10.000000</td>\n",
       "      <td>3.000000</td>\n",
       "      <td>635.000000</td>\n",
       "      <td>1.000000</td>\n",
       "      <td>1.000000</td>\n",
       "      <td>1.00000</td>\n",
       "      <td>1.000000</td>\n",
       "      <td>1.000000</td>\n",
       "    </tr>\n",
       "  </tbody>\n",
       "</table>\n",
       "</div>"
      ],
      "text/plain": [
       "                ID          Age   Experience       Income      ZIP Code  \\\n",
       "count  5000.000000  5000.000000  5000.000000  5000.000000   5000.000000   \n",
       "mean   2500.500000    45.338400    20.104600    73.774200  93152.503000   \n",
       "std    1443.520003    11.463166    11.467954    46.033729   2121.852197   \n",
       "min       1.000000    23.000000    -3.000000     8.000000   9307.000000   \n",
       "25%    1250.750000    35.000000    10.000000    39.000000  91911.000000   \n",
       "50%    2500.500000    45.000000    20.000000    64.000000  93437.000000   \n",
       "75%    3750.250000    55.000000    30.000000    98.000000  94608.000000   \n",
       "max    5000.000000    67.000000    43.000000   224.000000  96651.000000   \n",
       "\n",
       "            Family        CCAvg    Education     Mortgage  Personal Loan  \\\n",
       "count  5000.000000  5000.000000  5000.000000  5000.000000    5000.000000   \n",
       "mean      2.396400     1.937913     1.881000    56.498800       0.096000   \n",
       "std       1.147663     1.747666     0.839869   101.713802       0.294621   \n",
       "min       1.000000     0.000000     1.000000     0.000000       0.000000   \n",
       "25%       1.000000     0.700000     1.000000     0.000000       0.000000   \n",
       "50%       2.000000     1.500000     2.000000     0.000000       0.000000   \n",
       "75%       3.000000     2.500000     3.000000   101.000000       0.000000   \n",
       "max       4.000000    10.000000     3.000000   635.000000       1.000000   \n",
       "\n",
       "       Securities Account  CD Account       Online   CreditCard  \n",
       "count         5000.000000  5000.00000  5000.000000  5000.000000  \n",
       "mean             0.104400     0.06040     0.596800     0.294000  \n",
       "std              0.305809     0.23825     0.490589     0.455637  \n",
       "min              0.000000     0.00000     0.000000     0.000000  \n",
       "25%              0.000000     0.00000     0.000000     0.000000  \n",
       "50%              0.000000     0.00000     1.000000     0.000000  \n",
       "75%              0.000000     0.00000     1.000000     1.000000  \n",
       "max              1.000000     1.00000     1.000000     1.000000  "
      ]
     },
     "execution_count": 66,
     "metadata": {},
     "output_type": "execute_result"
    }
   ],
   "source": [
    "df.describe()"
   ]
  },
  {
   "cell_type": "code",
   "execution_count": 5,
   "metadata": {},
   "outputs": [
    {
     "data": {
      "text/plain": [
       "(5000, 14)"
      ]
     },
     "execution_count": 5,
     "metadata": {},
     "output_type": "execute_result"
    }
   ],
   "source": [
    "df.shape"
   ]
  },
  {
   "cell_type": "code",
   "execution_count": 67,
   "metadata": {},
   "outputs": [
    {
     "data": {
      "text/plain": [
       "array([ 1, 19, 15,  9,  8, 13, 27, 24, 10, 39,  5, 23, 32, 41, 30, 14, 18,\n",
       "       21, 28, 31, 11, 16, 20, 35,  6, 25,  7, 12, 26, 37, 17,  2, 36, 29,\n",
       "        3, 22, -1, 34,  0, 38, 40, 33,  4, -2, 42, -3, 43], dtype=int64)"
      ]
     },
     "execution_count": 67,
     "metadata": {},
     "output_type": "execute_result"
    }
   ],
   "source": [
    "df['Experience'].unique()"
   ]
  },
  {
   "cell_type": "code",
   "execution_count": 6,
   "metadata": {},
   "outputs": [
    {
     "name": "stdout",
     "output_type": "stream",
     "text": [
      "<class 'pandas.core.frame.DataFrame'>\n",
      "RangeIndex: 5000 entries, 0 to 4999\n",
      "Data columns (total 14 columns):\n",
      " #   Column              Non-Null Count  Dtype  \n",
      "---  ------              --------------  -----  \n",
      " 0   ID                  5000 non-null   int64  \n",
      " 1   Age                 5000 non-null   int64  \n",
      " 2   Experience          5000 non-null   int64  \n",
      " 3   Income              5000 non-null   int64  \n",
      " 4   ZIP Code            5000 non-null   int64  \n",
      " 5   Family              5000 non-null   int64  \n",
      " 6   CCAvg               5000 non-null   float64\n",
      " 7   Education           5000 non-null   int64  \n",
      " 8   Mortgage            5000 non-null   int64  \n",
      " 9   Personal Loan       5000 non-null   int64  \n",
      " 10  Securities Account  5000 non-null   int64  \n",
      " 11  CD Account          5000 non-null   int64  \n",
      " 12  Online              5000 non-null   int64  \n",
      " 13  CreditCard          5000 non-null   int64  \n",
      "dtypes: float64(1), int64(13)\n",
      "memory usage: 547.0 KB\n"
     ]
    }
   ],
   "source": [
    "df.info()"
   ]
  },
  {
   "cell_type": "code",
   "execution_count": 7,
   "metadata": {},
   "outputs": [
    {
     "data": {
      "text/plain": [
       "ID                    0\n",
       "Age                   0\n",
       "Experience            0\n",
       "Income                0\n",
       "ZIP Code              0\n",
       "Family                0\n",
       "CCAvg                 0\n",
       "Education             0\n",
       "Mortgage              0\n",
       "Personal Loan         0\n",
       "Securities Account    0\n",
       "CD Account            0\n",
       "Online                0\n",
       "CreditCard            0\n",
       "dtype: int64"
      ]
     },
     "execution_count": 7,
     "metadata": {},
     "output_type": "execute_result"
    }
   ],
   "source": [
    "df.isnull().sum()"
   ]
  },
  {
   "cell_type": "markdown",
   "metadata": {},
   "source": [
    "# Basic EDA"
   ]
  },
  {
   "cell_type": "code",
   "execution_count": 8,
   "metadata": {},
   "outputs": [],
   "source": [
    "# Univariate Analysis"
   ]
  },
  {
   "cell_type": "code",
   "execution_count": 9,
   "metadata": {},
   "outputs": [
    {
     "data": {
      "image/png": "[encoded data removed]",
      "text/plain": [
       "<Figure size 432x288 with 1 Axes>"
      ]
     },
     "metadata": {
      "needs_background": "light"
     },
     "output_type": "display_data"
    }
   ],
   "source": [
    "sns.distplot( df['Age']);"
   ]
  },
  {
   "cell_type": "code",
   "execution_count": 10,
   "metadata": {},
   "outputs": [
    {
     "data": {
      "text/plain": [
       "(15.4, 24.6]                  1184\n",
       "(24.6, 33.8]                  1164\n",
       "(6.2, 15.4]                   1086\n",
       "(-3.0469999999999997, 6.2]     784\n",
       "(33.8, 43.0]                   782\n",
       "Name: Experience, dtype: int64"
      ]
     },
     "execution_count": 10,
     "metadata": {},
     "output_type": "execute_result"
    }
   ],
   "source": [
    "df['Experience'].value_counts(bins=5)"
   ]
  },
  {
   "cell_type": "markdown",
   "metadata": {},
   "source": [
    "* As experience cannot  be in negative it can be typo error"
   ]
  },
  {
   "cell_type": "code",
   "execution_count": 11,
   "metadata": {},
   "outputs": [
    {
     "data": {
      "image/png": "[encoded data removed]",
      "text/plain": [
       "<Figure size 432x288 with 1 Axes>"
      ]
     },
     "metadata": {
      "needs_background": "light"
     },
     "output_type": "display_data"
    }
   ],
   "source": [
    "sns.distplot( df['Income']);"
   ]
  },
  {
   "cell_type": "code",
   "execution_count": 12,
   "metadata": {},
   "outputs": [
    {
     "data": {
      "text/plain": [
       "1    1472\n",
       "2    1296\n",
       "4    1222\n",
       "3    1010\n",
       "Name: Family, dtype: int64"
      ]
     },
     "execution_count": 12,
     "metadata": {},
     "output_type": "execute_result"
    }
   ],
   "source": [
    "df['Family'].value_counts()"
   ]
  },
  {
   "cell_type": "code",
   "execution_count": 13,
   "metadata": {},
   "outputs": [
    {
     "data": {
      "image/png": "[encoded data removed]",
      "text/plain": [
       "<Figure size 432x288 with 1 Axes>"
      ]
     },
     "metadata": {
      "needs_background": "light"
     },
     "output_type": "display_data"
    }
   ],
   "source": [
    "sns.distplot( df['CCAvg']);"
   ]
  },
  {
   "cell_type": "code",
   "execution_count": 14,
   "metadata": {},
   "outputs": [
    {
     "data": {
      "text/plain": [
       "1    2096\n",
       "3    1501\n",
       "2    1403\n",
       "Name: Education, dtype: int64"
      ]
     },
     "execution_count": 14,
     "metadata": {},
     "output_type": "execute_result"
    }
   ],
   "source": [
    "df['Education'].value_counts()"
   ]
  },
  {
   "cell_type": "code",
   "execution_count": 15,
   "metadata": {},
   "outputs": [
    {
     "data": {
      "image/png": "[encoded data removed]",
      "text/plain": [
       "<Figure size 432x288 with 1 Axes>"
      ]
     },
     "metadata": {
      "needs_background": "light"
     },
     "output_type": "display_data"
    }
   ],
   "source": [
    "sns.distplot( df['Mortgage']);"
   ]
  },
  {
   "cell_type": "code",
   "execution_count": 16,
   "metadata": {},
   "outputs": [
    {
     "data": {
      "text/plain": [
       "0    4520\n",
       "1     480\n",
       "Name: Personal Loan, dtype: int64"
      ]
     },
     "execution_count": 16,
     "metadata": {},
     "output_type": "execute_result"
    }
   ],
   "source": [
    "df['Personal Loan'].value_counts()"
   ]
  },
  {
   "cell_type": "code",
   "execution_count": 17,
   "metadata": {},
   "outputs": [
    {
     "data": {
      "text/plain": [
       "0    4478\n",
       "1     522\n",
       "Name: Securities Account, dtype: int64"
      ]
     },
     "execution_count": 17,
     "metadata": {},
     "output_type": "execute_result"
    }
   ],
   "source": [
    "df['Securities Account'].value_counts()"
   ]
  },
  {
   "cell_type": "code",
   "execution_count": 18,
   "metadata": {},
   "outputs": [
    {
     "data": {
      "text/plain": [
       "0    4698\n",
       "1     302\n",
       "Name: CD Account, dtype: int64"
      ]
     },
     "execution_count": 18,
     "metadata": {},
     "output_type": "execute_result"
    }
   ],
   "source": [
    "df['CD Account'].value_counts()"
   ]
  },
  {
   "cell_type": "code",
   "execution_count": 19,
   "metadata": {},
   "outputs": [
    {
     "data": {
      "text/plain": [
       "1    2984\n",
       "0    2016\n",
       "Name: Online, dtype: int64"
      ]
     },
     "execution_count": 19,
     "metadata": {},
     "output_type": "execute_result"
    }
   ],
   "source": [
    "df['Online'].value_counts()"
   ]
  },
  {
   "cell_type": "code",
   "execution_count": 20,
   "metadata": {},
   "outputs": [
    {
     "data": {
      "text/plain": [
       "0    3530\n",
       "1    1470\n",
       "Name: CreditCard, dtype: int64"
      ]
     },
     "execution_count": 20,
     "metadata": {},
     "output_type": "execute_result"
    }
   ],
   "source": [
    "df['CreditCard'].value_counts()"
   ]
  },
  {
   "cell_type": "code",
   "execution_count": 21,
   "metadata": {},
   "outputs": [
    {
     "data": {
      "text/plain": [
       "[64.0]"
      ]
     },
     "execution_count": 21,
     "metadata": {},
     "output_type": "execute_result"
    },
    {
     "data": {
      "image/png": "[encoded data removed]",
      "text/plain": [
       "<Figure size 432x288 with 1 Axes>"
      ]
     },
     "metadata": {
      "needs_background": "light"
     },
     "output_type": "display_data"
    }
   ],
   "source": [
    "box = plt.boxplot(df['Income']);\n",
    "[item.get_ydata()[0] for item in box['caps']]\n",
    "[item.get_ydata()[0] for item in box['whiskers']]\n",
    "[item.get_ydata()[0] for item in box['medians']]"
   ]
  },
  {
   "cell_type": "code",
   "execution_count": 22,
   "metadata": {},
   "outputs": [
    {
     "data": {
      "text/plain": [
       "[8.0, 185.0]"
      ]
     },
     "execution_count": 22,
     "metadata": {},
     "output_type": "execute_result"
    }
   ],
   "source": [
    "[item.get_ydata()[0] for item in box['caps']]"
   ]
  },
  {
   "cell_type": "code",
   "execution_count": 23,
   "metadata": {},
   "outputs": [
    {
     "data": {
      "text/plain": [
       "[39.0, 98.0]"
      ]
     },
     "execution_count": 23,
     "metadata": {},
     "output_type": "execute_result"
    }
   ],
   "source": [
    "[item.get_ydata()[0] for item in box['whiskers']]"
   ]
  },
  {
   "cell_type": "code",
   "execution_count": 24,
   "metadata": {},
   "outputs": [
    {
     "data": {
      "text/plain": [
       "[64.0]"
      ]
     },
     "execution_count": 24,
     "metadata": {},
     "output_type": "execute_result"
    }
   ],
   "source": [
    "[item.get_ydata()[0] for item in box['medians']]"
   ]
  },
  {
   "cell_type": "code",
   "execution_count": 25,
   "metadata": {},
   "outputs": [
    {
     "data": {
      "image/png": "[encoded data removed]",
      "text/plain": [
       "<Figure size 432x288 with 1 Axes>"
      ]
     },
     "metadata": {
      "needs_background": "light"
     },
     "output_type": "display_data"
    }
   ],
   "source": [
    "sns.boxplot(x = 'Personal Loan', y = 'Income', data = df);"
   ]
  },
  {
   "cell_type": "markdown",
   "metadata": {},
   "source": [
    "* If the persons income is below 55K the chances of getting a personal is almost nill"
   ]
  },
  {
   "cell_type": "code",
   "execution_count": 26,
   "metadata": {},
   "outputs": [
    {
     "data": {
      "image/png": "[encoded data removed]",
      "text/plain": [
       "<Figure size 432x288 with 1 Axes>"
      ]
     },
     "metadata": {
      "needs_background": "light"
     },
     "output_type": "display_data"
    }
   ],
   "source": [
    "sns.boxplot(x = 'Personal Loan', y = 'Mortgage', data = df);"
   ]
  },
  {
   "cell_type": "code",
   "execution_count": 49,
   "metadata": {},
   "outputs": [
    {
     "data": {
      "text/html": [
       "<div>\n",
       "<style scoped>\n",
       "    .dataframe tbody tr th:only-of-type {\n",
       "        vertical-align: middle;\n",
       "    }\n",
       "\n",
       "    .dataframe tbody tr th {\n",
       "        vertical-align: top;\n",
       "    }\n",
       "\n",
       "    .dataframe thead th {\n",
       "        text-align: right;\n",
       "    }\n",
       "</style>\n",
       "<table border=\"1\" class=\"dataframe\">\n",
       "  <thead>\n",
       "    <tr style=\"text-align: right;\">\n",
       "      <th></th>\n",
       "      <th>ID</th>\n",
       "      <th>Age</th>\n",
       "      <th>Experience</th>\n",
       "      <th>Income</th>\n",
       "      <th>ZIP Code</th>\n",
       "      <th>Family</th>\n",
       "      <th>CCAvg</th>\n",
       "      <th>Education</th>\n",
       "      <th>Mortgage</th>\n",
       "      <th>Personal Loan</th>\n",
       "      <th>Securities Account</th>\n",
       "      <th>CD Account</th>\n",
       "      <th>Online</th>\n",
       "      <th>CreditCard</th>\n",
       "    </tr>\n",
       "  </thead>\n",
       "  <tbody>\n",
       "    <tr>\n",
       "      <th>89</th>\n",
       "      <td>90</td>\n",
       "      <td>25</td>\n",
       "      <td>-1</td>\n",
       "      <td>113</td>\n",
       "      <td>94303</td>\n",
       "      <td>4</td>\n",
       "      <td>2.300000</td>\n",
       "      <td>3</td>\n",
       "      <td>0</td>\n",
       "      <td>0</td>\n",
       "      <td>0</td>\n",
       "      <td>0</td>\n",
       "      <td>0</td>\n",
       "      <td>1</td>\n",
       "    </tr>\n",
       "    <tr>\n",
       "      <th>226</th>\n",
       "      <td>227</td>\n",
       "      <td>24</td>\n",
       "      <td>-1</td>\n",
       "      <td>39</td>\n",
       "      <td>94085</td>\n",
       "      <td>2</td>\n",
       "      <td>1.700000</td>\n",
       "      <td>2</td>\n",
       "      <td>0</td>\n",
       "      <td>0</td>\n",
       "      <td>0</td>\n",
       "      <td>0</td>\n",
       "      <td>0</td>\n",
       "      <td>0</td>\n",
       "    </tr>\n",
       "    <tr>\n",
       "      <th>315</th>\n",
       "      <td>316</td>\n",
       "      <td>24</td>\n",
       "      <td>-2</td>\n",
       "      <td>51</td>\n",
       "      <td>90630</td>\n",
       "      <td>3</td>\n",
       "      <td>0.300000</td>\n",
       "      <td>3</td>\n",
       "      <td>0</td>\n",
       "      <td>0</td>\n",
       "      <td>0</td>\n",
       "      <td>0</td>\n",
       "      <td>1</td>\n",
       "      <td>0</td>\n",
       "    </tr>\n",
       "    <tr>\n",
       "      <th>451</th>\n",
       "      <td>452</td>\n",
       "      <td>28</td>\n",
       "      <td>-2</td>\n",
       "      <td>48</td>\n",
       "      <td>94132</td>\n",
       "      <td>2</td>\n",
       "      <td>1.750000</td>\n",
       "      <td>3</td>\n",
       "      <td>89</td>\n",
       "      <td>0</td>\n",
       "      <td>0</td>\n",
       "      <td>0</td>\n",
       "      <td>1</td>\n",
       "      <td>0</td>\n",
       "    </tr>\n",
       "    <tr>\n",
       "      <th>524</th>\n",
       "      <td>525</td>\n",
       "      <td>24</td>\n",
       "      <td>-1</td>\n",
       "      <td>75</td>\n",
       "      <td>93014</td>\n",
       "      <td>4</td>\n",
       "      <td>0.200000</td>\n",
       "      <td>1</td>\n",
       "      <td>0</td>\n",
       "      <td>0</td>\n",
       "      <td>0</td>\n",
       "      <td>0</td>\n",
       "      <td>1</td>\n",
       "      <td>0</td>\n",
       "    </tr>\n",
       "    <tr>\n",
       "      <th>536</th>\n",
       "      <td>537</td>\n",
       "      <td>25</td>\n",
       "      <td>-1</td>\n",
       "      <td>43</td>\n",
       "      <td>92173</td>\n",
       "      <td>3</td>\n",
       "      <td>2.400000</td>\n",
       "      <td>2</td>\n",
       "      <td>176</td>\n",
       "      <td>0</td>\n",
       "      <td>0</td>\n",
       "      <td>0</td>\n",
       "      <td>1</td>\n",
       "      <td>0</td>\n",
       "    </tr>\n",
       "    <tr>\n",
       "      <th>540</th>\n",
       "      <td>541</td>\n",
       "      <td>25</td>\n",
       "      <td>-1</td>\n",
       "      <td>109</td>\n",
       "      <td>94010</td>\n",
       "      <td>4</td>\n",
       "      <td>2.300000</td>\n",
       "      <td>3</td>\n",
       "      <td>314</td>\n",
       "      <td>0</td>\n",
       "      <td>0</td>\n",
       "      <td>0</td>\n",
       "      <td>1</td>\n",
       "      <td>0</td>\n",
       "    </tr>\n",
       "    <tr>\n",
       "      <th>576</th>\n",
       "      <td>577</td>\n",
       "      <td>25</td>\n",
       "      <td>-1</td>\n",
       "      <td>48</td>\n",
       "      <td>92870</td>\n",
       "      <td>3</td>\n",
       "      <td>0.300000</td>\n",
       "      <td>3</td>\n",
       "      <td>0</td>\n",
       "      <td>0</td>\n",
       "      <td>0</td>\n",
       "      <td>0</td>\n",
       "      <td>0</td>\n",
       "      <td>1</td>\n",
       "    </tr>\n",
       "    <tr>\n",
       "      <th>583</th>\n",
       "      <td>584</td>\n",
       "      <td>24</td>\n",
       "      <td>-1</td>\n",
       "      <td>38</td>\n",
       "      <td>95045</td>\n",
       "      <td>2</td>\n",
       "      <td>1.700000</td>\n",
       "      <td>2</td>\n",
       "      <td>0</td>\n",
       "      <td>0</td>\n",
       "      <td>0</td>\n",
       "      <td>0</td>\n",
       "      <td>1</td>\n",
       "      <td>0</td>\n",
       "    </tr>\n",
       "    <tr>\n",
       "      <th>597</th>\n",
       "      <td>598</td>\n",
       "      <td>24</td>\n",
       "      <td>-2</td>\n",
       "      <td>125</td>\n",
       "      <td>92835</td>\n",
       "      <td>2</td>\n",
       "      <td>7.200000</td>\n",
       "      <td>1</td>\n",
       "      <td>0</td>\n",
       "      <td>0</td>\n",
       "      <td>1</td>\n",
       "      <td>0</td>\n",
       "      <td>0</td>\n",
       "      <td>1</td>\n",
       "    </tr>\n",
       "    <tr>\n",
       "      <th>649</th>\n",
       "      <td>650</td>\n",
       "      <td>25</td>\n",
       "      <td>-1</td>\n",
       "      <td>82</td>\n",
       "      <td>92677</td>\n",
       "      <td>4</td>\n",
       "      <td>2.100000</td>\n",
       "      <td>3</td>\n",
       "      <td>0</td>\n",
       "      <td>0</td>\n",
       "      <td>0</td>\n",
       "      <td>0</td>\n",
       "      <td>1</td>\n",
       "      <td>0</td>\n",
       "    </tr>\n",
       "    <tr>\n",
       "      <th>670</th>\n",
       "      <td>671</td>\n",
       "      <td>23</td>\n",
       "      <td>-1</td>\n",
       "      <td>61</td>\n",
       "      <td>92374</td>\n",
       "      <td>4</td>\n",
       "      <td>2.600000</td>\n",
       "      <td>1</td>\n",
       "      <td>239</td>\n",
       "      <td>0</td>\n",
       "      <td>0</td>\n",
       "      <td>0</td>\n",
       "      <td>1</td>\n",
       "      <td>0</td>\n",
       "    </tr>\n",
       "    <tr>\n",
       "      <th>686</th>\n",
       "      <td>687</td>\n",
       "      <td>24</td>\n",
       "      <td>-1</td>\n",
       "      <td>38</td>\n",
       "      <td>92612</td>\n",
       "      <td>4</td>\n",
       "      <td>0.600000</td>\n",
       "      <td>2</td>\n",
       "      <td>0</td>\n",
       "      <td>0</td>\n",
       "      <td>0</td>\n",
       "      <td>0</td>\n",
       "      <td>1</td>\n",
       "      <td>0</td>\n",
       "    </tr>\n",
       "    <tr>\n",
       "      <th>793</th>\n",
       "      <td>794</td>\n",
       "      <td>24</td>\n",
       "      <td>-2</td>\n",
       "      <td>150</td>\n",
       "      <td>94720</td>\n",
       "      <td>2</td>\n",
       "      <td>2.000000</td>\n",
       "      <td>1</td>\n",
       "      <td>0</td>\n",
       "      <td>0</td>\n",
       "      <td>0</td>\n",
       "      <td>0</td>\n",
       "      <td>1</td>\n",
       "      <td>0</td>\n",
       "    </tr>\n",
       "    <tr>\n",
       "      <th>889</th>\n",
       "      <td>890</td>\n",
       "      <td>24</td>\n",
       "      <td>-2</td>\n",
       "      <td>82</td>\n",
       "      <td>91103</td>\n",
       "      <td>2</td>\n",
       "      <td>1.600000</td>\n",
       "      <td>3</td>\n",
       "      <td>0</td>\n",
       "      <td>0</td>\n",
       "      <td>0</td>\n",
       "      <td>0</td>\n",
       "      <td>1</td>\n",
       "      <td>1</td>\n",
       "    </tr>\n",
       "    <tr>\n",
       "      <th>909</th>\n",
       "      <td>910</td>\n",
       "      <td>23</td>\n",
       "      <td>-1</td>\n",
       "      <td>149</td>\n",
       "      <td>91709</td>\n",
       "      <td>1</td>\n",
       "      <td>6.333333</td>\n",
       "      <td>1</td>\n",
       "      <td>305</td>\n",
       "      <td>0</td>\n",
       "      <td>0</td>\n",
       "      <td>0</td>\n",
       "      <td>0</td>\n",
       "      <td>1</td>\n",
       "    </tr>\n",
       "    <tr>\n",
       "      <th>1173</th>\n",
       "      <td>1174</td>\n",
       "      <td>24</td>\n",
       "      <td>-1</td>\n",
       "      <td>35</td>\n",
       "      <td>94305</td>\n",
       "      <td>2</td>\n",
       "      <td>1.700000</td>\n",
       "      <td>2</td>\n",
       "      <td>0</td>\n",
       "      <td>0</td>\n",
       "      <td>0</td>\n",
       "      <td>0</td>\n",
       "      <td>0</td>\n",
       "      <td>0</td>\n",
       "    </tr>\n",
       "    <tr>\n",
       "      <th>1428</th>\n",
       "      <td>1429</td>\n",
       "      <td>25</td>\n",
       "      <td>-1</td>\n",
       "      <td>21</td>\n",
       "      <td>94583</td>\n",
       "      <td>4</td>\n",
       "      <td>0.400000</td>\n",
       "      <td>1</td>\n",
       "      <td>90</td>\n",
       "      <td>0</td>\n",
       "      <td>0</td>\n",
       "      <td>0</td>\n",
       "      <td>1</td>\n",
       "      <td>0</td>\n",
       "    </tr>\n",
       "    <tr>\n",
       "      <th>1522</th>\n",
       "      <td>1523</td>\n",
       "      <td>25</td>\n",
       "      <td>-1</td>\n",
       "      <td>101</td>\n",
       "      <td>94720</td>\n",
       "      <td>4</td>\n",
       "      <td>2.300000</td>\n",
       "      <td>3</td>\n",
       "      <td>256</td>\n",
       "      <td>0</td>\n",
       "      <td>0</td>\n",
       "      <td>0</td>\n",
       "      <td>0</td>\n",
       "      <td>1</td>\n",
       "    </tr>\n",
       "    <tr>\n",
       "      <th>1905</th>\n",
       "      <td>1906</td>\n",
       "      <td>25</td>\n",
       "      <td>-1</td>\n",
       "      <td>112</td>\n",
       "      <td>92507</td>\n",
       "      <td>2</td>\n",
       "      <td>2.000000</td>\n",
       "      <td>1</td>\n",
       "      <td>241</td>\n",
       "      <td>0</td>\n",
       "      <td>0</td>\n",
       "      <td>0</td>\n",
       "      <td>1</td>\n",
       "      <td>0</td>\n",
       "    </tr>\n",
       "    <tr>\n",
       "      <th>2102</th>\n",
       "      <td>2103</td>\n",
       "      <td>25</td>\n",
       "      <td>-1</td>\n",
       "      <td>81</td>\n",
       "      <td>92647</td>\n",
       "      <td>2</td>\n",
       "      <td>1.600000</td>\n",
       "      <td>3</td>\n",
       "      <td>0</td>\n",
       "      <td>0</td>\n",
       "      <td>0</td>\n",
       "      <td>0</td>\n",
       "      <td>1</td>\n",
       "      <td>1</td>\n",
       "    </tr>\n",
       "    <tr>\n",
       "      <th>2430</th>\n",
       "      <td>2431</td>\n",
       "      <td>23</td>\n",
       "      <td>-1</td>\n",
       "      <td>73</td>\n",
       "      <td>92120</td>\n",
       "      <td>4</td>\n",
       "      <td>2.600000</td>\n",
       "      <td>1</td>\n",
       "      <td>0</td>\n",
       "      <td>0</td>\n",
       "      <td>0</td>\n",
       "      <td>0</td>\n",
       "      <td>1</td>\n",
       "      <td>0</td>\n",
       "    </tr>\n",
       "    <tr>\n",
       "      <th>2466</th>\n",
       "      <td>2467</td>\n",
       "      <td>24</td>\n",
       "      <td>-2</td>\n",
       "      <td>80</td>\n",
       "      <td>94105</td>\n",
       "      <td>2</td>\n",
       "      <td>1.600000</td>\n",
       "      <td>3</td>\n",
       "      <td>0</td>\n",
       "      <td>0</td>\n",
       "      <td>0</td>\n",
       "      <td>0</td>\n",
       "      <td>1</td>\n",
       "      <td>0</td>\n",
       "    </tr>\n",
       "    <tr>\n",
       "      <th>2545</th>\n",
       "      <td>2546</td>\n",
       "      <td>25</td>\n",
       "      <td>-1</td>\n",
       "      <td>39</td>\n",
       "      <td>94720</td>\n",
       "      <td>3</td>\n",
       "      <td>2.400000</td>\n",
       "      <td>2</td>\n",
       "      <td>0</td>\n",
       "      <td>0</td>\n",
       "      <td>0</td>\n",
       "      <td>0</td>\n",
       "      <td>1</td>\n",
       "      <td>0</td>\n",
       "    </tr>\n",
       "    <tr>\n",
       "      <th>2618</th>\n",
       "      <td>2619</td>\n",
       "      <td>23</td>\n",
       "      <td>-3</td>\n",
       "      <td>55</td>\n",
       "      <td>92704</td>\n",
       "      <td>3</td>\n",
       "      <td>2.400000</td>\n",
       "      <td>2</td>\n",
       "      <td>145</td>\n",
       "      <td>0</td>\n",
       "      <td>0</td>\n",
       "      <td>0</td>\n",
       "      <td>1</td>\n",
       "      <td>0</td>\n",
       "    </tr>\n",
       "    <tr>\n",
       "      <th>2717</th>\n",
       "      <td>2718</td>\n",
       "      <td>23</td>\n",
       "      <td>-2</td>\n",
       "      <td>45</td>\n",
       "      <td>95422</td>\n",
       "      <td>4</td>\n",
       "      <td>0.600000</td>\n",
       "      <td>2</td>\n",
       "      <td>0</td>\n",
       "      <td>0</td>\n",
       "      <td>0</td>\n",
       "      <td>0</td>\n",
       "      <td>1</td>\n",
       "      <td>1</td>\n",
       "    </tr>\n",
       "    <tr>\n",
       "      <th>2848</th>\n",
       "      <td>2849</td>\n",
       "      <td>24</td>\n",
       "      <td>-1</td>\n",
       "      <td>78</td>\n",
       "      <td>94720</td>\n",
       "      <td>2</td>\n",
       "      <td>1.800000</td>\n",
       "      <td>2</td>\n",
       "      <td>0</td>\n",
       "      <td>0</td>\n",
       "      <td>0</td>\n",
       "      <td>0</td>\n",
       "      <td>0</td>\n",
       "      <td>0</td>\n",
       "    </tr>\n",
       "    <tr>\n",
       "      <th>2876</th>\n",
       "      <td>2877</td>\n",
       "      <td>24</td>\n",
       "      <td>-2</td>\n",
       "      <td>80</td>\n",
       "      <td>91107</td>\n",
       "      <td>2</td>\n",
       "      <td>1.600000</td>\n",
       "      <td>3</td>\n",
       "      <td>238</td>\n",
       "      <td>0</td>\n",
       "      <td>0</td>\n",
       "      <td>0</td>\n",
       "      <td>0</td>\n",
       "      <td>0</td>\n",
       "    </tr>\n",
       "    <tr>\n",
       "      <th>2962</th>\n",
       "      <td>2963</td>\n",
       "      <td>23</td>\n",
       "      <td>-2</td>\n",
       "      <td>81</td>\n",
       "      <td>91711</td>\n",
       "      <td>2</td>\n",
       "      <td>1.800000</td>\n",
       "      <td>2</td>\n",
       "      <td>0</td>\n",
       "      <td>0</td>\n",
       "      <td>0</td>\n",
       "      <td>0</td>\n",
       "      <td>0</td>\n",
       "      <td>0</td>\n",
       "    </tr>\n",
       "    <tr>\n",
       "      <th>2980</th>\n",
       "      <td>2981</td>\n",
       "      <td>25</td>\n",
       "      <td>-1</td>\n",
       "      <td>53</td>\n",
       "      <td>94305</td>\n",
       "      <td>3</td>\n",
       "      <td>2.400000</td>\n",
       "      <td>2</td>\n",
       "      <td>0</td>\n",
       "      <td>0</td>\n",
       "      <td>0</td>\n",
       "      <td>0</td>\n",
       "      <td>0</td>\n",
       "      <td>0</td>\n",
       "    </tr>\n",
       "    <tr>\n",
       "      <th>3076</th>\n",
       "      <td>3077</td>\n",
       "      <td>29</td>\n",
       "      <td>-1</td>\n",
       "      <td>62</td>\n",
       "      <td>92672</td>\n",
       "      <td>2</td>\n",
       "      <td>1.750000</td>\n",
       "      <td>3</td>\n",
       "      <td>0</td>\n",
       "      <td>0</td>\n",
       "      <td>0</td>\n",
       "      <td>0</td>\n",
       "      <td>0</td>\n",
       "      <td>1</td>\n",
       "    </tr>\n",
       "    <tr>\n",
       "      <th>3130</th>\n",
       "      <td>3131</td>\n",
       "      <td>23</td>\n",
       "      <td>-2</td>\n",
       "      <td>82</td>\n",
       "      <td>92152</td>\n",
       "      <td>2</td>\n",
       "      <td>1.800000</td>\n",
       "      <td>2</td>\n",
       "      <td>0</td>\n",
       "      <td>0</td>\n",
       "      <td>1</td>\n",
       "      <td>0</td>\n",
       "      <td>0</td>\n",
       "      <td>1</td>\n",
       "    </tr>\n",
       "    <tr>\n",
       "      <th>3157</th>\n",
       "      <td>3158</td>\n",
       "      <td>23</td>\n",
       "      <td>-1</td>\n",
       "      <td>13</td>\n",
       "      <td>94720</td>\n",
       "      <td>4</td>\n",
       "      <td>1.000000</td>\n",
       "      <td>1</td>\n",
       "      <td>84</td>\n",
       "      <td>0</td>\n",
       "      <td>0</td>\n",
       "      <td>0</td>\n",
       "      <td>1</td>\n",
       "      <td>0</td>\n",
       "    </tr>\n",
       "    <tr>\n",
       "      <th>3279</th>\n",
       "      <td>3280</td>\n",
       "      <td>26</td>\n",
       "      <td>-1</td>\n",
       "      <td>44</td>\n",
       "      <td>94901</td>\n",
       "      <td>1</td>\n",
       "      <td>2.000000</td>\n",
       "      <td>2</td>\n",
       "      <td>0</td>\n",
       "      <td>0</td>\n",
       "      <td>0</td>\n",
       "      <td>0</td>\n",
       "      <td>0</td>\n",
       "      <td>0</td>\n",
       "    </tr>\n",
       "    <tr>\n",
       "      <th>3284</th>\n",
       "      <td>3285</td>\n",
       "      <td>25</td>\n",
       "      <td>-1</td>\n",
       "      <td>101</td>\n",
       "      <td>95819</td>\n",
       "      <td>4</td>\n",
       "      <td>2.100000</td>\n",
       "      <td>3</td>\n",
       "      <td>0</td>\n",
       "      <td>0</td>\n",
       "      <td>0</td>\n",
       "      <td>0</td>\n",
       "      <td>0</td>\n",
       "      <td>1</td>\n",
       "    </tr>\n",
       "    <tr>\n",
       "      <th>3292</th>\n",
       "      <td>3293</td>\n",
       "      <td>25</td>\n",
       "      <td>-1</td>\n",
       "      <td>13</td>\n",
       "      <td>95616</td>\n",
       "      <td>4</td>\n",
       "      <td>0.400000</td>\n",
       "      <td>1</td>\n",
       "      <td>0</td>\n",
       "      <td>0</td>\n",
       "      <td>1</td>\n",
       "      <td>0</td>\n",
       "      <td>0</td>\n",
       "      <td>0</td>\n",
       "    </tr>\n",
       "    <tr>\n",
       "      <th>3394</th>\n",
       "      <td>3395</td>\n",
       "      <td>25</td>\n",
       "      <td>-1</td>\n",
       "      <td>113</td>\n",
       "      <td>90089</td>\n",
       "      <td>4</td>\n",
       "      <td>2.100000</td>\n",
       "      <td>3</td>\n",
       "      <td>0</td>\n",
       "      <td>0</td>\n",
       "      <td>0</td>\n",
       "      <td>0</td>\n",
       "      <td>1</td>\n",
       "      <td>0</td>\n",
       "    </tr>\n",
       "    <tr>\n",
       "      <th>3425</th>\n",
       "      <td>3426</td>\n",
       "      <td>23</td>\n",
       "      <td>-1</td>\n",
       "      <td>12</td>\n",
       "      <td>91605</td>\n",
       "      <td>4</td>\n",
       "      <td>1.000000</td>\n",
       "      <td>1</td>\n",
       "      <td>90</td>\n",
       "      <td>0</td>\n",
       "      <td>0</td>\n",
       "      <td>0</td>\n",
       "      <td>1</td>\n",
       "      <td>0</td>\n",
       "    </tr>\n",
       "    <tr>\n",
       "      <th>3626</th>\n",
       "      <td>3627</td>\n",
       "      <td>24</td>\n",
       "      <td>-3</td>\n",
       "      <td>28</td>\n",
       "      <td>90089</td>\n",
       "      <td>4</td>\n",
       "      <td>1.000000</td>\n",
       "      <td>3</td>\n",
       "      <td>0</td>\n",
       "      <td>0</td>\n",
       "      <td>0</td>\n",
       "      <td>0</td>\n",
       "      <td>0</td>\n",
       "      <td>0</td>\n",
       "    </tr>\n",
       "    <tr>\n",
       "      <th>3796</th>\n",
       "      <td>3797</td>\n",
       "      <td>24</td>\n",
       "      <td>-2</td>\n",
       "      <td>50</td>\n",
       "      <td>94920</td>\n",
       "      <td>3</td>\n",
       "      <td>2.400000</td>\n",
       "      <td>2</td>\n",
       "      <td>0</td>\n",
       "      <td>0</td>\n",
       "      <td>1</td>\n",
       "      <td>0</td>\n",
       "      <td>0</td>\n",
       "      <td>0</td>\n",
       "    </tr>\n",
       "    <tr>\n",
       "      <th>3824</th>\n",
       "      <td>3825</td>\n",
       "      <td>23</td>\n",
       "      <td>-1</td>\n",
       "      <td>12</td>\n",
       "      <td>95064</td>\n",
       "      <td>4</td>\n",
       "      <td>1.000000</td>\n",
       "      <td>1</td>\n",
       "      <td>0</td>\n",
       "      <td>0</td>\n",
       "      <td>1</td>\n",
       "      <td>0</td>\n",
       "      <td>0</td>\n",
       "      <td>1</td>\n",
       "    </tr>\n",
       "    <tr>\n",
       "      <th>3887</th>\n",
       "      <td>3888</td>\n",
       "      <td>24</td>\n",
       "      <td>-2</td>\n",
       "      <td>118</td>\n",
       "      <td>92634</td>\n",
       "      <td>2</td>\n",
       "      <td>7.200000</td>\n",
       "      <td>1</td>\n",
       "      <td>0</td>\n",
       "      <td>0</td>\n",
       "      <td>1</td>\n",
       "      <td>0</td>\n",
       "      <td>1</td>\n",
       "      <td>0</td>\n",
       "    </tr>\n",
       "    <tr>\n",
       "      <th>3946</th>\n",
       "      <td>3947</td>\n",
       "      <td>25</td>\n",
       "      <td>-1</td>\n",
       "      <td>40</td>\n",
       "      <td>93117</td>\n",
       "      <td>3</td>\n",
       "      <td>2.400000</td>\n",
       "      <td>2</td>\n",
       "      <td>0</td>\n",
       "      <td>0</td>\n",
       "      <td>0</td>\n",
       "      <td>0</td>\n",
       "      <td>1</td>\n",
       "      <td>0</td>\n",
       "    </tr>\n",
       "    <tr>\n",
       "      <th>4015</th>\n",
       "      <td>4016</td>\n",
       "      <td>25</td>\n",
       "      <td>-1</td>\n",
       "      <td>139</td>\n",
       "      <td>93106</td>\n",
       "      <td>2</td>\n",
       "      <td>2.000000</td>\n",
       "      <td>1</td>\n",
       "      <td>0</td>\n",
       "      <td>0</td>\n",
       "      <td>0</td>\n",
       "      <td>0</td>\n",
       "      <td>0</td>\n",
       "      <td>1</td>\n",
       "    </tr>\n",
       "    <tr>\n",
       "      <th>4088</th>\n",
       "      <td>4089</td>\n",
       "      <td>29</td>\n",
       "      <td>-1</td>\n",
       "      <td>71</td>\n",
       "      <td>94801</td>\n",
       "      <td>2</td>\n",
       "      <td>1.750000</td>\n",
       "      <td>3</td>\n",
       "      <td>0</td>\n",
       "      <td>0</td>\n",
       "      <td>0</td>\n",
       "      <td>0</td>\n",
       "      <td>0</td>\n",
       "      <td>0</td>\n",
       "    </tr>\n",
       "    <tr>\n",
       "      <th>4116</th>\n",
       "      <td>4117</td>\n",
       "      <td>24</td>\n",
       "      <td>-2</td>\n",
       "      <td>135</td>\n",
       "      <td>90065</td>\n",
       "      <td>2</td>\n",
       "      <td>7.200000</td>\n",
       "      <td>1</td>\n",
       "      <td>0</td>\n",
       "      <td>0</td>\n",
       "      <td>0</td>\n",
       "      <td>0</td>\n",
       "      <td>1</td>\n",
       "      <td>0</td>\n",
       "    </tr>\n",
       "    <tr>\n",
       "      <th>4285</th>\n",
       "      <td>4286</td>\n",
       "      <td>23</td>\n",
       "      <td>-3</td>\n",
       "      <td>149</td>\n",
       "      <td>93555</td>\n",
       "      <td>2</td>\n",
       "      <td>7.200000</td>\n",
       "      <td>1</td>\n",
       "      <td>0</td>\n",
       "      <td>0</td>\n",
       "      <td>0</td>\n",
       "      <td>0</td>\n",
       "      <td>1</td>\n",
       "      <td>0</td>\n",
       "    </tr>\n",
       "    <tr>\n",
       "      <th>4411</th>\n",
       "      <td>4412</td>\n",
       "      <td>23</td>\n",
       "      <td>-2</td>\n",
       "      <td>75</td>\n",
       "      <td>90291</td>\n",
       "      <td>2</td>\n",
       "      <td>1.800000</td>\n",
       "      <td>2</td>\n",
       "      <td>0</td>\n",
       "      <td>0</td>\n",
       "      <td>0</td>\n",
       "      <td>0</td>\n",
       "      <td>1</td>\n",
       "      <td>1</td>\n",
       "    </tr>\n",
       "    <tr>\n",
       "      <th>4481</th>\n",
       "      <td>4482</td>\n",
       "      <td>25</td>\n",
       "      <td>-2</td>\n",
       "      <td>35</td>\n",
       "      <td>95045</td>\n",
       "      <td>4</td>\n",
       "      <td>1.000000</td>\n",
       "      <td>3</td>\n",
       "      <td>0</td>\n",
       "      <td>0</td>\n",
       "      <td>0</td>\n",
       "      <td>0</td>\n",
       "      <td>1</td>\n",
       "      <td>0</td>\n",
       "    </tr>\n",
       "    <tr>\n",
       "      <th>4514</th>\n",
       "      <td>4515</td>\n",
       "      <td>24</td>\n",
       "      <td>-3</td>\n",
       "      <td>41</td>\n",
       "      <td>91768</td>\n",
       "      <td>4</td>\n",
       "      <td>1.000000</td>\n",
       "      <td>3</td>\n",
       "      <td>0</td>\n",
       "      <td>0</td>\n",
       "      <td>0</td>\n",
       "      <td>0</td>\n",
       "      <td>1</td>\n",
       "      <td>0</td>\n",
       "    </tr>\n",
       "    <tr>\n",
       "      <th>4582</th>\n",
       "      <td>4583</td>\n",
       "      <td>25</td>\n",
       "      <td>-1</td>\n",
       "      <td>69</td>\n",
       "      <td>92691</td>\n",
       "      <td>3</td>\n",
       "      <td>0.300000</td>\n",
       "      <td>3</td>\n",
       "      <td>0</td>\n",
       "      <td>0</td>\n",
       "      <td>0</td>\n",
       "      <td>0</td>\n",
       "      <td>1</td>\n",
       "      <td>0</td>\n",
       "    </tr>\n",
       "    <tr>\n",
       "      <th>4957</th>\n",
       "      <td>4958</td>\n",
       "      <td>29</td>\n",
       "      <td>-1</td>\n",
       "      <td>50</td>\n",
       "      <td>95842</td>\n",
       "      <td>2</td>\n",
       "      <td>1.750000</td>\n",
       "      <td>3</td>\n",
       "      <td>0</td>\n",
       "      <td>0</td>\n",
       "      <td>0</td>\n",
       "      <td>0</td>\n",
       "      <td>0</td>\n",
       "      <td>1</td>\n",
       "    </tr>\n",
       "  </tbody>\n",
       "</table>\n",
       "</div>"
      ],
      "text/plain": [
       "        ID  Age  Experience  Income  ZIP Code  Family     CCAvg  Education  \\\n",
       "89      90   25          -1     113     94303       4  2.300000          3   \n",
       "226    227   24          -1      39     94085       2  1.700000          2   \n",
       "315    316   24          -2      51     90630       3  0.300000          3   \n",
       "451    452   28          -2      48     94132       2  1.750000          3   \n",
       "524    525   24          -1      75     93014       4  0.200000          1   \n",
       "536    537   25          -1      43     92173       3  2.400000          2   \n",
       "540    541   25          -1     109     94010       4  2.300000          3   \n",
       "576    577   25          -1      48     92870       3  0.300000          3   \n",
       "583    584   24          -1      38     95045       2  1.700000          2   \n",
       "597    598   24          -2     125     92835       2  7.200000          1   \n",
       "649    650   25          -1      82     92677       4  2.100000          3   \n",
       "670    671   23          -1      61     92374       4  2.600000          1   \n",
       "686    687   24          -1      38     92612       4  0.600000          2   \n",
       "793    794   24          -2     150     94720       2  2.000000          1   \n",
       "889    890   24          -2      82     91103       2  1.600000          3   \n",
       "909    910   23          -1     149     91709       1  6.333333          1   \n",
       "1173  1174   24          -1      35     94305       2  1.700000          2   \n",
       "1428  1429   25          -1      21     94583       4  0.400000          1   \n",
       "1522  1523   25          -1     101     94720       4  2.300000          3   \n",
       "1905  1906   25          -1     112     92507       2  2.000000          1   \n",
       "2102  2103   25          -1      81     92647       2  1.600000          3   \n",
       "2430  2431   23          -1      73     92120       4  2.600000          1   \n",
       "2466  2467   24          -2      80     94105       2  1.600000          3   \n",
       "2545  2546   25          -1      39     94720       3  2.400000          2   \n",
       "2618  2619   23          -3      55     92704       3  2.400000          2   \n",
       "2717  2718   23          -2      45     95422       4  0.600000          2   \n",
       "2848  2849   24          -1      78     94720       2  1.800000          2   \n",
       "2876  2877   24          -2      80     91107       2  1.600000          3   \n",
       "2962  2963   23          -2      81     91711       2  1.800000          2   \n",
       "2980  2981   25          -1      53     94305       3  2.400000          2   \n",
       "3076  3077   29          -1      62     92672       2  1.750000          3   \n",
       "3130  3131   23          -2      82     92152       2  1.800000          2   \n",
       "3157  3158   23          -1      13     94720       4  1.000000          1   \n",
       "3279  3280   26          -1      44     94901       1  2.000000          2   \n",
       "3284  3285   25          -1     101     95819       4  2.100000          3   \n",
       "3292  3293   25          -1      13     95616       4  0.400000          1   \n",
       "3394  3395   25          -1     113     90089       4  2.100000          3   \n",
       "3425  3426   23          -1      12     91605       4  1.000000          1   \n",
       "3626  3627   24          -3      28     90089       4  1.000000          3   \n",
       "3796  3797   24          -2      50     94920       3  2.400000          2   \n",
       "3824  3825   23          -1      12     95064       4  1.000000          1   \n",
       "3887  3888   24          -2     118     92634       2  7.200000          1   \n",
       "3946  3947   25          -1      40     93117       3  2.400000          2   \n",
       "4015  4016   25          -1     139     93106       2  2.000000          1   \n",
       "4088  4089   29          -1      71     94801       2  1.750000          3   \n",
       "4116  4117   24          -2     135     90065       2  7.200000          1   \n",
       "4285  4286   23          -3     149     93555       2  7.200000          1   \n",
       "4411  4412   23          -2      75     90291       2  1.800000          2   \n",
       "4481  4482   25          -2      35     95045       4  1.000000          3   \n",
       "4514  4515   24          -3      41     91768       4  1.000000          3   \n",
       "4582  4583   25          -1      69     92691       3  0.300000          3   \n",
       "4957  4958   29          -1      50     95842       2  1.750000          3   \n",
       "\n",
       "      Mortgage  Personal Loan  Securities Account  CD Account  Online  \\\n",
       "89           0              0                   0           0       0   \n",
       "226          0              0                   0           0       0   \n",
       "315          0              0                   0           0       1   \n",
       "451         89              0                   0           0       1   \n",
       "524          0              0                   0           0       1   \n",
       "536        176              0                   0           0       1   \n",
       "540        314              0                   0           0       1   \n",
       "576          0              0                   0           0       0   \n",
       "583          0              0                   0           0       1   \n",
       "597          0              0                   1           0       0   \n",
       "649          0              0                   0           0       1   \n",
       "670        239              0                   0           0       1   \n",
       "686          0              0                   0           0       1   \n",
       "793          0              0                   0           0       1   \n",
       "889          0              0                   0           0       1   \n",
       "909        305              0                   0           0       0   \n",
       "1173         0              0                   0           0       0   \n",
       "1428        90              0                   0           0       1   \n",
       "1522       256              0                   0           0       0   \n",
       "1905       241              0                   0           0       1   \n",
       "2102         0              0                   0           0       1   \n",
       "2430         0              0                   0           0       1   \n",
       "2466         0              0                   0           0       1   \n",
       "2545         0              0                   0           0       1   \n",
       "2618       145              0                   0           0       1   \n",
       "2717         0              0                   0           0       1   \n",
       "2848         0              0                   0           0       0   \n",
       "2876       238              0                   0           0       0   \n",
       "2962         0              0                   0           0       0   \n",
       "2980         0              0                   0           0       0   \n",
       "3076         0              0                   0           0       0   \n",
       "3130         0              0                   1           0       0   \n",
       "3157        84              0                   0           0       1   \n",
       "3279         0              0                   0           0       0   \n",
       "3284         0              0                   0           0       0   \n",
       "3292         0              0                   1           0       0   \n",
       "3394         0              0                   0           0       1   \n",
       "3425        90              0                   0           0       1   \n",
       "3626         0              0                   0           0       0   \n",
       "3796         0              0                   1           0       0   \n",
       "3824         0              0                   1           0       0   \n",
       "3887         0              0                   1           0       1   \n",
       "3946         0              0                   0           0       1   \n",
       "4015         0              0                   0           0       0   \n",
       "4088         0              0                   0           0       0   \n",
       "4116         0              0                   0           0       1   \n",
       "4285         0              0                   0           0       1   \n",
       "4411         0              0                   0           0       1   \n",
       "4481         0              0                   0           0       1   \n",
       "4514         0              0                   0           0       1   \n",
       "4582         0              0                   0           0       1   \n",
       "4957         0              0                   0           0       0   \n",
       "\n",
       "      CreditCard  \n",
       "89             1  \n",
       "226            0  \n",
       "315            0  \n",
       "451            0  \n",
       "524            0  \n",
       "536            0  \n",
       "540            0  \n",
       "576            1  \n",
       "583            0  \n",
       "597            1  \n",
       "649            0  \n",
       "670            0  \n",
       "686            0  \n",
       "793            0  \n",
       "889            1  \n",
       "909            1  \n",
       "1173           0  \n",
       "1428           0  \n",
       "1522           1  \n",
       "1905           0  \n",
       "2102           1  \n",
       "2430           0  \n",
       "2466           0  \n",
       "2545           0  \n",
       "2618           0  \n",
       "2717           1  \n",
       "2848           0  \n",
       "2876           0  \n",
       "2962           0  \n",
       "2980           0  \n",
       "3076           1  \n",
       "3130           1  \n",
       "3157           0  \n",
       "3279           0  \n",
       "3284           1  \n",
       "3292           0  \n",
       "3394           0  \n",
       "3425           0  \n",
       "3626           0  \n",
       "3796           0  \n",
       "3824           1  \n",
       "3887           0  \n",
       "3946           0  \n",
       "4015           1  \n",
       "4088           0  \n",
       "4116           0  \n",
       "4285           0  \n",
       "4411           1  \n",
       "4481           0  \n",
       "4514           0  \n",
       "4582           0  \n",
       "4957           1  "
      ]
     },
     "execution_count": 49,
     "metadata": {},
     "output_type": "execute_result"
    }
   ],
   "source": [
    "# \n",
    "df[df['Experience']<0]"
   ]
  },
  {
   "cell_type": "code",
   "execution_count": 28,
   "metadata": {},
   "outputs": [],
   "source": [
    "# Impute Experience as 2, if values are negative"
   ]
  },
  {
   "cell_type": "code",
   "execution_count": 36,
   "metadata": {},
   "outputs": [],
   "source": [
    "#df_v1=df[df['Experience']>=-1]"
   ]
  },
  {
   "cell_type": "code",
   "execution_count": 44,
   "metadata": {},
   "outputs": [
    {
     "data": {
      "text/plain": [
       "array([ 1, 19, 15,  9,  8, 13, 27, 24, 10, 39,  5, 23, 32, 41, 30, 14, 18,\n",
       "       21, 28, 31, 11, 16, 20, 35,  6, 25,  7, 12, 26, 37, 17,  2, 36, 29,\n",
       "        3, 22, -1, 34,  0, 38, 40, 33,  4, -2, 42, 43], dtype=int64)"
      ]
     },
     "execution_count": 44,
     "metadata": {},
     "output_type": "execute_result"
    }
   ],
   "source": [
    "#df_v2['Experience'].unique()"
   ]
  },
  {
   "cell_type": "code",
   "execution_count": 50,
   "metadata": {},
   "outputs": [],
   "source": [
    "from sklearn.impute import KNNImputer"
   ]
  },
  {
   "cell_type": "code",
   "execution_count": 68,
   "metadata": {},
   "outputs": [],
   "source": [
    "impute=KNNImputer(missing_values=-1,n_neighbors=5)\n",
    "df_new3=pd.DataFrame(impute.fit_transform(df_new2), columns=df.columns)\n"
   ]
  },
  {
   "cell_type": "code",
   "execution_count": 69,
   "metadata": {},
   "outputs": [
    {
     "data": {
      "text/html": [
       "<div>\n",
       "<style scoped>\n",
       "    .dataframe tbody tr th:only-of-type {\n",
       "        vertical-align: middle;\n",
       "    }\n",
       "\n",
       "    .dataframe tbody tr th {\n",
       "        vertical-align: top;\n",
       "    }\n",
       "\n",
       "    .dataframe thead th {\n",
       "        text-align: right;\n",
       "    }\n",
       "</style>\n",
       "<table border=\"1\" class=\"dataframe\">\n",
       "  <thead>\n",
       "    <tr style=\"text-align: right;\">\n",
       "      <th></th>\n",
       "      <th>ID</th>\n",
       "      <th>Age</th>\n",
       "      <th>Experience</th>\n",
       "      <th>Income</th>\n",
       "      <th>ZIP Code</th>\n",
       "      <th>Family</th>\n",
       "      <th>CCAvg</th>\n",
       "      <th>Education</th>\n",
       "      <th>Mortgage</th>\n",
       "      <th>Personal Loan</th>\n",
       "      <th>Securities Account</th>\n",
       "      <th>CD Account</th>\n",
       "      <th>Online</th>\n",
       "      <th>CreditCard</th>\n",
       "    </tr>\n",
       "  </thead>\n",
       "  <tbody>\n",
       "    <tr>\n",
       "      <th>0</th>\n",
       "      <td>1.0</td>\n",
       "      <td>25.0</td>\n",
       "      <td>1.0</td>\n",
       "      <td>49.0</td>\n",
       "      <td>91107.0</td>\n",
       "      <td>4.0</td>\n",
       "      <td>1.6</td>\n",
       "      <td>1.0</td>\n",
       "      <td>0.0</td>\n",
       "      <td>0.0</td>\n",
       "      <td>1.0</td>\n",
       "      <td>0.0</td>\n",
       "      <td>0.0</td>\n",
       "      <td>0.0</td>\n",
       "    </tr>\n",
       "    <tr>\n",
       "      <th>1</th>\n",
       "      <td>2.0</td>\n",
       "      <td>45.0</td>\n",
       "      <td>19.0</td>\n",
       "      <td>34.0</td>\n",
       "      <td>90089.0</td>\n",
       "      <td>3.0</td>\n",
       "      <td>1.5</td>\n",
       "      <td>1.0</td>\n",
       "      <td>0.0</td>\n",
       "      <td>0.0</td>\n",
       "      <td>1.0</td>\n",
       "      <td>0.0</td>\n",
       "      <td>0.0</td>\n",
       "      <td>0.0</td>\n",
       "    </tr>\n",
       "    <tr>\n",
       "      <th>2</th>\n",
       "      <td>3.0</td>\n",
       "      <td>39.0</td>\n",
       "      <td>15.0</td>\n",
       "      <td>11.0</td>\n",
       "      <td>94720.0</td>\n",
       "      <td>1.0</td>\n",
       "      <td>1.0</td>\n",
       "      <td>1.0</td>\n",
       "      <td>0.0</td>\n",
       "      <td>0.0</td>\n",
       "      <td>0.0</td>\n",
       "      <td>0.0</td>\n",
       "      <td>0.0</td>\n",
       "      <td>0.0</td>\n",
       "    </tr>\n",
       "    <tr>\n",
       "      <th>3</th>\n",
       "      <td>4.0</td>\n",
       "      <td>35.0</td>\n",
       "      <td>9.0</td>\n",
       "      <td>100.0</td>\n",
       "      <td>94112.0</td>\n",
       "      <td>1.0</td>\n",
       "      <td>2.7</td>\n",
       "      <td>2.0</td>\n",
       "      <td>0.0</td>\n",
       "      <td>0.0</td>\n",
       "      <td>0.0</td>\n",
       "      <td>0.0</td>\n",
       "      <td>0.0</td>\n",
       "      <td>0.0</td>\n",
       "    </tr>\n",
       "    <tr>\n",
       "      <th>4</th>\n",
       "      <td>5.0</td>\n",
       "      <td>35.0</td>\n",
       "      <td>8.0</td>\n",
       "      <td>45.0</td>\n",
       "      <td>91330.0</td>\n",
       "      <td>4.0</td>\n",
       "      <td>1.0</td>\n",
       "      <td>2.0</td>\n",
       "      <td>0.0</td>\n",
       "      <td>0.0</td>\n",
       "      <td>0.0</td>\n",
       "      <td>0.0</td>\n",
       "      <td>0.0</td>\n",
       "      <td>1.0</td>\n",
       "    </tr>\n",
       "    <tr>\n",
       "      <th>...</th>\n",
       "      <td>...</td>\n",
       "      <td>...</td>\n",
       "      <td>...</td>\n",
       "      <td>...</td>\n",
       "      <td>...</td>\n",
       "      <td>...</td>\n",
       "      <td>...</td>\n",
       "      <td>...</td>\n",
       "      <td>...</td>\n",
       "      <td>...</td>\n",
       "      <td>...</td>\n",
       "      <td>...</td>\n",
       "      <td>...</td>\n",
       "      <td>...</td>\n",
       "    </tr>\n",
       "    <tr>\n",
       "      <th>4995</th>\n",
       "      <td>4996.0</td>\n",
       "      <td>29.0</td>\n",
       "      <td>3.0</td>\n",
       "      <td>40.0</td>\n",
       "      <td>92697.0</td>\n",
       "      <td>1.0</td>\n",
       "      <td>1.9</td>\n",
       "      <td>3.0</td>\n",
       "      <td>0.0</td>\n",
       "      <td>0.0</td>\n",
       "      <td>0.0</td>\n",
       "      <td>0.0</td>\n",
       "      <td>1.0</td>\n",
       "      <td>0.0</td>\n",
       "    </tr>\n",
       "    <tr>\n",
       "      <th>4996</th>\n",
       "      <td>4997.0</td>\n",
       "      <td>30.0</td>\n",
       "      <td>4.0</td>\n",
       "      <td>15.0</td>\n",
       "      <td>92037.0</td>\n",
       "      <td>4.0</td>\n",
       "      <td>0.4</td>\n",
       "      <td>1.0</td>\n",
       "      <td>85.0</td>\n",
       "      <td>0.0</td>\n",
       "      <td>0.0</td>\n",
       "      <td>0.0</td>\n",
       "      <td>1.0</td>\n",
       "      <td>0.0</td>\n",
       "    </tr>\n",
       "    <tr>\n",
       "      <th>4997</th>\n",
       "      <td>4998.0</td>\n",
       "      <td>63.0</td>\n",
       "      <td>39.0</td>\n",
       "      <td>24.0</td>\n",
       "      <td>93023.0</td>\n",
       "      <td>2.0</td>\n",
       "      <td>0.3</td>\n",
       "      <td>3.0</td>\n",
       "      <td>0.0</td>\n",
       "      <td>0.0</td>\n",
       "      <td>0.0</td>\n",
       "      <td>0.0</td>\n",
       "      <td>0.0</td>\n",
       "      <td>0.0</td>\n",
       "    </tr>\n",
       "    <tr>\n",
       "      <th>4998</th>\n",
       "      <td>4999.0</td>\n",
       "      <td>65.0</td>\n",
       "      <td>40.0</td>\n",
       "      <td>49.0</td>\n",
       "      <td>90034.0</td>\n",
       "      <td>3.0</td>\n",
       "      <td>0.5</td>\n",
       "      <td>2.0</td>\n",
       "      <td>0.0</td>\n",
       "      <td>0.0</td>\n",
       "      <td>0.0</td>\n",
       "      <td>0.0</td>\n",
       "      <td>1.0</td>\n",
       "      <td>0.0</td>\n",
       "    </tr>\n",
       "    <tr>\n",
       "      <th>4999</th>\n",
       "      <td>5000.0</td>\n",
       "      <td>28.0</td>\n",
       "      <td>4.0</td>\n",
       "      <td>83.0</td>\n",
       "      <td>92612.0</td>\n",
       "      <td>3.0</td>\n",
       "      <td>0.8</td>\n",
       "      <td>1.0</td>\n",
       "      <td>0.0</td>\n",
       "      <td>0.0</td>\n",
       "      <td>0.0</td>\n",
       "      <td>0.0</td>\n",
       "      <td>1.0</td>\n",
       "      <td>1.0</td>\n",
       "    </tr>\n",
       "  </tbody>\n",
       "</table>\n",
       "<p>5000 rows × 14 columns</p>\n",
       "</div>"
      ],
      "text/plain": [
       "          ID   Age  Experience  Income  ZIP Code  Family  CCAvg  Education  \\\n",
       "0        1.0  25.0         1.0    49.0   91107.0     4.0    1.6        1.0   \n",
       "1        2.0  45.0        19.0    34.0   90089.0     3.0    1.5        1.0   \n",
       "2        3.0  39.0        15.0    11.0   94720.0     1.0    1.0        1.0   \n",
       "3        4.0  35.0         9.0   100.0   94112.0     1.0    2.7        2.0   \n",
       "4        5.0  35.0         8.0    45.0   91330.0     4.0    1.0        2.0   \n",
       "...      ...   ...         ...     ...       ...     ...    ...        ...   \n",
       "4995  4996.0  29.0         3.0    40.0   92697.0     1.0    1.9        3.0   \n",
       "4996  4997.0  30.0         4.0    15.0   92037.0     4.0    0.4        1.0   \n",
       "4997  4998.0  63.0        39.0    24.0   93023.0     2.0    0.3        3.0   \n",
       "4998  4999.0  65.0        40.0    49.0   90034.0     3.0    0.5        2.0   \n",
       "4999  5000.0  28.0         4.0    83.0   92612.0     3.0    0.8        1.0   \n",
       "\n",
       "      Mortgage  Personal Loan  Securities Account  CD Account  Online  \\\n",
       "0          0.0            0.0                 1.0         0.0     0.0   \n",
       "1          0.0            0.0                 1.0         0.0     0.0   \n",
       "2          0.0            0.0                 0.0         0.0     0.0   \n",
       "3          0.0            0.0                 0.0         0.0     0.0   \n",
       "4          0.0            0.0                 0.0         0.0     0.0   \n",
       "...        ...            ...                 ...         ...     ...   \n",
       "4995       0.0            0.0                 0.0         0.0     1.0   \n",
       "4996      85.0            0.0                 0.0         0.0     1.0   \n",
       "4997       0.0            0.0                 0.0         0.0     0.0   \n",
       "4998       0.0            0.0                 0.0         0.0     1.0   \n",
       "4999       0.0            0.0                 0.0         0.0     1.0   \n",
       "\n",
       "      CreditCard  \n",
       "0            0.0  \n",
       "1            0.0  \n",
       "2            0.0  \n",
       "3            0.0  \n",
       "4            1.0  \n",
       "...          ...  \n",
       "4995         0.0  \n",
       "4996         0.0  \n",
       "4997         0.0  \n",
       "4998         0.0  \n",
       "4999         1.0  \n",
       "\n",
       "[5000 rows x 14 columns]"
      ]
     },
     "execution_count": 69,
     "metadata": {},
     "output_type": "execute_result"
    }
   ],
   "source": [
    "df_new3"
   ]
  },
  {
   "cell_type": "code",
   "execution_count": 70,
   "metadata": {},
   "outputs": [
    {
     "data": {
      "text/plain": [
       "array([ 1.  , 19.  , 15.  ,  9.  ,  8.  , 13.  , 27.  , 24.  , 10.  ,\n",
       "       39.  ,  5.  , 23.  , 32.  , 41.  , 30.  , 14.  , 18.  , 21.  ,\n",
       "       28.  , 31.  , 11.  , 16.  , 20.  , 35.  ,  6.  , 25.  ,  7.  ,\n",
       "       12.  , 26.  , 37.  , 17.  ,  2.  , 36.  , 29.  ,  3.  , 22.  ,\n",
       "       15.4 , 34.  ,  0.  , 38.  , 40.  , 33.  ,  4.  , 15.8 , 11.2 ,\n",
       "       16.2 , 42.  , 16.8 , 17.4 , 12.44, 15.2 , 10.2 , 10.6 , 15.6 ,\n",
       "       28.2 , 24.6 , 25.8 ,  9.2 , 13.4 , 21.2 , 21.4 , 17.8 , -3.  ,\n",
       "       31.2 , 43.  , 19.6 , 26.8 , 22.6 , 18.4 , 21.8 , 27.4 , 23.4 ,\n",
       "       16.4 , 14.6 , 22.4 , 26.6 , 13.8 , 21.6 ,  8.2 ])"
      ]
     },
     "execution_count": 70,
     "metadata": {},
     "output_type": "execute_result"
    }
   ],
   "source": [
    "df_new3['Experience'].unique()"
   ]
  },
  {
   "cell_type": "code",
   "execution_count": 43,
   "metadata": {},
   "outputs": [],
   "source": [
    "df_v2=df[df['Experience']>=-2]"
   ]
  },
  {
   "cell_type": "code",
   "execution_count": 29,
   "metadata": {},
   "outputs": [],
   "source": [
    "\n",
    "df[\"Experience\"].replace(to_replace=[-1,-2,-3],value=2,inplace=True)"
   ]
  },
  {
   "cell_type": "markdown",
   "metadata": {},
   "source": [
    "* There is no relationship with people who have taken Mortrage and personal loan"
   ]
  },
  {
   "cell_type": "markdown",
   "metadata": {},
   "source": [
    "# Inference from EDA"
   ]
  },
  {
   "cell_type": "markdown",
   "metadata": {},
   "source": [
    "* Age feature is normally distributed with majority of customers falling between 30 years and 60 years of age. We can confirm this by looking at the describe statement above, which shows mean is almost equal to median\n",
    "* Experience is normally distributed with more customer having experience starting from 8 years. Here the mean is equal to median. There are negative values in the Experience. This could be a data input error as in general it is not possible to measure negative years of experience. We can delete these values, because we have 3 or 4 records from the sample.\n",
    "* Income is positively skewed. Majority of the customers have income between 45K and 55K. We can confirm this by saying the mean is greater than the median\n",
    "* CCAvg is also a positively skewed variable and average spending is between 0K to 10K and majority spends less than 2.5K\n",
    "* Mortgage 70% of the individuals have a mortgage of less than 40K. However the max value is 635K\n",
    "* The variables family and education are ordinal variables. The distribution of families is evenly distributes"
   ]
  },
  {
   "cell_type": "markdown",
   "metadata": {},
   "source": [
    "### Converting Personal Loan column to category "
   ]
  },
  {
   "cell_type": "code",
   "execution_count": 71,
   "metadata": {},
   "outputs": [],
   "source": [
    "df['Personal Loan'] = df['Personal Loan'] .astype('category')"
   ]
  },
  {
   "cell_type": "markdown",
   "metadata": {},
   "source": [
    "# Train Test Split"
   ]
  },
  {
   "cell_type": "code",
   "execution_count": 72,
   "metadata": {},
   "outputs": [],
   "source": [
    "\n",
    "# Putting feature variable to X\n",
    "X = df.drop(['ID','ZIP Code','Personal Loan'],axis=1)\n",
    "\n",
    "# Putting response variable to y\n",
    "y = df['Personal Loan']\n",
    "    \n"
   ]
  },
  {
   "cell_type": "code",
   "execution_count": 73,
   "metadata": {},
   "outputs": [
    {
     "data": {
      "text/plain": [
       "0    4520\n",
       "1     480\n",
       "Name: Personal Loan, dtype: int64"
      ]
     },
     "execution_count": 73,
     "metadata": {},
     "output_type": "execute_result"
    }
   ],
   "source": [
    "df['Personal Loan'].value_counts()"
   ]
  },
  {
   "cell_type": "code",
   "execution_count": 74,
   "metadata": {},
   "outputs": [],
   "source": [
    "from sklearn.model_selection import train_test_split\n",
    "# Splitting the data into train and test\n",
    "X_train, X_test, y_train, y_test = train_test_split(X,y, train_size=0.7,test_size=0.3,random_state=100)"
   ]
  },
  {
   "cell_type": "code",
   "execution_count": 75,
   "metadata": {},
   "outputs": [
    {
     "data": {
      "text/plain": [
       "(3500, 11)"
      ]
     },
     "execution_count": 75,
     "metadata": {},
     "output_type": "execute_result"
    }
   ],
   "source": [
    "X_train.shape\n"
   ]
  },
  {
   "cell_type": "code",
   "execution_count": 76,
   "metadata": {},
   "outputs": [
    {
     "data": {
      "text/plain": [
       "(1500, 11)"
      ]
     },
     "execution_count": 76,
     "metadata": {},
     "output_type": "execute_result"
    }
   ],
   "source": [
    "X_test.shape"
   ]
  },
  {
   "cell_type": "code",
   "execution_count": 77,
   "metadata": {},
   "outputs": [
    {
     "data": {
      "text/plain": [
       "(1500,)"
      ]
     },
     "execution_count": 77,
     "metadata": {},
     "output_type": "execute_result"
    }
   ],
   "source": [
    "y_test.shape"
   ]
  },
  {
   "cell_type": "code",
   "execution_count": 46,
   "metadata": {},
   "outputs": [
    {
     "name": "stdout",
     "output_type": "stream",
     "text": [
      "Collecting imblearn\n",
      "  Downloading imblearn-0.0-py2.py3-none-any.whl (1.9 kB)\n",
      "Collecting imbalanced-learn\n",
      "  Downloading imbalanced_learn-0.6.2-py3-none-any.whl (163 kB)\n",
      "Requirement already satisfied: numpy>=1.11 in c:\\users\\kanchan wadhava\\anaconda3\\lib\\site-packages (from imbalanced-learn->imblearn) (1.18.1)\n",
      "Requirement already satisfied: joblib>=0.11 in c:\\users\\kanchan wadhava\\anaconda3\\lib\\site-packages (from imbalanced-learn->imblearn) (0.14.1)\n",
      "Requirement already satisfied: scipy>=0.17 in c:\\users\\kanchan wadhava\\anaconda3\\lib\\site-packages (from imbalanced-learn->imblearn) (1.4.1)\n",
      "Requirement already satisfied: scikit-learn>=0.22 in c:\\users\\kanchan wadhava\\anaconda3\\lib\\site-packages (from imbalanced-learn->imblearn) (0.22.1)\n",
      "Installing collected packages: imbalanced-learn, imblearn\n",
      "Successfully installed imbalanced-learn-0.6.2 imblearn-0.0\n"
     ]
    }
   ],
   "source": [
    "!pip install imblearn"
   ]
  },
  {
   "cell_type": "code",
   "execution_count": 79,
   "metadata": {},
   "outputs": [
    {
     "name": "stdout",
     "output_type": "stream",
     "text": [
      "After OverSampling, the shape of train_X : (6356, 11)\n",
      "After OverSampling, the shape of train_y: (6356,)\n",
      "Before OverSampling, counts of Personal Loan class 1 : 322\n",
      "Before OverSampling, counts of Class 0 : 3178\n",
      "After OverSampling, counts of Personal Loan class : 3178\n",
      "After OverSampling, counts of Label  '0' class 3178\n"
     ]
    }
   ],
   "source": [
    "import imblearn\n",
    "from imblearn.over_sampling import SMOTE \n",
    "smt = SMOTE(random_state = 2) \n",
    "X_train_r, y_train_r = smt.fit_sample(X_train, y_train) \n",
    "  \n",
    "print('After OverSampling, the shape of train_X :',X_train_r.shape) \n",
    "print('After OverSampling, the shape of train_y:',y_train_r.shape)\n",
    "\n",
    "print(\"Before OverSampling, counts of Personal Loan class 1 :\",sum(y_train == 1)) \n",
    "print(\"Before OverSampling, counts of Class 0 :\",sum(y_train == 0)) \n",
    "  \n",
    "print(\"After OverSampling, counts of Personal Loan class :\",sum(y_train_r == 1)) \n",
    "print(\"After OverSampling, counts of Label  '0' class\",sum(y_train_r == 0))"
   ]
  },
  {
   "cell_type": "code",
   "execution_count": null,
   "metadata": {},
   "outputs": [],
   "source": [
    "Daibetes Dataset\n",
    "\n",
    "Cholestrol = 50-300\n",
    "\n",
    "50-170 -- Normal       : 1500\n",
    "\n",
    "200-300   -- Diabetic   : 200"
   ]
  },
  {
   "cell_type": "code",
   "execution_count": 80,
   "metadata": {},
   "outputs": [
    {
     "data": {
      "text/html": [
       "<div>\n",
       "<style scoped>\n",
       "    .dataframe tbody tr th:only-of-type {\n",
       "        vertical-align: middle;\n",
       "    }\n",
       "\n",
       "    .dataframe tbody tr th {\n",
       "        vertical-align: top;\n",
       "    }\n",
       "\n",
       "    .dataframe thead th {\n",
       "        text-align: right;\n",
       "    }\n",
       "</style>\n",
       "<table border=\"1\" class=\"dataframe\">\n",
       "  <thead>\n",
       "    <tr style=\"text-align: right;\">\n",
       "      <th></th>\n",
       "      <th>Age</th>\n",
       "      <th>Experience</th>\n",
       "      <th>Income</th>\n",
       "      <th>Family</th>\n",
       "      <th>CCAvg</th>\n",
       "      <th>Education</th>\n",
       "      <th>Mortgage</th>\n",
       "      <th>Securities Account</th>\n",
       "      <th>CD Account</th>\n",
       "      <th>Online</th>\n",
       "      <th>CreditCard</th>\n",
       "    </tr>\n",
       "  </thead>\n",
       "  <tbody>\n",
       "    <tr>\n",
       "      <th>0</th>\n",
       "      <td>41</td>\n",
       "      <td>17</td>\n",
       "      <td>34</td>\n",
       "      <td>1</td>\n",
       "      <td>0.7</td>\n",
       "      <td>1</td>\n",
       "      <td>143</td>\n",
       "      <td>0</td>\n",
       "      <td>0</td>\n",
       "      <td>0</td>\n",
       "      <td>0</td>\n",
       "    </tr>\n",
       "    <tr>\n",
       "      <th>1</th>\n",
       "      <td>50</td>\n",
       "      <td>26</td>\n",
       "      <td>11</td>\n",
       "      <td>4</td>\n",
       "      <td>0.2</td>\n",
       "      <td>1</td>\n",
       "      <td>0</td>\n",
       "      <td>1</td>\n",
       "      <td>0</td>\n",
       "      <td>0</td>\n",
       "      <td>0</td>\n",
       "    </tr>\n",
       "    <tr>\n",
       "      <th>2</th>\n",
       "      <td>49</td>\n",
       "      <td>25</td>\n",
       "      <td>55</td>\n",
       "      <td>4</td>\n",
       "      <td>0.1</td>\n",
       "      <td>3</td>\n",
       "      <td>0</td>\n",
       "      <td>0</td>\n",
       "      <td>0</td>\n",
       "      <td>1</td>\n",
       "      <td>0</td>\n",
       "    </tr>\n",
       "    <tr>\n",
       "      <th>3</th>\n",
       "      <td>38</td>\n",
       "      <td>13</td>\n",
       "      <td>169</td>\n",
       "      <td>1</td>\n",
       "      <td>6.8</td>\n",
       "      <td>3</td>\n",
       "      <td>0</td>\n",
       "      <td>0</td>\n",
       "      <td>1</td>\n",
       "      <td>1</td>\n",
       "      <td>1</td>\n",
       "    </tr>\n",
       "    <tr>\n",
       "      <th>4</th>\n",
       "      <td>31</td>\n",
       "      <td>5</td>\n",
       "      <td>35</td>\n",
       "      <td>1</td>\n",
       "      <td>0.6</td>\n",
       "      <td>3</td>\n",
       "      <td>171</td>\n",
       "      <td>0</td>\n",
       "      <td>0</td>\n",
       "      <td>0</td>\n",
       "      <td>0</td>\n",
       "    </tr>\n",
       "  </tbody>\n",
       "</table>\n",
       "</div>"
      ],
      "text/plain": [
       "   Age  Experience  Income  Family  CCAvg  Education  Mortgage  \\\n",
       "0   41          17      34       1    0.7          1       143   \n",
       "1   50          26      11       4    0.2          1         0   \n",
       "2   49          25      55       4    0.1          3         0   \n",
       "3   38          13     169       1    6.8          3         0   \n",
       "4   31           5      35       1    0.6          3       171   \n",
       "\n",
       "   Securities Account  CD Account  Online  CreditCard  \n",
       "0                   0           0       0           0  \n",
       "1                   1           0       0           0  \n",
       "2                   0           0       1           0  \n",
       "3                   0           1       1           1  \n",
       "4                   0           0       0           0  "
      ]
     },
     "execution_count": 80,
     "metadata": {},
     "output_type": "execute_result"
    }
   ],
   "source": [
    "X_train_r.head()"
   ]
  },
  {
   "cell_type": "code",
   "execution_count": 94,
   "metadata": {},
   "outputs": [],
   "source": [
    "# Scaling on Imbalanced Data\n",
    "from sklearn.preprocessing import StandardScaler\n",
    "sc=StandardScaler()\n",
    "X_train_sc=pd.DataFrame(sc.fit_transform(X_train),columns=X_train.columns)\n",
    "X_test_sc=pd.DataFrame(sc.fit_transform(X_test),columns=X_test.columns)"
   ]
  },
  {
   "cell_type": "code",
   "execution_count": 83,
   "metadata": {},
   "outputs": [],
   "source": [
    "# Scaling on Balanced Data\n",
    "from sklearn.preprocessing import StandardScaler\n",
    "sc=StandardScaler()\n",
    "X_train_bal=pd.DataFrame(sc.fit_transform(X_train_r),columns=X_train_r.columns)\n",
    "#X_test_bal=pd.DataFrame(sc.fit_transform(X_test),columns=X_test.columns)"
   ]
  },
  {
   "cell_type": "code",
   "execution_count": 84,
   "metadata": {},
   "outputs": [],
   "source": [
    "from sklearn.linear_model import LogisticRegression\n",
    "from sklearn.naive_bayes import GaussianNB\n",
    "from sklearn.neighbors import KNeighborsClassifier\n",
    "from sklearn.tree import DecisionTreeClassifier\n",
    "from sklearn.ensemble import RandomForestClassifier,BaggingClassifier,AdaBoostClassifier,GradientBoostingClassifier\n",
    "from sklearn.ensemble import VotingClassifier"
   ]
  },
  {
   "cell_type": "code",
   "execution_count": 95,
   "metadata": {},
   "outputs": [
    {
     "data": {
      "text/plain": [
       "LogisticRegression(C=1.0, class_weight=None, dual=False, fit_intercept=True,\n",
       "                   intercept_scaling=1, l1_ratio=None, max_iter=100,\n",
       "                   multi_class='auto', n_jobs=None, penalty='l2',\n",
       "                   random_state=None, solver='lbfgs', tol=0.0001, verbose=0,\n",
       "                   warm_start=False)"
      ]
     },
     "execution_count": 95,
     "metadata": {},
     "output_type": "execute_result"
    }
   ],
   "source": [
    "model_Lg=LogisticRegression()\n",
    "model_Lg.fit(X_train_sc,y_train)"
   ]
  },
  {
   "cell_type": "code",
   "execution_count": 96,
   "metadata": {},
   "outputs": [
    {
     "name": "stdout",
     "output_type": "stream",
     "text": [
      "Accuracy of Train Dataset  0.9453333333333334\n"
     ]
    }
   ],
   "source": [
    "print(\"Accuracy of Train Dataset \",model_Lg.score(X_test_sc,y_test))"
   ]
  },
  {
   "cell_type": "code",
   "execution_count": 97,
   "metadata": {},
   "outputs": [
    {
     "name": "stdout",
     "output_type": "stream",
     "text": [
      "Accuracy of Test Dataset  0.9542857142857143\n"
     ]
    }
   ],
   "source": [
    "print(\"Accuracy of Test Dataset \",model_Lg.score(X_train_sc,y_train))"
   ]
  },
  {
   "cell_type": "code",
   "execution_count": 101,
   "metadata": {},
   "outputs": [
    {
     "name": "stdout",
     "output_type": "stream",
     "text": [
      "With 0.1 threshold the Confusion Matrix is  \n",
      " [[1330   12]\n",
      " [  70   88]] \n",
      " with 1418 correct predictions and 70 Type II errors( False Negatives) \n",
      "\n",
      " Sensitivity:  0.5569620253164557 Specificity:  0.9910581222056631 \n",
      "\n",
      "\n",
      "\n",
      "With 0.2 threshold the Confusion Matrix is  \n",
      " [[1330   12]\n",
      " [  70   88]] \n",
      " with 1418 correct predictions and 70 Type II errors( False Negatives) \n",
      "\n",
      " Sensitivity:  0.5569620253164557 Specificity:  0.9910581222056631 \n",
      "\n",
      "\n",
      "\n",
      "With 0.3 threshold the Confusion Matrix is  \n",
      " [[1330   12]\n",
      " [  70   88]] \n",
      " with 1418 correct predictions and 70 Type II errors( False Negatives) \n",
      "\n",
      " Sensitivity:  0.5569620253164557 Specificity:  0.9910581222056631 \n",
      "\n",
      "\n",
      "\n",
      "With 0.4 threshold the Confusion Matrix is  \n",
      " [[1330   12]\n",
      " [  70   88]] \n",
      " with 1418 correct predictions and 70 Type II errors( False Negatives) \n",
      "\n",
      " Sensitivity:  0.5569620253164557 Specificity:  0.9910581222056631 \n",
      "\n",
      "\n",
      "\n",
      "With 0.5 threshold the Confusion Matrix is  \n",
      " [[1330   12]\n",
      " [  70   88]] \n",
      " with 1418 correct predictions and 70 Type II errors( False Negatives) \n",
      "\n",
      " Sensitivity:  0.5569620253164557 Specificity:  0.9910581222056631 \n",
      "\n",
      "\n",
      "\n",
      "With 0.6 threshold the Confusion Matrix is  \n",
      " [[1330   12]\n",
      " [  70   88]] \n",
      " with 1418 correct predictions and 70 Type II errors( False Negatives) \n",
      "\n",
      " Sensitivity:  0.5569620253164557 Specificity:  0.9910581222056631 \n",
      "\n",
      "\n",
      "\n",
      "With 0.7 threshold the Confusion Matrix is  \n",
      " [[1330   12]\n",
      " [  70   88]] \n",
      " with 1418 correct predictions and 70 Type II errors( False Negatives) \n",
      "\n",
      " Sensitivity:  0.5569620253164557 Specificity:  0.9910581222056631 \n",
      "\n",
      "\n",
      "\n",
      "With 0.8 threshold the Confusion Matrix is  \n",
      " [[1330   12]\n",
      " [  70   88]] \n",
      " with 1418 correct predictions and 70 Type II errors( False Negatives) \n",
      "\n",
      " Sensitivity:  0.5569620253164557 Specificity:  0.9910581222056631 \n",
      "\n",
      "\n",
      "\n",
      "With 0.9 threshold the Confusion Matrix is  \n",
      " [[1330   12]\n",
      " [  70   88]] \n",
      " with 1418 correct predictions and 70 Type II errors( False Negatives) \n",
      "\n",
      " Sensitivity:  0.5569620253164557 Specificity:  0.9910581222056631 \n",
      "\n",
      "\n",
      "\n"
     ]
    }
   ],
   "source": [
    "from sklearn.preprocessing import binarize\n",
    "#import sklearn.metrics.confusion_matrix\n",
    "y_pred = model_Lg.predict(X_test_sc)\n",
    "for i in range(1,10):\n",
    "    cm2=0\n",
    "    y_pred_prob_yes=model_Lg.predict_proba(X_test_sc)\n",
    "    y_pred2=binarize(y_pred_prob_yes,i/10)[:,1]\n",
    "    cm2=confusion_matrix(y_test,y_pred)\n",
    "    print ('With',i/10,'threshold the Confusion Matrix is ','\\n',cm2,'\\n',\n",
    "            'with',cm2[0,0]+cm2[1,1],'correct predictions and',cm2[1,0],'Type II errors( False Negatives)','\\n\\n',\n",
    "          'Sensitivity: ',cm2[1,1]/(float(cm2[1,1]+cm2[1,0])),'Specificity: ',cm2[0,0]/(float(cm2[0,0]+cm2[0,1])),'\\n\\n\\n')"
   ]
  },
  {
   "cell_type": "code",
   "execution_count": 102,
   "metadata": {},
   "outputs": [
    {
     "data": {
      "image/png": "[encoded data removed]",
      "text/plain": [
       "<Figure size 432x288 with 1 Axes>"
      ]
     },
     "metadata": {
      "needs_background": "light"
     },
     "output_type": "display_data"
    }
   ],
   "source": [
    "from sklearn.metrics import roc_curve\n",
    "fpr, tpr, thresholds = roc_curve(y_test, y_pred_prob_yes[:,1])\n",
    "plt.plot(fpr,tpr)\n",
    "plt.xlim([0.0,1])\n",
    "plt.ylim([0.0,1])\n",
    "plt.title('ROC curve for Back Pain')\n",
    "plt.xlabel('False positive rate (1-Specificity)')\n",
    "plt.ylabel('True positive rate (Sensitivity)')\n",
    "plt.grid(True)"
   ]
  },
  {
   "cell_type": "markdown",
   "metadata": {},
   "source": [
    "# Decision Tree"
   ]
  },
  {
   "cell_type": "code",
   "execution_count": 103,
   "metadata": {},
   "outputs": [
    {
     "data": {
      "text/plain": [
       "DecisionTreeClassifier(ccp_alpha=0.0, class_weight=None, criterion='gini',\n",
       "                       max_depth=5, max_features=None, max_leaf_nodes=None,\n",
       "                       min_impurity_decrease=0.0, min_impurity_split=None,\n",
       "                       min_samples_leaf=1, min_samples_split=2,\n",
       "                       min_weight_fraction_leaf=0.0, presort='deprecated',\n",
       "                       random_state=None, splitter='best')"
      ]
     },
     "execution_count": 103,
     "metadata": {},
     "output_type": "execute_result"
    }
   ],
   "source": [
    "# Fitting the decision tree with default hyperparameters, apart from\n",
    "# max_depth which is 5 so that we can plot and read the tree.\n",
    "dt_default = DecisionTreeClassifier(max_depth=5)\n",
    "dt_default.fit(X_train_sc, y_train)"
   ]
  },
  {
   "cell_type": "code",
   "execution_count": 104,
   "metadata": {},
   "outputs": [
    {
     "data": {
      "text/plain": [
       "array([0.00431318, 0.00168428, 0.40543591, 0.15903501, 0.05758375,\n",
       "       0.36290404, 0.00280713, 0.        , 0.0062367 , 0.        ,\n",
       "       0.        ])"
      ]
     },
     "execution_count": 104,
     "metadata": {},
     "output_type": "execute_result"
    }
   ],
   "source": [
    "dt_default.feature_importances_"
   ]
  },
  {
   "cell_type": "code",
   "execution_count": 105,
   "metadata": {},
   "outputs": [
    {
     "name": "stdout",
     "output_type": "stream",
     "text": [
      "                         Imp\n",
      "Age                 0.004313\n",
      "Experience          0.001684\n",
      "Income              0.405436\n",
      "Family              0.159035\n",
      "CCAvg               0.057584\n",
      "Education           0.362904\n",
      "Mortgage            0.002807\n",
      "Securities Account  0.000000\n",
      "CD Account          0.006237\n",
      "Online              0.000000\n",
      "CreditCard          0.000000\n"
     ]
    }
   ],
   "source": [
    "print (pd.DataFrame(dt_default.feature_importances_, columns = [\"Imp\"], index = X.columns))\n",
    "#RF can be used as a tool of feature selection whenever we deal with \n",
    "#100's of features"
   ]
  },
  {
   "cell_type": "code",
   "execution_count": 106,
   "metadata": {},
   "outputs": [
    {
     "name": "stdout",
     "output_type": "stream",
     "text": [
      "              precision    recall  f1-score   support\n",
      "\n",
      "           0       0.95      0.99      0.97      1342\n",
      "           1       0.88      0.56      0.68       158\n",
      "\n",
      "    accuracy                           0.95      1500\n",
      "   macro avg       0.92      0.77      0.83      1500\n",
      "weighted avg       0.94      0.95      0.94      1500\n",
      "\n",
      "Accuracy is  0.9453333333333334\n",
      "[[1330   12]\n",
      " [  70   88]]\n"
     ]
    }
   ],
   "source": [
    "# Let's check the evaluation metrics of our default model\n",
    "\n",
    "# Importing classification report and confusion matrix from sklearn metrics\n",
    "from sklearn.metrics import classification_report, confusion_matrix, accuracy_score\n",
    "\n",
    "# Making predictions\n",
    "y_pred_default = model_Lg.predict(X_test_sc)\n",
    "\n",
    "# Printing classification report\n",
    "print(classification_report(y_test, y_pred_default))\n",
    "\n",
    "print(\"Accuracy is \",model_Lg.score(X_test_sc,y_test))\n",
    "\n",
    "cm=confusion_matrix(y_test,y_pred_default)\n",
    "print(cm)\n"
   ]
  },
  {
   "cell_type": "markdown",
   "metadata": {},
   "source": [
    "# Hyper Parameter tunning "
   ]
  },
  {
   "cell_type": "code",
   "execution_count": 108,
   "metadata": {},
   "outputs": [],
   "source": [
    "# GridSearchCV to find optimal max_depth\n",
    "from sklearn.model_selection import KFold\n",
    "from sklearn.model_selection import GridSearchCV"
   ]
  },
  {
   "cell_type": "code",
   "execution_count": 117,
   "metadata": {},
   "outputs": [
    {
     "name": "stdout",
     "output_type": "stream",
     "text": [
      "Fitting 5 folds for each of 54 candidates, totalling 270 fits\n"
     ]
    },
    {
     "name": "stderr",
     "output_type": "stream",
     "text": [
      "[Parallel(n_jobs=1)]: Using backend SequentialBackend with 1 concurrent workers.\n",
      "[Parallel(n_jobs=1)]: Done 270 out of 270 | elapsed:    1.4s finished\n"
     ]
    },
    {
     "data": {
      "text/plain": [
       "GridSearchCV(cv=5, error_score=nan,\n",
       "             estimator=DecisionTreeClassifier(ccp_alpha=0.0, class_weight=None,\n",
       "                                              criterion='gini', max_depth=None,\n",
       "                                              max_features=None,\n",
       "                                              max_leaf_nodes=None,\n",
       "                                              min_impurity_decrease=0.0,\n",
       "                                              min_impurity_split=None,\n",
       "                                              min_samples_leaf=1,\n",
       "                                              min_samples_split=2,\n",
       "                                              min_weight_fraction_leaf=0.0,\n",
       "                                              presort='deprecated',\n",
       "                                              random_state=None,\n",
       "                                              splitter='best'),\n",
       "             iid='deprecated', n_jobs=None,\n",
       "             param_grid={'criterion': ['entropy', 'gini'],\n",
       "                         'max_depth': range(5, 20, 5),\n",
       "                         'min_samples_leaf': range(50, 200, 50),\n",
       "                         'min_samples_split': range(50, 200, 50)},\n",
       "             pre_dispatch='2*n_jobs', refit=True, return_train_score=False,\n",
       "             scoring=None, verbose=1)"
      ]
     },
     "execution_count": 117,
     "metadata": {},
     "output_type": "execute_result"
    }
   ],
   "source": [
    "# Create the parameter grid \n",
    "param_grid = {\n",
    "    'max_depth': range(5, 20, 5),\n",
    "    'min_samples_leaf': range(50, 200, 50),\n",
    "    'min_samples_split': range(50, 200, 50),\n",
    "    'criterion': [\"entropy\", \"gini\"]\n",
    "}\n",
    "\n",
    "n_folds = 5\n",
    "\n",
    "# Instantiate the grid search model\n",
    "dtree = DecisionTreeClassifier()\n",
    "grid_search = GridSearchCV(estimator = dtree, param_grid = param_grid, \n",
    "                          cv = n_folds, verbose = 1)\n",
    "\n",
    "# Fit the grid search to the data\n",
    "grid_search.fit(X_train,y_train)"
   ]
  },
  {
   "cell_type": "code",
   "execution_count": 118,
   "metadata": {},
   "outputs": [
    {
     "data": {
      "text/plain": [
       "{'criterion': 'entropy',\n",
       " 'max_depth': 5,\n",
       " 'min_samples_leaf': 50,\n",
       " 'min_samples_split': 50}"
      ]
     },
     "execution_count": 118,
     "metadata": {},
     "output_type": "execute_result"
    }
   ],
   "source": [
    "grid_search.best_params_"
   ]
  },
  {
   "cell_type": "code",
   "execution_count": 111,
   "metadata": {},
   "outputs": [
    {
     "data": {
      "text/plain": [
       "0.9771428571428572"
      ]
     },
     "execution_count": 111,
     "metadata": {},
     "output_type": "execute_result"
    }
   ],
   "source": [
    "grid_search.best_score_"
   ]
  },
  {
   "cell_type": "code",
   "execution_count": 119,
   "metadata": {},
   "outputs": [
    {
     "data": {
      "text/plain": [
       "DecisionTreeClassifier(ccp_alpha=0.0, class_weight=None, criterion='entropy',\n",
       "                       max_depth=5, max_features=None, max_leaf_nodes=None,\n",
       "                       min_impurity_decrease=0.0, min_impurity_split=None,\n",
       "                       min_samples_leaf=50, min_samples_split=50,\n",
       "                       min_weight_fraction_leaf=0.0, presort='deprecated',\n",
       "                       random_state=None, splitter='best')"
      ]
     },
     "execution_count": 119,
     "metadata": {},
     "output_type": "execute_result"
    }
   ],
   "source": [
    "dt_default1 = DecisionTreeClassifier(max_depth=5,min_samples_leaf=50,min_samples_split=50,criterion='entropy')\n",
    "dt_default1.fit(X_train_sc, y_train)"
   ]
  },
  {
   "cell_type": "code",
   "execution_count": 120,
   "metadata": {},
   "outputs": [
    {
     "name": "stdout",
     "output_type": "stream",
     "text": [
      "              precision    recall  f1-score   support\n",
      "\n",
      "           0       0.99      0.99      0.99      1342\n",
      "           1       0.90      0.88      0.89       158\n",
      "\n",
      "    accuracy                           0.98      1500\n",
      "   macro avg       0.94      0.93      0.94      1500\n",
      "weighted avg       0.98      0.98      0.98      1500\n",
      "\n"
     ]
    }
   ],
   "source": [
    "from sklearn.metrics import precision_score, recall_score, f1_score, roc_auc_score, accuracy_score, classification_report\n",
    "# Making predictions\n",
    "y_pred_default1 = dt_default1.predict(X_test_sc)\n",
    "\n",
    "# Printing classification report\n",
    "print(classification_report(y_test, y_pred_default1))"
   ]
  },
  {
   "cell_type": "code",
   "execution_count": 121,
   "metadata": {},
   "outputs": [
    {
     "name": "stdout",
     "output_type": "stream",
     "text": [
      "Accuracy is  0.9773333333333334\n"
     ]
    }
   ],
   "source": [
    "print(\"Accuracy is \",dt_default1.score(X_test_sc,y_test))"
   ]
  },
  {
   "cell_type": "markdown",
   "metadata": {},
   "source": [
    "# Feature importance "
   ]
  },
  {
   "cell_type": "code",
   "execution_count": 122,
   "metadata": {},
   "outputs": [
    {
     "name": "stdout",
     "output_type": "stream",
     "text": [
      "                         Imp\n",
      "Age                 0.000000\n",
      "Experience          0.000000\n",
      "Income              0.589112\n",
      "Family              0.121534\n",
      "CCAvg               0.087601\n",
      "Education           0.201753\n",
      "Mortgage            0.000000\n",
      "Securities Account  0.000000\n",
      "CD Account          0.000000\n",
      "Online              0.000000\n",
      "CreditCard          0.000000\n"
     ]
    }
   ],
   "source": [
    "# get importance\n",
    "print (pd.DataFrame(dt_default1.feature_importances_, columns = [\"Imp\"], index = X.columns))\n"
   ]
  },
  {
   "cell_type": "code",
   "execution_count": 78,
   "metadata": {},
   "outputs": [
    {
     "data": {
      "text/plain": [
       "GridSearchCV(cv=3, error_score=nan,\n",
       "             estimator=KNeighborsClassifier(algorithm='auto', leaf_size=30,\n",
       "                                            metric='minkowski',\n",
       "                                            metric_params=None, n_jobs=None,\n",
       "                                            n_neighbors=5, p=2,\n",
       "                                            weights='uniform'),\n",
       "             iid='deprecated', n_jobs=None,\n",
       "             param_grid={'n_neighbors': array([ 3,  4,  5,  6,  7,  8,  9, 10, 11, 12, 13, 14, 15, 16, 17, 18, 19,\n",
       "       20, 21, 22, 23, 24, 25, 26, 27, 28, 29, 30, 31, 32, 33, 34, 35, 36,\n",
       "       37, 38, 39, 40, 41, 42, 43, 44, 45, 46, 47, 48, 49]),\n",
       "                         'weights': ['uniform', 'distance']},\n",
       "             pre_dispatch='2*n_jobs', refit=True, return_train_score=False,\n",
       "             scoring='f1_weighted', verbose=0)"
      ]
     },
     "execution_count": 78,
     "metadata": {},
     "output_type": "execute_result"
    }
   ],
   "source": [
    "from sklearn.model_selection import GridSearchCV\n",
    "knn=KNeighborsClassifier()\n",
    "param={'n_neighbors':np.arange(3,50),'weights':['uniform','distance']}\n",
    "grid_Search=GridSearchCV(knn,param,cv=3,scoring='f1_weighted')\n",
    "grid_search.fit(X_train_sc,y_train)"
   ]
  },
  {
   "cell_type": "code",
   "execution_count": 79,
   "metadata": {},
   "outputs": [
    {
     "data": {
      "text/plain": [
       "{'n_neighbors': 4, 'weights': 'distance'}"
      ]
     },
     "execution_count": 79,
     "metadata": {},
     "output_type": "execute_result"
    }
   ],
   "source": [
    "grid_search.best_params_"
   ]
  },
  {
   "cell_type": "code",
   "execution_count": 99,
   "metadata": {},
   "outputs": [
    {
     "name": "stdout",
     "output_type": "stream",
     "text": [
      "Accurancy is:  0.956\n"
     ]
    }
   ],
   "source": [
    "knn=KNeighborsClassifier(n_neighbors=4,weights='distance')\n",
    "knn.fit(X_train_sc,y_train)\n",
    "print(\"Accurancy is: \",knn.score(X_test_sc,y_test))"
   ]
  },
  {
   "cell_type": "code",
   "execution_count": 90,
   "metadata": {},
   "outputs": [
    {
     "name": "stdout",
     "output_type": "stream",
     "text": [
      "Accurancy is:  0.982\n"
     ]
    }
   ],
   "source": [
    "RF_default=RandomForestClassifier()\n",
    "RF_default.fit(X_train_sc,y_train)\n",
    "print(\"Accurancy is: \",RF_default.score(X_test_sc,y_test))"
   ]
  },
  {
   "cell_type": "code",
   "execution_count": 86,
   "metadata": {},
   "outputs": [
    {
     "name": "stdout",
     "output_type": "stream",
     "text": [
      "Fitting 5 folds for each of 64 candidates, totalling 320 fits\n"
     ]
    },
    {
     "name": "stderr",
     "output_type": "stream",
     "text": [
      "[Parallel(n_jobs=1)]: Using backend SequentialBackend with 1 concurrent workers.\n",
      "C:\\Users\\Kanchan Wadhava\\anaconda3\\lib\\site-packages\\sklearn\\model_selection\\_validation.py:536: FitFailedWarning: Estimator fit failed. The score on this train-test partition for these parameters will be set to nan. Details: \n",
      "ValueError: Out of bag estimation only available if bootstrap=True\n",
      "\n",
      "  FitFailedWarning)\n",
      "C:\\Users\\Kanchan Wadhava\\anaconda3\\lib\\site-packages\\sklearn\\model_selection\\_validation.py:536: FitFailedWarning: Estimator fit failed. The score on this train-test partition for these parameters will be set to nan. Details: \n",
      "ValueError: Out of bag estimation only available if bootstrap=True\n",
      "\n",
      "  FitFailedWarning)\n",
      "C:\\Users\\Kanchan Wadhava\\anaconda3\\lib\\site-packages\\sklearn\\model_selection\\_validation.py:536: FitFailedWarning: Estimator fit failed. The score on this train-test partition for these parameters will be set to nan. Details: \n",
      "ValueError: Out of bag estimation only available if bootstrap=True\n",
      "\n",
      "  FitFailedWarning)\n",
      "C:\\Users\\Kanchan Wadhava\\anaconda3\\lib\\site-packages\\sklearn\\model_selection\\_validation.py:536: FitFailedWarning: Estimator fit failed. The score on this train-test partition for these parameters will be set to nan. Details: \n",
      "ValueError: Out of bag estimation only available if bootstrap=True\n",
      "\n",
      "  FitFailedWarning)\n",
      "C:\\Users\\Kanchan Wadhava\\anaconda3\\lib\\site-packages\\sklearn\\model_selection\\_validation.py:536: FitFailedWarning: Estimator fit failed. The score on this train-test partition for these parameters will be set to nan. Details: \n",
      "ValueError: Out of bag estimation only available if bootstrap=True\n",
      "\n",
      "  FitFailedWarning)\n",
      "C:\\Users\\Kanchan Wadhava\\anaconda3\\lib\\site-packages\\sklearn\\model_selection\\_validation.py:536: FitFailedWarning: Estimator fit failed. The score on this train-test partition for these parameters will be set to nan. Details: \n",
      "ValueError: Out of bag estimation only available if bootstrap=True\n",
      "\n",
      "  FitFailedWarning)\n",
      "C:\\Users\\Kanchan Wadhava\\anaconda3\\lib\\site-packages\\sklearn\\model_selection\\_validation.py:536: FitFailedWarning: Estimator fit failed. The score on this train-test partition for these parameters will be set to nan. Details: \n",
      "ValueError: Out of bag estimation only available if bootstrap=True\n",
      "\n",
      "  FitFailedWarning)\n",
      "C:\\Users\\Kanchan Wadhava\\anaconda3\\lib\\site-packages\\sklearn\\model_selection\\_validation.py:536: FitFailedWarning: Estimator fit failed. The score on this train-test partition for these parameters will be set to nan. Details: \n",
      "ValueError: Out of bag estimation only available if bootstrap=True\n",
      "\n",
      "  FitFailedWarning)\n",
      "C:\\Users\\Kanchan Wadhava\\anaconda3\\lib\\site-packages\\sklearn\\model_selection\\_validation.py:536: FitFailedWarning: Estimator fit failed. The score on this train-test partition for these parameters will be set to nan. Details: \n",
      "ValueError: Out of bag estimation only available if bootstrap=True\n",
      "\n",
      "  FitFailedWarning)\n",
      "C:\\Users\\Kanchan Wadhava\\anaconda3\\lib\\site-packages\\sklearn\\model_selection\\_validation.py:536: FitFailedWarning: Estimator fit failed. The score on this train-test partition for these parameters will be set to nan. Details: \n",
      "ValueError: Out of bag estimation only available if bootstrap=True\n",
      "\n",
      "  FitFailedWarning)\n",
      "C:\\Users\\Kanchan Wadhava\\anaconda3\\lib\\site-packages\\sklearn\\model_selection\\_validation.py:536: FitFailedWarning: Estimator fit failed. The score on this train-test partition for these parameters will be set to nan. Details: \n",
      "ValueError: Out of bag estimation only available if bootstrap=True\n",
      "\n",
      "  FitFailedWarning)\n",
      "C:\\Users\\Kanchan Wadhava\\anaconda3\\lib\\site-packages\\sklearn\\model_selection\\_validation.py:536: FitFailedWarning: Estimator fit failed. The score on this train-test partition for these parameters will be set to nan. Details: \n",
      "ValueError: Out of bag estimation only available if bootstrap=True\n",
      "\n",
      "  FitFailedWarning)\n",
      "C:\\Users\\Kanchan Wadhava\\anaconda3\\lib\\site-packages\\sklearn\\model_selection\\_validation.py:536: FitFailedWarning: Estimator fit failed. The score on this train-test partition for these parameters will be set to nan. Details: \n",
      "ValueError: Out of bag estimation only available if bootstrap=True\n",
      "\n",
      "  FitFailedWarning)\n",
      "C:\\Users\\Kanchan Wadhava\\anaconda3\\lib\\site-packages\\sklearn\\model_selection\\_validation.py:536: FitFailedWarning: Estimator fit failed. The score on this train-test partition for these parameters will be set to nan. Details: \n",
      "ValueError: Out of bag estimation only available if bootstrap=True\n",
      "\n",
      "  FitFailedWarning)\n",
      "C:\\Users\\Kanchan Wadhava\\anaconda3\\lib\\site-packages\\sklearn\\model_selection\\_validation.py:536: FitFailedWarning: Estimator fit failed. The score on this train-test partition for these parameters will be set to nan. Details: \n",
      "ValueError: Out of bag estimation only available if bootstrap=True\n",
      "\n",
      "  FitFailedWarning)\n",
      "C:\\Users\\Kanchan Wadhava\\anaconda3\\lib\\site-packages\\sklearn\\model_selection\\_validation.py:536: FitFailedWarning: Estimator fit failed. The score on this train-test partition for these parameters will be set to nan. Details: \n",
      "ValueError: Out of bag estimation only available if bootstrap=True\n",
      "\n",
      "  FitFailedWarning)\n",
      "C:\\Users\\Kanchan Wadhava\\anaconda3\\lib\\site-packages\\sklearn\\model_selection\\_validation.py:536: FitFailedWarning: Estimator fit failed. The score on this train-test partition for these parameters will be set to nan. Details: \n",
      "ValueError: Out of bag estimation only available if bootstrap=True\n",
      "\n",
      "  FitFailedWarning)\n",
      "C:\\Users\\Kanchan Wadhava\\anaconda3\\lib\\site-packages\\sklearn\\model_selection\\_validation.py:536: FitFailedWarning: Estimator fit failed. The score on this train-test partition for these parameters will be set to nan. Details: \n",
      "ValueError: Out of bag estimation only available if bootstrap=True\n",
      "\n",
      "  FitFailedWarning)\n",
      "C:\\Users\\Kanchan Wadhava\\anaconda3\\lib\\site-packages\\sklearn\\model_selection\\_validation.py:536: FitFailedWarning: Estimator fit failed. The score on this train-test partition for these parameters will be set to nan. Details: \n",
      "ValueError: Out of bag estimation only available if bootstrap=True\n",
      "\n",
      "  FitFailedWarning)\n",
      "C:\\Users\\Kanchan Wadhava\\anaconda3\\lib\\site-packages\\sklearn\\model_selection\\_validation.py:536: FitFailedWarning: Estimator fit failed. The score on this train-test partition for these parameters will be set to nan. Details: \n",
      "ValueError: Out of bag estimation only available if bootstrap=True\n",
      "\n",
      "  FitFailedWarning)\n",
      "C:\\Users\\Kanchan Wadhava\\anaconda3\\lib\\site-packages\\sklearn\\model_selection\\_validation.py:536: FitFailedWarning: Estimator fit failed. The score on this train-test partition for these parameters will be set to nan. Details: \n",
      "ValueError: Out of bag estimation only available if bootstrap=True\n",
      "\n",
      "  FitFailedWarning)\n",
      "C:\\Users\\Kanchan Wadhava\\anaconda3\\lib\\site-packages\\sklearn\\model_selection\\_validation.py:536: FitFailedWarning: Estimator fit failed. The score on this train-test partition for these parameters will be set to nan. Details: \n",
      "ValueError: Out of bag estimation only available if bootstrap=True\n",
      "\n",
      "  FitFailedWarning)\n",
      "C:\\Users\\Kanchan Wadhava\\anaconda3\\lib\\site-packages\\sklearn\\model_selection\\_validation.py:536: FitFailedWarning: Estimator fit failed. The score on this train-test partition for these parameters will be set to nan. Details: \n",
      "ValueError: Out of bag estimation only available if bootstrap=True\n",
      "\n",
      "  FitFailedWarning)\n",
      "C:\\Users\\Kanchan Wadhava\\anaconda3\\lib\\site-packages\\sklearn\\model_selection\\_validation.py:536: FitFailedWarning: Estimator fit failed. The score on this train-test partition for these parameters will be set to nan. Details: \n",
      "ValueError: Out of bag estimation only available if bootstrap=True\n",
      "\n",
      "  FitFailedWarning)\n",
      "C:\\Users\\Kanchan Wadhava\\anaconda3\\lib\\site-packages\\sklearn\\model_selection\\_validation.py:536: FitFailedWarning: Estimator fit failed. The score on this train-test partition for these parameters will be set to nan. Details: \n",
      "ValueError: Out of bag estimation only available if bootstrap=True\n",
      "\n",
      "  FitFailedWarning)\n",
      "C:\\Users\\Kanchan Wadhava\\anaconda3\\lib\\site-packages\\sklearn\\model_selection\\_validation.py:536: FitFailedWarning: Estimator fit failed. The score on this train-test partition for these parameters will be set to nan. Details: \n",
      "ValueError: Out of bag estimation only available if bootstrap=True\n",
      "\n",
      "  FitFailedWarning)\n",
      "C:\\Users\\Kanchan Wadhava\\anaconda3\\lib\\site-packages\\sklearn\\model_selection\\_validation.py:536: FitFailedWarning: Estimator fit failed. The score on this train-test partition for these parameters will be set to nan. Details: \n",
      "ValueError: Out of bag estimation only available if bootstrap=True\n",
      "\n",
      "  FitFailedWarning)\n",
      "C:\\Users\\Kanchan Wadhava\\anaconda3\\lib\\site-packages\\sklearn\\model_selection\\_validation.py:536: FitFailedWarning: Estimator fit failed. The score on this train-test partition for these parameters will be set to nan. Details: \n",
      "ValueError: Out of bag estimation only available if bootstrap=True\n",
      "\n",
      "  FitFailedWarning)\n",
      "C:\\Users\\Kanchan Wadhava\\anaconda3\\lib\\site-packages\\sklearn\\model_selection\\_validation.py:536: FitFailedWarning: Estimator fit failed. The score on this train-test partition for these parameters will be set to nan. Details: \n",
      "ValueError: Out of bag estimation only available if bootstrap=True\n",
      "\n",
      "  FitFailedWarning)\n",
      "C:\\Users\\Kanchan Wadhava\\anaconda3\\lib\\site-packages\\sklearn\\model_selection\\_validation.py:536: FitFailedWarning: Estimator fit failed. The score on this train-test partition for these parameters will be set to nan. Details: \n",
      "ValueError: Out of bag estimation only available if bootstrap=True\n",
      "\n",
      "  FitFailedWarning)\n"
     ]
    },
    {
     "name": "stderr",
     "output_type": "stream",
     "text": [
      "C:\\Users\\Kanchan Wadhava\\anaconda3\\lib\\site-packages\\sklearn\\model_selection\\_validation.py:536: FitFailedWarning: Estimator fit failed. The score on this train-test partition for these parameters will be set to nan. Details: \n",
      "ValueError: Out of bag estimation only available if bootstrap=True\n",
      "\n",
      "  FitFailedWarning)\n",
      "C:\\Users\\Kanchan Wadhava\\anaconda3\\lib\\site-packages\\sklearn\\model_selection\\_validation.py:536: FitFailedWarning: Estimator fit failed. The score on this train-test partition for these parameters will be set to nan. Details: \n",
      "ValueError: Out of bag estimation only available if bootstrap=True\n",
      "\n",
      "  FitFailedWarning)\n",
      "C:\\Users\\Kanchan Wadhava\\anaconda3\\lib\\site-packages\\sklearn\\model_selection\\_validation.py:536: FitFailedWarning: Estimator fit failed. The score on this train-test partition for these parameters will be set to nan. Details: \n",
      "ValueError: Out of bag estimation only available if bootstrap=True\n",
      "\n",
      "  FitFailedWarning)\n",
      "C:\\Users\\Kanchan Wadhava\\anaconda3\\lib\\site-packages\\sklearn\\model_selection\\_validation.py:536: FitFailedWarning: Estimator fit failed. The score on this train-test partition for these parameters will be set to nan. Details: \n",
      "ValueError: Out of bag estimation only available if bootstrap=True\n",
      "\n",
      "  FitFailedWarning)\n",
      "C:\\Users\\Kanchan Wadhava\\anaconda3\\lib\\site-packages\\sklearn\\model_selection\\_validation.py:536: FitFailedWarning: Estimator fit failed. The score on this train-test partition for these parameters will be set to nan. Details: \n",
      "ValueError: Out of bag estimation only available if bootstrap=True\n",
      "\n",
      "  FitFailedWarning)\n",
      "C:\\Users\\Kanchan Wadhava\\anaconda3\\lib\\site-packages\\sklearn\\model_selection\\_validation.py:536: FitFailedWarning: Estimator fit failed. The score on this train-test partition for these parameters will be set to nan. Details: \n",
      "ValueError: Out of bag estimation only available if bootstrap=True\n",
      "\n",
      "  FitFailedWarning)\n",
      "C:\\Users\\Kanchan Wadhava\\anaconda3\\lib\\site-packages\\sklearn\\model_selection\\_validation.py:536: FitFailedWarning: Estimator fit failed. The score on this train-test partition for these parameters will be set to nan. Details: \n",
      "ValueError: Out of bag estimation only available if bootstrap=True\n",
      "\n",
      "  FitFailedWarning)\n",
      "C:\\Users\\Kanchan Wadhava\\anaconda3\\lib\\site-packages\\sklearn\\model_selection\\_validation.py:536: FitFailedWarning: Estimator fit failed. The score on this train-test partition for these parameters will be set to nan. Details: \n",
      "ValueError: Out of bag estimation only available if bootstrap=True\n",
      "\n",
      "  FitFailedWarning)\n",
      "C:\\Users\\Kanchan Wadhava\\anaconda3\\lib\\site-packages\\sklearn\\model_selection\\_validation.py:536: FitFailedWarning: Estimator fit failed. The score on this train-test partition for these parameters will be set to nan. Details: \n",
      "ValueError: Out of bag estimation only available if bootstrap=True\n",
      "\n",
      "  FitFailedWarning)\n",
      "C:\\Users\\Kanchan Wadhava\\anaconda3\\lib\\site-packages\\sklearn\\model_selection\\_validation.py:536: FitFailedWarning: Estimator fit failed. The score on this train-test partition for these parameters will be set to nan. Details: \n",
      "ValueError: Out of bag estimation only available if bootstrap=True\n",
      "\n",
      "  FitFailedWarning)\n",
      "C:\\Users\\Kanchan Wadhava\\anaconda3\\lib\\site-packages\\sklearn\\model_selection\\_validation.py:536: FitFailedWarning: Estimator fit failed. The score on this train-test partition for these parameters will be set to nan. Details: \n",
      "ValueError: Out of bag estimation only available if bootstrap=True\n",
      "\n",
      "  FitFailedWarning)\n",
      "C:\\Users\\Kanchan Wadhava\\anaconda3\\lib\\site-packages\\sklearn\\model_selection\\_validation.py:536: FitFailedWarning: Estimator fit failed. The score on this train-test partition for these parameters will be set to nan. Details: \n",
      "ValueError: Out of bag estimation only available if bootstrap=True\n",
      "\n",
      "  FitFailedWarning)\n",
      "C:\\Users\\Kanchan Wadhava\\anaconda3\\lib\\site-packages\\sklearn\\model_selection\\_validation.py:536: FitFailedWarning: Estimator fit failed. The score on this train-test partition for these parameters will be set to nan. Details: \n",
      "ValueError: Out of bag estimation only available if bootstrap=True\n",
      "\n",
      "  FitFailedWarning)\n",
      "C:\\Users\\Kanchan Wadhava\\anaconda3\\lib\\site-packages\\sklearn\\model_selection\\_validation.py:536: FitFailedWarning: Estimator fit failed. The score on this train-test partition for these parameters will be set to nan. Details: \n",
      "ValueError: Out of bag estimation only available if bootstrap=True\n",
      "\n",
      "  FitFailedWarning)\n",
      "C:\\Users\\Kanchan Wadhava\\anaconda3\\lib\\site-packages\\sklearn\\model_selection\\_validation.py:536: FitFailedWarning: Estimator fit failed. The score on this train-test partition for these parameters will be set to nan. Details: \n",
      "ValueError: Out of bag estimation only available if bootstrap=True\n",
      "\n",
      "  FitFailedWarning)\n",
      "C:\\Users\\Kanchan Wadhava\\anaconda3\\lib\\site-packages\\sklearn\\model_selection\\_validation.py:536: FitFailedWarning: Estimator fit failed. The score on this train-test partition for these parameters will be set to nan. Details: \n",
      "ValueError: Out of bag estimation only available if bootstrap=True\n",
      "\n",
      "  FitFailedWarning)\n",
      "C:\\Users\\Kanchan Wadhava\\anaconda3\\lib\\site-packages\\sklearn\\model_selection\\_validation.py:536: FitFailedWarning: Estimator fit failed. The score on this train-test partition for these parameters will be set to nan. Details: \n",
      "ValueError: Out of bag estimation only available if bootstrap=True\n",
      "\n",
      "  FitFailedWarning)\n",
      "C:\\Users\\Kanchan Wadhava\\anaconda3\\lib\\site-packages\\sklearn\\model_selection\\_validation.py:536: FitFailedWarning: Estimator fit failed. The score on this train-test partition for these parameters will be set to nan. Details: \n",
      "ValueError: Out of bag estimation only available if bootstrap=True\n",
      "\n",
      "  FitFailedWarning)\n",
      "C:\\Users\\Kanchan Wadhava\\anaconda3\\lib\\site-packages\\sklearn\\model_selection\\_validation.py:536: FitFailedWarning: Estimator fit failed. The score on this train-test partition for these parameters will be set to nan. Details: \n",
      "ValueError: Out of bag estimation only available if bootstrap=True\n",
      "\n",
      "  FitFailedWarning)\n",
      "C:\\Users\\Kanchan Wadhava\\anaconda3\\lib\\site-packages\\sklearn\\model_selection\\_validation.py:536: FitFailedWarning: Estimator fit failed. The score on this train-test partition for these parameters will be set to nan. Details: \n",
      "ValueError: Out of bag estimation only available if bootstrap=True\n",
      "\n",
      "  FitFailedWarning)\n",
      "C:\\Users\\Kanchan Wadhava\\anaconda3\\lib\\site-packages\\sklearn\\model_selection\\_validation.py:536: FitFailedWarning: Estimator fit failed. The score on this train-test partition for these parameters will be set to nan. Details: \n",
      "ValueError: Out of bag estimation only available if bootstrap=True\n",
      "\n",
      "  FitFailedWarning)\n",
      "C:\\Users\\Kanchan Wadhava\\anaconda3\\lib\\site-packages\\sklearn\\model_selection\\_validation.py:536: FitFailedWarning: Estimator fit failed. The score on this train-test partition for these parameters will be set to nan. Details: \n",
      "ValueError: Out of bag estimation only available if bootstrap=True\n",
      "\n",
      "  FitFailedWarning)\n",
      "C:\\Users\\Kanchan Wadhava\\anaconda3\\lib\\site-packages\\sklearn\\model_selection\\_validation.py:536: FitFailedWarning: Estimator fit failed. The score on this train-test partition for these parameters will be set to nan. Details: \n",
      "ValueError: Out of bag estimation only available if bootstrap=True\n",
      "\n",
      "  FitFailedWarning)\n",
      "C:\\Users\\Kanchan Wadhava\\anaconda3\\lib\\site-packages\\sklearn\\model_selection\\_validation.py:536: FitFailedWarning: Estimator fit failed. The score on this train-test partition for these parameters will be set to nan. Details: \n",
      "ValueError: Out of bag estimation only available if bootstrap=True\n",
      "\n",
      "  FitFailedWarning)\n",
      "C:\\Users\\Kanchan Wadhava\\anaconda3\\lib\\site-packages\\sklearn\\model_selection\\_validation.py:536: FitFailedWarning: Estimator fit failed. The score on this train-test partition for these parameters will be set to nan. Details: \n",
      "ValueError: Out of bag estimation only available if bootstrap=True\n",
      "\n",
      "  FitFailedWarning)\n",
      "C:\\Users\\Kanchan Wadhava\\anaconda3\\lib\\site-packages\\sklearn\\model_selection\\_validation.py:536: FitFailedWarning: Estimator fit failed. The score on this train-test partition for these parameters will be set to nan. Details: \n",
      "ValueError: Out of bag estimation only available if bootstrap=True\n",
      "\n",
      "  FitFailedWarning)\n",
      "C:\\Users\\Kanchan Wadhava\\anaconda3\\lib\\site-packages\\sklearn\\model_selection\\_validation.py:536: FitFailedWarning: Estimator fit failed. The score on this train-test partition for these parameters will be set to nan. Details: \n",
      "ValueError: Out of bag estimation only available if bootstrap=True\n",
      "\n",
      "  FitFailedWarning)\n",
      "C:\\Users\\Kanchan Wadhava\\anaconda3\\lib\\site-packages\\sklearn\\model_selection\\_validation.py:536: FitFailedWarning: Estimator fit failed. The score on this train-test partition for these parameters will be set to nan. Details: \n",
      "ValueError: Out of bag estimation only available if bootstrap=True\n",
      "\n",
      "  FitFailedWarning)\n",
      "C:\\Users\\Kanchan Wadhava\\anaconda3\\lib\\site-packages\\sklearn\\model_selection\\_validation.py:536: FitFailedWarning: Estimator fit failed. The score on this train-test partition for these parameters will be set to nan. Details: \n",
      "ValueError: Out of bag estimation only available if bootstrap=True\n",
      "\n",
      "  FitFailedWarning)\n",
      "C:\\Users\\Kanchan Wadhava\\anaconda3\\lib\\site-packages\\sklearn\\model_selection\\_validation.py:536: FitFailedWarning: Estimator fit failed. The score on this train-test partition for these parameters will be set to nan. Details: \n",
      "ValueError: Out of bag estimation only available if bootstrap=True\n",
      "\n",
      "  FitFailedWarning)\n"
     ]
    },
    {
     "name": "stderr",
     "output_type": "stream",
     "text": [
      "C:\\Users\\Kanchan Wadhava\\anaconda3\\lib\\site-packages\\sklearn\\model_selection\\_validation.py:536: FitFailedWarning: Estimator fit failed. The score on this train-test partition for these parameters will be set to nan. Details: \n",
      "ValueError: Out of bag estimation only available if bootstrap=True\n",
      "\n",
      "  FitFailedWarning)\n",
      "C:\\Users\\Kanchan Wadhava\\anaconda3\\lib\\site-packages\\sklearn\\model_selection\\_validation.py:536: FitFailedWarning: Estimator fit failed. The score on this train-test partition for these parameters will be set to nan. Details: \n",
      "ValueError: Out of bag estimation only available if bootstrap=True\n",
      "\n",
      "  FitFailedWarning)\n",
      "C:\\Users\\Kanchan Wadhava\\anaconda3\\lib\\site-packages\\sklearn\\model_selection\\_validation.py:536: FitFailedWarning: Estimator fit failed. The score on this train-test partition for these parameters will be set to nan. Details: \n",
      "ValueError: Out of bag estimation only available if bootstrap=True\n",
      "\n",
      "  FitFailedWarning)\n",
      "C:\\Users\\Kanchan Wadhava\\anaconda3\\lib\\site-packages\\sklearn\\model_selection\\_validation.py:536: FitFailedWarning: Estimator fit failed. The score on this train-test partition for these parameters will be set to nan. Details: \n",
      "ValueError: Out of bag estimation only available if bootstrap=True\n",
      "\n",
      "  FitFailedWarning)\n",
      "C:\\Users\\Kanchan Wadhava\\anaconda3\\lib\\site-packages\\sklearn\\model_selection\\_validation.py:536: FitFailedWarning: Estimator fit failed. The score on this train-test partition for these parameters will be set to nan. Details: \n",
      "ValueError: Out of bag estimation only available if bootstrap=True\n",
      "\n",
      "  FitFailedWarning)\n",
      "C:\\Users\\Kanchan Wadhava\\anaconda3\\lib\\site-packages\\sklearn\\model_selection\\_validation.py:536: FitFailedWarning: Estimator fit failed. The score on this train-test partition for these parameters will be set to nan. Details: \n",
      "ValueError: Out of bag estimation only available if bootstrap=True\n",
      "\n",
      "  FitFailedWarning)\n",
      "C:\\Users\\Kanchan Wadhava\\anaconda3\\lib\\site-packages\\sklearn\\model_selection\\_validation.py:536: FitFailedWarning: Estimator fit failed. The score on this train-test partition for these parameters will be set to nan. Details: \n",
      "ValueError: Out of bag estimation only available if bootstrap=True\n",
      "\n",
      "  FitFailedWarning)\n",
      "C:\\Users\\Kanchan Wadhava\\anaconda3\\lib\\site-packages\\sklearn\\model_selection\\_validation.py:536: FitFailedWarning: Estimator fit failed. The score on this train-test partition for these parameters will be set to nan. Details: \n",
      "ValueError: Out of bag estimation only available if bootstrap=True\n",
      "\n",
      "  FitFailedWarning)\n",
      "C:\\Users\\Kanchan Wadhava\\anaconda3\\lib\\site-packages\\sklearn\\model_selection\\_validation.py:536: FitFailedWarning: Estimator fit failed. The score on this train-test partition for these parameters will be set to nan. Details: \n",
      "ValueError: Out of bag estimation only available if bootstrap=True\n",
      "\n",
      "  FitFailedWarning)\n",
      "C:\\Users\\Kanchan Wadhava\\anaconda3\\lib\\site-packages\\sklearn\\model_selection\\_validation.py:536: FitFailedWarning: Estimator fit failed. The score on this train-test partition for these parameters will be set to nan. Details: \n",
      "ValueError: Out of bag estimation only available if bootstrap=True\n",
      "\n",
      "  FitFailedWarning)\n",
      "C:\\Users\\Kanchan Wadhava\\anaconda3\\lib\\site-packages\\sklearn\\model_selection\\_validation.py:536: FitFailedWarning: Estimator fit failed. The score on this train-test partition for these parameters will be set to nan. Details: \n",
      "ValueError: Out of bag estimation only available if bootstrap=True\n",
      "\n",
      "  FitFailedWarning)\n",
      "C:\\Users\\Kanchan Wadhava\\anaconda3\\lib\\site-packages\\sklearn\\model_selection\\_validation.py:536: FitFailedWarning: Estimator fit failed. The score on this train-test partition for these parameters will be set to nan. Details: \n",
      "ValueError: Out of bag estimation only available if bootstrap=True\n",
      "\n",
      "  FitFailedWarning)\n",
      "C:\\Users\\Kanchan Wadhava\\anaconda3\\lib\\site-packages\\sklearn\\model_selection\\_validation.py:536: FitFailedWarning: Estimator fit failed. The score on this train-test partition for these parameters will be set to nan. Details: \n",
      "ValueError: Out of bag estimation only available if bootstrap=True\n",
      "\n",
      "  FitFailedWarning)\n",
      "C:\\Users\\Kanchan Wadhava\\anaconda3\\lib\\site-packages\\sklearn\\model_selection\\_validation.py:536: FitFailedWarning: Estimator fit failed. The score on this train-test partition for these parameters will be set to nan. Details: \n",
      "ValueError: Out of bag estimation only available if bootstrap=True\n",
      "\n",
      "  FitFailedWarning)\n",
      "C:\\Users\\Kanchan Wadhava\\anaconda3\\lib\\site-packages\\sklearn\\model_selection\\_validation.py:536: FitFailedWarning: Estimator fit failed. The score on this train-test partition for these parameters will be set to nan. Details: \n",
      "ValueError: Out of bag estimation only available if bootstrap=True\n",
      "\n",
      "  FitFailedWarning)\n",
      "C:\\Users\\Kanchan Wadhava\\anaconda3\\lib\\site-packages\\sklearn\\model_selection\\_validation.py:536: FitFailedWarning: Estimator fit failed. The score on this train-test partition for these parameters will be set to nan. Details: \n",
      "ValueError: Out of bag estimation only available if bootstrap=True\n",
      "\n",
      "  FitFailedWarning)\n",
      "C:\\Users\\Kanchan Wadhava\\anaconda3\\lib\\site-packages\\sklearn\\model_selection\\_validation.py:536: FitFailedWarning: Estimator fit failed. The score on this train-test partition for these parameters will be set to nan. Details: \n",
      "ValueError: Out of bag estimation only available if bootstrap=True\n",
      "\n",
      "  FitFailedWarning)\n",
      "C:\\Users\\Kanchan Wadhava\\anaconda3\\lib\\site-packages\\sklearn\\model_selection\\_validation.py:536: FitFailedWarning: Estimator fit failed. The score on this train-test partition for these parameters will be set to nan. Details: \n",
      "ValueError: Out of bag estimation only available if bootstrap=True\n",
      "\n",
      "  FitFailedWarning)\n",
      "C:\\Users\\Kanchan Wadhava\\anaconda3\\lib\\site-packages\\sklearn\\model_selection\\_validation.py:536: FitFailedWarning: Estimator fit failed. The score on this train-test partition for these parameters will be set to nan. Details: \n",
      "ValueError: Out of bag estimation only available if bootstrap=True\n",
      "\n",
      "  FitFailedWarning)\n",
      "C:\\Users\\Kanchan Wadhava\\anaconda3\\lib\\site-packages\\sklearn\\model_selection\\_validation.py:536: FitFailedWarning: Estimator fit failed. The score on this train-test partition for these parameters will be set to nan. Details: \n",
      "ValueError: Out of bag estimation only available if bootstrap=True\n",
      "\n",
      "  FitFailedWarning)\n",
      "[Parallel(n_jobs=1)]: Done 320 out of 320 | elapsed:  2.3min finished\n"
     ]
    },
    {
     "data": {
      "text/plain": [
       "GridSearchCV(cv=5, error_score=nan,\n",
       "             estimator=RandomForestClassifier(bootstrap=True, ccp_alpha=0.0,\n",
       "                                              class_weight=None,\n",
       "                                              criterion='gini', max_depth=None,\n",
       "                                              max_features='auto',\n",
       "                                              max_leaf_nodes=None,\n",
       "                                              max_samples=None,\n",
       "                                              min_impurity_decrease=0.0,\n",
       "                                              min_impurity_split=None,\n",
       "                                              min_samples_leaf=1,\n",
       "                                              min_samples_split=2,\n",
       "                                              min_weight_fraction_leaf=0.0,\n",
       "                                              n_estimators=100, n_jobs=None,...\n",
       "                                              random_state=None, verbose=0,\n",
       "                                              warm_start=False),\n",
       "             iid='deprecated', n_jobs=None,\n",
       "             param_grid={'bootstrap': [True, False],\n",
       "                         'criterion': ['entropy', 'gini'],\n",
       "                         'max_depth': range(5, 15, 5),\n",
       "                         'min_samples_leaf': range(50, 150, 50),\n",
       "                         'min_samples_split': range(50, 150, 50),\n",
       "                         'oob_score': [True, False]},\n",
       "             pre_dispatch='2*n_jobs', refit=True, return_train_score=False,\n",
       "             scoring=None, verbose=1)"
      ]
     },
     "execution_count": 86,
     "metadata": {},
     "output_type": "execute_result"
    }
   ],
   "source": [
    "# Create the parameter grid \n",
    "param_grid = {\n",
    "    'max_depth': range(5, 15, 5),\n",
    "    'min_samples_leaf': range(50, 150, 50),\n",
    "    'min_samples_split': range(50, 150, 50),\n",
    "    'criterion': [\"entropy\", \"gini\"],\n",
    "    'oob_score':[True,False],\n",
    "    'bootstrap':[True,False]\n",
    "}\n",
    "\n",
    "\n",
    "n_folds = 5\n",
    "\n",
    "# Instantiate the grid search model\n",
    "dtree =RandomForestClassifier()\n",
    "grid_search = GridSearchCV(estimator = dtree, param_grid = param_grid, \n",
    "                          cv = n_folds, verbose = 1)\n",
    "\n",
    "# Fit the grid search to the data\n",
    "grid_search.fit(X_train_sc,y_train)"
   ]
  },
  {
   "cell_type": "code",
   "execution_count": 87,
   "metadata": {},
   "outputs": [
    {
     "data": {
      "text/plain": [
       "{'bootstrap': False,\n",
       " 'criterion': 'entropy',\n",
       " 'max_depth': 10,\n",
       " 'min_samples_leaf': 50,\n",
       " 'min_samples_split': 100,\n",
       " 'oob_score': False}"
      ]
     },
     "execution_count": 87,
     "metadata": {},
     "output_type": "execute_result"
    }
   ],
   "source": [
    "grid_search.best_params_"
   ]
  },
  {
   "cell_type": "code",
   "execution_count": 88,
   "metadata": {},
   "outputs": [
    {
     "data": {
      "text/plain": [
       "0.968"
      ]
     },
     "execution_count": 88,
     "metadata": {},
     "output_type": "execute_result"
    }
   ],
   "source": [
    "grid_search.best_score_"
   ]
  },
  {
   "cell_type": "code",
   "execution_count": 105,
   "metadata": {},
   "outputs": [
    {
     "name": "stdout",
     "output_type": "stream",
     "text": [
      "Accurancy is:  0.9606666666666667\n"
     ]
    }
   ],
   "source": [
    "RF_default1=RandomForestClassifier(bootstrap= False, criterion= 'entropy', max_depth= 10, min_samples_leaf= 50, min_samples_split= 100, oob_score= False)\n",
    "RF_default1.fit(X_train_sc,y_train)\n",
    "print(\"Accurancy is: \",RF_default1.score(X_test_sc,y_test))"
   ]
  },
  {
   "cell_type": "code",
   "execution_count": 106,
   "metadata": {},
   "outputs": [
    {
     "data": {
      "image/png": "[encoded data removed]",
      "text/plain": [
       "<Figure size 432x288 with 1 Axes>"
      ]
     },
     "metadata": {
      "needs_background": "light"
     },
     "output_type": "display_data"
    }
   ],
   "source": [
    "from mlxtend.plotting import plot_learning_curves   \n",
    "plt.figure()\n",
    "plot_learning_curves(X_train_sc, y_train, X_test_sc, y_test, model_Lg, print_model=False, style='ggplot')\n",
    "plt.show()"
   ]
  },
  {
   "cell_type": "code",
   "execution_count": 105,
   "metadata": {},
   "outputs": [
    {
     "data": {
      "image/png": "[encoded data removed]",
      "text/plain": [
       "<Figure size 432x288 with 1 Axes>"
      ]
     },
     "metadata": {
      "needs_background": "light"
     },
     "output_type": "display_data"
    }
   ],
   "source": [
    "from mlxtend.plotting import plot_learning_curves   \n",
    "plt.figure()\n",
    "plot_learning_curves(X_train_sc, y_train, X_test_sc, y_test, dt_default, print_model=False, style='ggplot')\n",
    "plt.show()"
   ]
  },
  {
   "cell_type": "code",
   "execution_count": 106,
   "metadata": {},
   "outputs": [
    {
     "data": {
      "image/png": "[encoded data removed]",
      "text/plain": [
       "<Figure size 432x288 with 1 Axes>"
      ]
     },
     "metadata": {
      "needs_background": "light"
     },
     "output_type": "display_data"
    }
   ],
   "source": [
    "from mlxtend.plotting import plot_learning_curves   \n",
    "plt.figure()\n",
    "plot_learning_curves(X_train_sc, y_train, X_test_sc, y_test, dt_default1, print_model=False, style='ggplot')\n",
    "plt.show()"
   ]
  },
  {
   "cell_type": "code",
   "execution_count": 107,
   "metadata": {},
   "outputs": [
    {
     "data": {
      "image/png": "[encoded data removed]",
      "text/plain": [
       "<Figure size 432x288 with 1 Axes>"
      ]
     },
     "metadata": {
      "needs_background": "light"
     },
     "output_type": "display_data"
    }
   ],
   "source": [
    "from mlxtend.plotting import plot_learning_curves   \n",
    "plt.figure()\n",
    "plot_learning_curves(X_train_sc, y_train, X_test_sc, y_test, RF_default, print_model=False, style='ggplot')\n",
    "plt.show()"
   ]
  },
  {
   "cell_type": "code",
   "execution_count": 108,
   "metadata": {},
   "outputs": [
    {
     "data": {
      "image/png": "[encoded data removed]",
      "text/plain": [
       "<Figure size 432x288 with 1 Axes>"
      ]
     },
     "metadata": {
      "needs_background": "light"
     },
     "output_type": "display_data"
    }
   ],
   "source": [
    "from mlxtend.plotting import plot_learning_curves   \n",
    "plt.figure()\n",
    "plot_learning_curves(X_train_sc, y_train, X_test_sc, y_test, RF_default1, print_model=False, style='ggplot')\n",
    "plt.show()"
   ]
  },
  {
   "cell_type": "code",
   "execution_count": 109,
   "metadata": {},
   "outputs": [
    {
     "data": {
      "image/png": "[encoded data removed]",
      "text/plain": [
       "<Figure size 432x288 with 1 Axes>"
      ]
     },
     "metadata": {
      "needs_background": "light"
     },
     "output_type": "display_data"
    }
   ],
   "source": [
    "from mlxtend.plotting import plot_learning_curves   \n",
    "plt.figure()\n",
    "plot_learning_curves(X_train_sc, y_train, X_test_sc, y_test, knn, print_model=False, style='ggplot')\n",
    "plt.show()"
   ]
  },
  {
   "cell_type": "code",
   "execution_count": 87,
   "metadata": {},
   "outputs": [],
   "source": [
    "import IPython\n",
    "from IPython.display import Image\n",
    "from sklearn.tree import export_graphviz\n",
    "import pydot\n",
    "import graphviz"
   ]
  },
  {
   "cell_type": "code",
   "execution_count": 89,
   "metadata": {},
   "outputs": [
    {
     "data": {
      "image/svg+xml": [
       "<?xml version=\"1.0\" encoding=\"UTF-8\" standalone=\"no\"?>\r\n",
       "<!DOCTYPE svg PUBLIC \"-//W3C//DTD SVG 1.1//EN\"\r\n",
       " \"http://www.w3.org/Graphics/SVG/1.1/DTD/svg11.dtd\">\r\n",
       "<!-- Generated by graphviz version 2.38.0 (20140413.2041)\r\n",
       " -->\r\n",
       "<!-- Title: Tree Pages: 1 -->\r\n",
       "<svg width=\"1766pt\" height=\"581pt\"\r\n",
       " viewBox=\"0.00 0.00 1765.50 581.00\" xmlns=\"http://www.w3.org/2000/svg\" xmlns:xlink=\"http://www.w3.org/1999/xlink\">\r\n",
       "<g id=\"graph0\" class=\"graph\" transform=\"scale(1 1) rotate(0) translate(4 577)\">\r\n",
       "<title>Tree</title>\r\n",
       "<polygon fill=\"white\" stroke=\"none\" points=\"-4,4 -4,-577 1761.5,-577 1761.5,4 -4,4\"/>\r\n",
       "<!-- 0 -->\r\n",
       "<g id=\"node1\" class=\"node\"><title>0</title>\r\n",
       "<polygon fill=\"#e88e4d\" stroke=\"black\" points=\"1048.5,-573 923.5,-573 923.5,-505 1048.5,-505 1048.5,-573\"/>\r\n",
       "<text text-anchor=\"middle\" x=\"986\" y=\"-557.8\" font-family=\"Times New Roman,serif\" font-size=\"14.00\">Income &lt;= 0.679</text>\r\n",
       "<text text-anchor=\"middle\" x=\"986\" y=\"-542.8\" font-family=\"Times New Roman,serif\" font-size=\"14.00\">samples = 3500</text>\r\n",
       "<text text-anchor=\"middle\" x=\"986\" y=\"-527.8\" font-family=\"Times New Roman,serif\" font-size=\"14.00\">value = [3178, 322]</text>\r\n",
       "<text text-anchor=\"middle\" x=\"986\" y=\"-512.8\" font-family=\"Times New Roman,serif\" font-size=\"14.00\">class = Take Loan</text>\r\n",
       "</g>\r\n",
       "<!-- 1 -->\r\n",
       "<g id=\"node2\" class=\"node\"><title>1</title>\r\n",
       "<polygon fill=\"#e5833c\" stroke=\"black\" points=\"884,-469 764,-469 764,-401 884,-401 884,-469\"/>\r\n",
       "<text text-anchor=\"middle\" x=\"824\" y=\"-453.8\" font-family=\"Times New Roman,serif\" font-size=\"14.00\">CCAvg &lt;= 0.585</text>\r\n",
       "<text text-anchor=\"middle\" x=\"824\" y=\"-438.8\" font-family=\"Times New Roman,serif\" font-size=\"14.00\">samples = 2723</text>\r\n",
       "<text text-anchor=\"middle\" x=\"824\" y=\"-423.8\" font-family=\"Times New Roman,serif\" font-size=\"14.00\">value = [2686, 37]</text>\r\n",
       "<text text-anchor=\"middle\" x=\"824\" y=\"-408.8\" font-family=\"Times New Roman,serif\" font-size=\"14.00\">class = Take Loan</text>\r\n",
       "</g>\r\n",
       "<!-- 0&#45;&gt;1 -->\r\n",
       "<g id=\"edge1\" class=\"edge\"><title>0&#45;&gt;1</title>\r\n",
       "<path fill=\"none\" stroke=\"black\" d=\"M933.403,-504.884C918.047,-495.214 901.13,-484.563 885.286,-474.587\"/>\r\n",
       "<polygon fill=\"black\" stroke=\"black\" points=\"886.937,-471.491 876.61,-469.125 883.207,-477.415 886.937,-471.491\"/>\r\n",
       "<text text-anchor=\"middle\" x=\"882.15\" y=\"-489.803\" font-family=\"Times New Roman,serif\" font-size=\"14.00\">True</text>\r\n",
       "</g>\r\n",
       "<!-- 18 -->\r\n",
       "<g id=\"node19\" class=\"node\"><title>18</title>\r\n",
       "<polygon fill=\"#f4caac\" stroke=\"black\" points=\"1148,-469 1016,-469 1016,-401 1148,-401 1148,-469\"/>\r\n",
       "<text text-anchor=\"middle\" x=\"1082\" y=\"-453.8\" font-family=\"Times New Roman,serif\" font-size=\"14.00\">Education &lt;= &#45;0.456</text>\r\n",
       "<text text-anchor=\"middle\" x=\"1082\" y=\"-438.8\" font-family=\"Times New Roman,serif\" font-size=\"14.00\">samples = 777</text>\r\n",
       "<text text-anchor=\"middle\" x=\"1082\" y=\"-423.8\" font-family=\"Times New Roman,serif\" font-size=\"14.00\">value = [492, 285]</text>\r\n",
       "<text text-anchor=\"middle\" x=\"1082\" y=\"-408.8\" font-family=\"Times New Roman,serif\" font-size=\"14.00\">class = Take Loan</text>\r\n",
       "</g>\r\n",
       "<!-- 0&#45;&gt;18 -->\r\n",
       "<g id=\"edge18\" class=\"edge\"><title>0&#45;&gt;18</title>\r\n",
       "<path fill=\"none\" stroke=\"black\" d=\"M1017.17,-504.884C1025.64,-495.887 1034.9,-486.041 1043.71,-476.678\"/>\r\n",
       "<polygon fill=\"black\" stroke=\"black\" points=\"1046.35,-478.98 1050.66,-469.299 1041.26,-474.183 1046.35,-478.98\"/>\r\n",
       "<text text-anchor=\"middle\" x=\"1051.42\" y=\"-490.588\" font-family=\"Times New Roman,serif\" font-size=\"14.00\">False</text>\r\n",
       "</g>\r\n",
       "<!-- 2 -->\r\n",
       "<g id=\"node3\" class=\"node\"><title>2</title>\r\n",
       "<polygon fill=\"#e58139\" stroke=\"black\" points=\"746,-357.5 626,-357.5 626,-304.5 746,-304.5 746,-357.5\"/>\r\n",
       "<text text-anchor=\"middle\" x=\"686\" y=\"-342.3\" font-family=\"Times New Roman,serif\" font-size=\"14.00\">samples = 2546</text>\r\n",
       "<text text-anchor=\"middle\" x=\"686\" y=\"-327.3\" font-family=\"Times New Roman,serif\" font-size=\"14.00\">value = [2546, 0]</text>\r\n",
       "<text text-anchor=\"middle\" x=\"686\" y=\"-312.3\" font-family=\"Times New Roman,serif\" font-size=\"14.00\">class = Take Loan</text>\r\n",
       "</g>\r\n",
       "<!-- 1&#45;&gt;2 -->\r\n",
       "<g id=\"edge2\" class=\"edge\"><title>1&#45;&gt;2</title>\r\n",
       "<path fill=\"none\" stroke=\"black\" d=\"M779.195,-400.884C762.977,-388.896 744.716,-375.399 728.685,-363.549\"/>\r\n",
       "<polygon fill=\"black\" stroke=\"black\" points=\"730.649,-360.649 720.527,-357.52 726.488,-366.279 730.649,-360.649\"/>\r\n",
       "</g>\r\n",
       "<!-- 3 -->\r\n",
       "<g id=\"node4\" class=\"node\"><title>3</title>\r\n",
       "<polygon fill=\"#eca26d\" stroke=\"black\" points=\"884,-365 764,-365 764,-297 884,-297 884,-365\"/>\r\n",
       "<text text-anchor=\"middle\" x=\"824\" y=\"-349.8\" font-family=\"Times New Roman,serif\" font-size=\"14.00\">Income &lt;= 0.417</text>\r\n",
       "<text text-anchor=\"middle\" x=\"824\" y=\"-334.8\" font-family=\"Times New Roman,serif\" font-size=\"14.00\">samples = 177</text>\r\n",
       "<text text-anchor=\"middle\" x=\"824\" y=\"-319.8\" font-family=\"Times New Roman,serif\" font-size=\"14.00\">value = [140, 37]</text>\r\n",
       "<text text-anchor=\"middle\" x=\"824\" y=\"-304.8\" font-family=\"Times New Roman,serif\" font-size=\"14.00\">class = Take Loan</text>\r\n",
       "</g>\r\n",
       "<!-- 1&#45;&gt;3 -->\r\n",
       "<g id=\"edge3\" class=\"edge\"><title>1&#45;&gt;3</title>\r\n",
       "<path fill=\"none\" stroke=\"black\" d=\"M824,-400.884C824,-392.778 824,-383.982 824,-375.472\"/>\r\n",
       "<polygon fill=\"black\" stroke=\"black\" points=\"827.5,-375.299 824,-365.299 820.5,-375.299 827.5,-375.299\"/>\r\n",
       "</g>\r\n",
       "<!-- 4 -->\r\n",
       "<g id=\"node5\" class=\"node\"><title>4</title>\r\n",
       "<polygon fill=\"#e89153\" stroke=\"black\" points=\"461.5,-261 318.5,-261 318.5,-193 461.5,-193 461.5,-261\"/>\r\n",
       "<text text-anchor=\"middle\" x=\"390\" y=\"-245.8\" font-family=\"Times New Roman,serif\" font-size=\"14.00\">CD Account &lt;= 1.897</text>\r\n",
       "<text text-anchor=\"middle\" x=\"390\" y=\"-230.8\" font-family=\"Times New Roman,serif\" font-size=\"14.00\">samples = 131</text>\r\n",
       "<text text-anchor=\"middle\" x=\"390\" y=\"-215.8\" font-family=\"Times New Roman,serif\" font-size=\"14.00\">value = [116, 15]</text>\r\n",
       "<text text-anchor=\"middle\" x=\"390\" y=\"-200.8\" font-family=\"Times New Roman,serif\" font-size=\"14.00\">class = Take Loan</text>\r\n",
       "</g>\r\n",
       "<!-- 3&#45;&gt;4 -->\r\n",
       "<g id=\"edge4\" class=\"edge\"><title>3&#45;&gt;4</title>\r\n",
       "<path fill=\"none\" stroke=\"black\" d=\"M763.784,-300.113C760.84,-298.997 757.902,-297.95 755,-297 660.32,-265.995 546.993,-247.283 472.003,-237.319\"/>\r\n",
       "<polygon fill=\"black\" stroke=\"black\" points=\"472.051,-233.795 461.682,-235.97 471.144,-240.736 472.051,-233.795\"/>\r\n",
       "</g>\r\n",
       "<!-- 11 -->\r\n",
       "<g id=\"node12\" class=\"node\"><title>11</title>\r\n",
       "<polygon fill=\"#fdf5ef\" stroke=\"black\" points=\"884,-261 764,-261 764,-193 884,-193 884,-261\"/>\r\n",
       "<text text-anchor=\"middle\" x=\"824\" y=\"-245.8\" font-family=\"Times New Roman,serif\" font-size=\"14.00\">Family &lt;= 0.072</text>\r\n",
       "<text text-anchor=\"middle\" x=\"824\" y=\"-230.8\" font-family=\"Times New Roman,serif\" font-size=\"14.00\">samples = 46</text>\r\n",
       "<text text-anchor=\"middle\" x=\"824\" y=\"-215.8\" font-family=\"Times New Roman,serif\" font-size=\"14.00\">value = [24, 22]</text>\r\n",
       "<text text-anchor=\"middle\" x=\"824\" y=\"-200.8\" font-family=\"Times New Roman,serif\" font-size=\"14.00\">class = Take Loan</text>\r\n",
       "</g>\r\n",
       "<!-- 3&#45;&gt;11 -->\r\n",
       "<g id=\"edge11\" class=\"edge\"><title>3&#45;&gt;11</title>\r\n",
       "<path fill=\"none\" stroke=\"black\" d=\"M824,-296.884C824,-288.778 824,-279.982 824,-271.472\"/>\r\n",
       "<polygon fill=\"black\" stroke=\"black\" points=\"827.5,-271.299 824,-261.299 820.5,-271.299 827.5,-271.299\"/>\r\n",
       "</g>\r\n",
       "<!-- 5 -->\r\n",
       "<g id=\"node6\" class=\"node\"><title>5</title>\r\n",
       "<polygon fill=\"#e88e4e\" stroke=\"black\" points=\"258,-157 138,-157 138,-89 258,-89 258,-157\"/>\r\n",
       "<text text-anchor=\"middle\" x=\"198\" y=\"-141.8\" font-family=\"Times New Roman,serif\" font-size=\"14.00\">CCAvg &lt;= 0.986</text>\r\n",
       "<text text-anchor=\"middle\" x=\"198\" y=\"-126.8\" font-family=\"Times New Roman,serif\" font-size=\"14.00\">samples = 127</text>\r\n",
       "<text text-anchor=\"middle\" x=\"198\" y=\"-111.8\" font-family=\"Times New Roman,serif\" font-size=\"14.00\">value = [115, 12]</text>\r\n",
       "<text text-anchor=\"middle\" x=\"198\" y=\"-96.8\" font-family=\"Times New Roman,serif\" font-size=\"14.00\">class = Take Loan</text>\r\n",
       "</g>\r\n",
       "<!-- 4&#45;&gt;5 -->\r\n",
       "<g id=\"edge5\" class=\"edge\"><title>4&#45;&gt;5</title>\r\n",
       "<path fill=\"none\" stroke=\"black\" d=\"M327.663,-192.884C308.292,-182.593 286.828,-171.19 267.029,-160.672\"/>\r\n",
       "<polygon fill=\"black\" stroke=\"black\" points=\"268.536,-157.509 258.063,-155.908 265.252,-163.691 268.536,-157.509\"/>\r\n",
       "</g>\r\n",
       "<!-- 8 -->\r\n",
       "<g id=\"node9\" class=\"node\"><title>8</title>\r\n",
       "<polygon fill=\"#7bbeee\" stroke=\"black\" points=\"447,-157 333,-157 333,-89 447,-89 447,-157\"/>\r\n",
       "<text text-anchor=\"middle\" x=\"390\" y=\"-141.8\" font-family=\"Times New Roman,serif\" font-size=\"14.00\">CCAvg &lt;= 1.158</text>\r\n",
       "<text text-anchor=\"middle\" x=\"390\" y=\"-126.8\" font-family=\"Times New Roman,serif\" font-size=\"14.00\">samples = 4</text>\r\n",
       "<text text-anchor=\"middle\" x=\"390\" y=\"-111.8\" font-family=\"Times New Roman,serif\" font-size=\"14.00\">value = [1, 3]</text>\r\n",
       "<text text-anchor=\"middle\" x=\"390\" y=\"-96.8\" font-family=\"Times New Roman,serif\" font-size=\"14.00\">class = Not</text>\r\n",
       "</g>\r\n",
       "<!-- 4&#45;&gt;8 -->\r\n",
       "<g id=\"edge8\" class=\"edge\"><title>4&#45;&gt;8</title>\r\n",
       "<path fill=\"none\" stroke=\"black\" d=\"M390,-192.884C390,-184.778 390,-175.982 390,-167.472\"/>\r\n",
       "<polygon fill=\"black\" stroke=\"black\" points=\"393.5,-167.299 390,-157.299 386.5,-167.299 393.5,-167.299\"/>\r\n",
       "</g>\r\n",
       "<!-- 6 -->\r\n",
       "<g id=\"node7\" class=\"node\"><title>6</title>\r\n",
       "<polygon fill=\"#e9975b\" stroke=\"black\" points=\"120,-53 0,-53 0,-0 120,-0 120,-53\"/>\r\n",
       "<text text-anchor=\"middle\" x=\"60\" y=\"-37.8\" font-family=\"Times New Roman,serif\" font-size=\"14.00\">samples = 68</text>\r\n",
       "<text text-anchor=\"middle\" x=\"60\" y=\"-22.8\" font-family=\"Times New Roman,serif\" font-size=\"14.00\">value = [58, 10]</text>\r\n",
       "<text text-anchor=\"middle\" x=\"60\" y=\"-7.8\" font-family=\"Times New Roman,serif\" font-size=\"14.00\">class = Take Loan</text>\r\n",
       "</g>\r\n",
       "<!-- 5&#45;&gt;6 -->\r\n",
       "<g id=\"edge6\" class=\"edge\"><title>5&#45;&gt;6</title>\r\n",
       "<path fill=\"none\" stroke=\"black\" d=\"M149.734,-88.9485C135.574,-79.2516 120.129,-68.6752 106.107,-59.073\"/>\r\n",
       "<polygon fill=\"black\" stroke=\"black\" points=\"107.812,-55.999 97.5838,-53.2367 103.857,-61.7746 107.812,-55.999\"/>\r\n",
       "</g>\r\n",
       "<!-- 7 -->\r\n",
       "<g id=\"node8\" class=\"node\"><title>7</title>\r\n",
       "<polygon fill=\"#e68540\" stroke=\"black\" points=\"258,-53 138,-53 138,-0 258,-0 258,-53\"/>\r\n",
       "<text text-anchor=\"middle\" x=\"198\" y=\"-37.8\" font-family=\"Times New Roman,serif\" font-size=\"14.00\">samples = 59</text>\r\n",
       "<text text-anchor=\"middle\" x=\"198\" y=\"-22.8\" font-family=\"Times New Roman,serif\" font-size=\"14.00\">value = [57, 2]</text>\r\n",
       "<text text-anchor=\"middle\" x=\"198\" y=\"-7.8\" font-family=\"Times New Roman,serif\" font-size=\"14.00\">class = Take Loan</text>\r\n",
       "</g>\r\n",
       "<!-- 5&#45;&gt;7 -->\r\n",
       "<g id=\"edge7\" class=\"edge\"><title>5&#45;&gt;7</title>\r\n",
       "<path fill=\"none\" stroke=\"black\" d=\"M198,-88.9485C198,-80.7153 198,-71.848 198,-63.4814\"/>\r\n",
       "<polygon fill=\"black\" stroke=\"black\" points=\"201.5,-63.2367 198,-53.2367 194.5,-63.2367 201.5,-63.2367\"/>\r\n",
       "</g>\r\n",
       "<!-- 9 -->\r\n",
       "<g id=\"node10\" class=\"node\"><title>9</title>\r\n",
       "<polygon fill=\"#399de5\" stroke=\"black\" points=\"367.5,-53 276.5,-53 276.5,-0 367.5,-0 367.5,-53\"/>\r\n",
       "<text text-anchor=\"middle\" x=\"322\" y=\"-37.8\" font-family=\"Times New Roman,serif\" font-size=\"14.00\">samples = 3</text>\r\n",
       "<text text-anchor=\"middle\" x=\"322\" y=\"-22.8\" font-family=\"Times New Roman,serif\" font-size=\"14.00\">value = [0, 3]</text>\r\n",
       "<text text-anchor=\"middle\" x=\"322\" y=\"-7.8\" font-family=\"Times New Roman,serif\" font-size=\"14.00\">class = Not</text>\r\n",
       "</g>\r\n",
       "<!-- 8&#45;&gt;9 -->\r\n",
       "<g id=\"edge9\" class=\"edge\"><title>8&#45;&gt;9</title>\r\n",
       "<path fill=\"none\" stroke=\"black\" d=\"M366.217,-88.9485C359.832,-80.0749 352.916,-70.4648 346.493,-61.5388\"/>\r\n",
       "<polygon fill=\"black\" stroke=\"black\" points=\"349.201,-59.3094 340.52,-53.2367 343.519,-63.398 349.201,-59.3094\"/>\r\n",
       "</g>\r\n",
       "<!-- 10 -->\r\n",
       "<g id=\"node11\" class=\"node\"><title>10</title>\r\n",
       "<polygon fill=\"#e58139\" stroke=\"black\" points=\"506,-53 386,-53 386,-0 506,-0 506,-53\"/>\r\n",
       "<text text-anchor=\"middle\" x=\"446\" y=\"-37.8\" font-family=\"Times New Roman,serif\" font-size=\"14.00\">samples = 1</text>\r\n",
       "<text text-anchor=\"middle\" x=\"446\" y=\"-22.8\" font-family=\"Times New Roman,serif\" font-size=\"14.00\">value = [1, 0]</text>\r\n",
       "<text text-anchor=\"middle\" x=\"446\" y=\"-7.8\" font-family=\"Times New Roman,serif\" font-size=\"14.00\">class = Take Loan</text>\r\n",
       "</g>\r\n",
       "<!-- 8&#45;&gt;10 -->\r\n",
       "<g id=\"edge10\" class=\"edge\"><title>8&#45;&gt;10</title>\r\n",
       "<path fill=\"none\" stroke=\"black\" d=\"M409.586,-88.9485C414.736,-80.2579 420.305,-70.8608 425.501,-62.0917\"/>\r\n",
       "<polygon fill=\"black\" stroke=\"black\" points=\"428.662,-63.624 430.749,-53.2367 422.64,-60.0553 428.662,-63.624\"/>\r\n",
       "</g>\r\n",
       "<!-- 12 -->\r\n",
       "<g id=\"node13\" class=\"node\"><title>12</title>\r\n",
       "<polygon fill=\"#eeaf81\" stroke=\"black\" points=\"758,-157 638,-157 638,-89 758,-89 758,-157\"/>\r\n",
       "<text text-anchor=\"middle\" x=\"698\" y=\"-141.8\" font-family=\"Times New Roman,serif\" font-size=\"14.00\">Age &lt;= 1.281</text>\r\n",
       "<text text-anchor=\"middle\" x=\"698\" y=\"-126.8\" font-family=\"Times New Roman,serif\" font-size=\"14.00\">samples = 30</text>\r\n",
       "<text text-anchor=\"middle\" x=\"698\" y=\"-111.8\" font-family=\"Times New Roman,serif\" font-size=\"14.00\">value = [22, 8]</text>\r\n",
       "<text text-anchor=\"middle\" x=\"698\" y=\"-96.8\" font-family=\"Times New Roman,serif\" font-size=\"14.00\">class = Take Loan</text>\r\n",
       "</g>\r\n",
       "<!-- 11&#45;&gt;12 -->\r\n",
       "<g id=\"edge12\" class=\"edge\"><title>11&#45;&gt;12</title>\r\n",
       "<path fill=\"none\" stroke=\"black\" d=\"M783.091,-192.884C771.648,-183.62 759.091,-173.455 747.221,-163.845\"/>\r\n",
       "<polygon fill=\"black\" stroke=\"black\" points=\"749.109,-160.871 739.135,-157.299 744.705,-166.312 749.109,-160.871\"/>\r\n",
       "</g>\r\n",
       "<!-- 15 -->\r\n",
       "<g id=\"node16\" class=\"node\"><title>15</title>\r\n",
       "<polygon fill=\"#55abe9\" stroke=\"black\" points=\"908,-157 776,-157 776,-89 908,-89 908,-157\"/>\r\n",
       "<text text-anchor=\"middle\" x=\"842\" y=\"-141.8\" font-family=\"Times New Roman,serif\" font-size=\"14.00\">Education &lt;= &#45;0.456</text>\r\n",
       "<text text-anchor=\"middle\" x=\"842\" y=\"-126.8\" font-family=\"Times New Roman,serif\" font-size=\"14.00\">samples = 16</text>\r\n",
       "<text text-anchor=\"middle\" x=\"842\" y=\"-111.8\" font-family=\"Times New Roman,serif\" font-size=\"14.00\">value = [2, 14]</text>\r\n",
       "<text text-anchor=\"middle\" x=\"842\" y=\"-96.8\" font-family=\"Times New Roman,serif\" font-size=\"14.00\">class = Not</text>\r\n",
       "</g>\r\n",
       "<!-- 11&#45;&gt;15 -->\r\n",
       "<g id=\"edge15\" class=\"edge\"><title>11&#45;&gt;15</title>\r\n",
       "<path fill=\"none\" stroke=\"black\" d=\"M829.844,-192.884C831.29,-184.689 832.861,-175.789 834.378,-167.192\"/>\r\n",
       "<polygon fill=\"black\" stroke=\"black\" points=\"837.832,-167.755 836.124,-157.299 830.939,-166.539 837.832,-167.755\"/>\r\n",
       "</g>\r\n",
       "<!-- 13 -->\r\n",
       "<g id=\"node14\" class=\"node\"><title>13</title>\r\n",
       "<polygon fill=\"#eca36f\" stroke=\"black\" points=\"644,-53 524,-53 524,-0 644,-0 644,-53\"/>\r\n",
       "<text text-anchor=\"middle\" x=\"584\" y=\"-37.8\" font-family=\"Times New Roman,serif\" font-size=\"14.00\">samples = 28</text>\r\n",
       "<text text-anchor=\"middle\" x=\"584\" y=\"-22.8\" font-family=\"Times New Roman,serif\" font-size=\"14.00\">value = [22, 6]</text>\r\n",
       "<text text-anchor=\"middle\" x=\"584\" y=\"-7.8\" font-family=\"Times New Roman,serif\" font-size=\"14.00\">class = Take Loan</text>\r\n",
       "</g>\r\n",
       "<!-- 12&#45;&gt;13 -->\r\n",
       "<g id=\"edge13\" class=\"edge\"><title>12&#45;&gt;13</title>\r\n",
       "<path fill=\"none\" stroke=\"black\" d=\"M658.128,-88.9485C646.762,-79.526 634.393,-69.2731 623.074,-59.8906\"/>\r\n",
       "<polygon fill=\"black\" stroke=\"black\" points=\"624.98,-56.924 615.047,-53.2367 620.513,-62.3132 624.98,-56.924\"/>\r\n",
       "</g>\r\n",
       "<!-- 14 -->\r\n",
       "<g id=\"node15\" class=\"node\"><title>14</title>\r\n",
       "<polygon fill=\"#399de5\" stroke=\"black\" points=\"753.5,-53 662.5,-53 662.5,-0 753.5,-0 753.5,-53\"/>\r\n",
       "<text text-anchor=\"middle\" x=\"708\" y=\"-37.8\" font-family=\"Times New Roman,serif\" font-size=\"14.00\">samples = 2</text>\r\n",
       "<text text-anchor=\"middle\" x=\"708\" y=\"-22.8\" font-family=\"Times New Roman,serif\" font-size=\"14.00\">value = [0, 2]</text>\r\n",
       "<text text-anchor=\"middle\" x=\"708\" y=\"-7.8\" font-family=\"Times New Roman,serif\" font-size=\"14.00\">class = Not</text>\r\n",
       "</g>\r\n",
       "<!-- 12&#45;&gt;14 -->\r\n",
       "<g id=\"edge14\" class=\"edge\"><title>12&#45;&gt;14</title>\r\n",
       "<path fill=\"none\" stroke=\"black\" d=\"M701.498,-88.9485C702.378,-80.6238 703.328,-71.6509 704.222,-63.2027\"/>\r\n",
       "<polygon fill=\"black\" stroke=\"black\" points=\"707.705,-63.5495 705.277,-53.2367 700.744,-62.8128 707.705,-63.5495\"/>\r\n",
       "</g>\r\n",
       "<!-- 16 -->\r\n",
       "<g id=\"node17\" class=\"node\"><title>16</title>\r\n",
       "<polygon fill=\"#f2c09c\" stroke=\"black\" points=\"892,-53 772,-53 772,-0 892,-0 892,-53\"/>\r\n",
       "<text text-anchor=\"middle\" x=\"832\" y=\"-37.8\" font-family=\"Times New Roman,serif\" font-size=\"14.00\">samples = 3</text>\r\n",
       "<text text-anchor=\"middle\" x=\"832\" y=\"-22.8\" font-family=\"Times New Roman,serif\" font-size=\"14.00\">value = [2, 1]</text>\r\n",
       "<text text-anchor=\"middle\" x=\"832\" y=\"-7.8\" font-family=\"Times New Roman,serif\" font-size=\"14.00\">class = Take Loan</text>\r\n",
       "</g>\r\n",
       "<!-- 15&#45;&gt;16 -->\r\n",
       "<g id=\"edge16\" class=\"edge\"><title>15&#45;&gt;16</title>\r\n",
       "<path fill=\"none\" stroke=\"black\" d=\"M838.502,-88.9485C837.622,-80.6238 836.672,-71.6509 835.778,-63.2027\"/>\r\n",
       "<polygon fill=\"black\" stroke=\"black\" points=\"839.256,-62.8128 834.723,-53.2367 832.295,-63.5495 839.256,-62.8128\"/>\r\n",
       "</g>\r\n",
       "<!-- 17 -->\r\n",
       "<g id=\"node18\" class=\"node\"><title>17</title>\r\n",
       "<polygon fill=\"#399de5\" stroke=\"black\" points=\"1008,-53 910,-53 910,-0 1008,-0 1008,-53\"/>\r\n",
       "<text text-anchor=\"middle\" x=\"959\" y=\"-37.8\" font-family=\"Times New Roman,serif\" font-size=\"14.00\">samples = 13</text>\r\n",
       "<text text-anchor=\"middle\" x=\"959\" y=\"-22.8\" font-family=\"Times New Roman,serif\" font-size=\"14.00\">value = [0, 13]</text>\r\n",
       "<text text-anchor=\"middle\" x=\"959\" y=\"-7.8\" font-family=\"Times New Roman,serif\" font-size=\"14.00\">class = Not</text>\r\n",
       "</g>\r\n",
       "<!-- 15&#45;&gt;17 -->\r\n",
       "<g id=\"edge17\" class=\"edge\"><title>15&#45;&gt;17</title>\r\n",
       "<path fill=\"none\" stroke=\"black\" d=\"M882.921,-88.9485C894.7,-79.4346 907.527,-69.074 919.235,-59.6175\"/>\r\n",
       "<polygon fill=\"black\" stroke=\"black\" points=\"921.555,-62.2429 927.136,-53.2367 917.157,-56.7973 921.555,-62.2429\"/>\r\n",
       "</g>\r\n",
       "<!-- 19 -->\r\n",
       "<g id=\"node20\" class=\"node\"><title>19</title>\r\n",
       "<polygon fill=\"#e88f4f\" stroke=\"black\" points=\"1142,-365 1022,-365 1022,-297 1142,-297 1142,-365\"/>\r\n",
       "<text text-anchor=\"middle\" x=\"1082\" y=\"-349.8\" font-family=\"Times New Roman,serif\" font-size=\"14.00\">Family &lt;= 0.072</text>\r\n",
       "<text text-anchor=\"middle\" x=\"1082\" y=\"-334.8\" font-family=\"Times New Roman,serif\" font-size=\"14.00\">samples = 490</text>\r\n",
       "<text text-anchor=\"middle\" x=\"1082\" y=\"-319.8\" font-family=\"Times New Roman,serif\" font-size=\"14.00\">value = [442, 48]</text>\r\n",
       "<text text-anchor=\"middle\" x=\"1082\" y=\"-304.8\" font-family=\"Times New Roman,serif\" font-size=\"14.00\">class = Take Loan</text>\r\n",
       "</g>\r\n",
       "<!-- 18&#45;&gt;19 -->\r\n",
       "<g id=\"edge19\" class=\"edge\"><title>18&#45;&gt;19</title>\r\n",
       "<path fill=\"none\" stroke=\"black\" d=\"M1082,-400.884C1082,-392.778 1082,-383.982 1082,-375.472\"/>\r\n",
       "<polygon fill=\"black\" stroke=\"black\" points=\"1085.5,-375.299 1082,-365.299 1078.5,-375.299 1085.5,-375.299\"/>\r\n",
       "</g>\r\n",
       "<!-- 26 -->\r\n",
       "<g id=\"node27\" class=\"node\"><title>26</title>\r\n",
       "<polygon fill=\"#63b2ea\" stroke=\"black\" points=\"1480.5,-365 1367.5,-365 1367.5,-297 1480.5,-297 1480.5,-365\"/>\r\n",
       "<text text-anchor=\"middle\" x=\"1424\" y=\"-349.8\" font-family=\"Times New Roman,serif\" font-size=\"14.00\">Income &lt;= 0.941</text>\r\n",
       "<text text-anchor=\"middle\" x=\"1424\" y=\"-334.8\" font-family=\"Times New Roman,serif\" font-size=\"14.00\">samples = 287</text>\r\n",
       "<text text-anchor=\"middle\" x=\"1424\" y=\"-319.8\" font-family=\"Times New Roman,serif\" font-size=\"14.00\">value = [50, 237]</text>\r\n",
       "<text text-anchor=\"middle\" x=\"1424\" y=\"-304.8\" font-family=\"Times New Roman,serif\" font-size=\"14.00\">class = Not</text>\r\n",
       "</g>\r\n",
       "<!-- 18&#45;&gt;26 -->\r\n",
       "<g id=\"edge26\" class=\"edge\"><title>18&#45;&gt;26</title>\r\n",
       "<path fill=\"none\" stroke=\"black\" d=\"M1148.35,-414.212C1208.7,-396.212 1297.32,-369.783 1357.67,-351.784\"/>\r\n",
       "<polygon fill=\"black\" stroke=\"black\" points=\"1358.89,-355.071 1367.47,-348.859 1356.89,-348.363 1358.89,-355.071\"/>\r\n",
       "</g>\r\n",
       "<!-- 20 -->\r\n",
       "<g id=\"node21\" class=\"node\"><title>20</title>\r\n",
       "<polygon fill=\"#e58139\" stroke=\"black\" points=\"1074,-253.5 954,-253.5 954,-200.5 1074,-200.5 1074,-253.5\"/>\r\n",
       "<text text-anchor=\"middle\" x=\"1014\" y=\"-238.3\" font-family=\"Times New Roman,serif\" font-size=\"14.00\">samples = 434</text>\r\n",
       "<text text-anchor=\"middle\" x=\"1014\" y=\"-223.3\" font-family=\"Times New Roman,serif\" font-size=\"14.00\">value = [434, 0]</text>\r\n",
       "<text text-anchor=\"middle\" x=\"1014\" y=\"-208.3\" font-family=\"Times New Roman,serif\" font-size=\"14.00\">class = Take Loan</text>\r\n",
       "</g>\r\n",
       "<!-- 19&#45;&gt;20 -->\r\n",
       "<g id=\"edge20\" class=\"edge\"><title>19&#45;&gt;20</title>\r\n",
       "<path fill=\"none\" stroke=\"black\" d=\"M1059.92,-296.884C1052.44,-285.666 1044.08,-273.126 1036.57,-261.852\"/>\r\n",
       "<polygon fill=\"black\" stroke=\"black\" points=\"1039.47,-259.899 1031.01,-253.52 1033.65,-263.782 1039.47,-259.899\"/>\r\n",
       "</g>\r\n",
       "<!-- 21 -->\r\n",
       "<g id=\"node22\" class=\"node\"><title>21</title>\r\n",
       "<polygon fill=\"#5aade9\" stroke=\"black\" points=\"1205.5,-261 1092.5,-261 1092.5,-193 1205.5,-193 1205.5,-261\"/>\r\n",
       "<text text-anchor=\"middle\" x=\"1149\" y=\"-245.8\" font-family=\"Times New Roman,serif\" font-size=\"14.00\">Income &lt;= 0.876</text>\r\n",
       "<text text-anchor=\"middle\" x=\"1149\" y=\"-230.8\" font-family=\"Times New Roman,serif\" font-size=\"14.00\">samples = 56</text>\r\n",
       "<text text-anchor=\"middle\" x=\"1149\" y=\"-215.8\" font-family=\"Times New Roman,serif\" font-size=\"14.00\">value = [8, 48]</text>\r\n",
       "<text text-anchor=\"middle\" x=\"1149\" y=\"-200.8\" font-family=\"Times New Roman,serif\" font-size=\"14.00\">class = Not</text>\r\n",
       "</g>\r\n",
       "<!-- 19&#45;&gt;21 -->\r\n",
       "<g id=\"edge21\" class=\"edge\"><title>19&#45;&gt;21</title>\r\n",
       "<path fill=\"none\" stroke=\"black\" d=\"M1103.75,-296.884C1109.43,-288.243 1115.62,-278.819 1121.55,-269.793\"/>\r\n",
       "<polygon fill=\"black\" stroke=\"black\" points=\"1124.56,-271.579 1127.13,-261.299 1118.71,-267.736 1124.56,-271.579\"/>\r\n",
       "</g>\r\n",
       "<!-- 22 -->\r\n",
       "<g id=\"node23\" class=\"node\"><title>22</title>\r\n",
       "<polygon fill=\"#f5d0b5\" stroke=\"black\" points=\"1164,-157 1044,-157 1044,-89 1164,-89 1164,-157\"/>\r\n",
       "<text text-anchor=\"middle\" x=\"1104\" y=\"-141.8\" font-family=\"Times New Roman,serif\" font-size=\"14.00\">Family &lt;= 0.945</text>\r\n",
       "<text text-anchor=\"middle\" x=\"1104\" y=\"-126.8\" font-family=\"Times New Roman,serif\" font-size=\"14.00\">samples = 13</text>\r\n",
       "<text text-anchor=\"middle\" x=\"1104\" y=\"-111.8\" font-family=\"Times New Roman,serif\" font-size=\"14.00\">value = [8, 5]</text>\r\n",
       "<text text-anchor=\"middle\" x=\"1104\" y=\"-96.8\" font-family=\"Times New Roman,serif\" font-size=\"14.00\">class = Take Loan</text>\r\n",
       "</g>\r\n",
       "<!-- 21&#45;&gt;22 -->\r\n",
       "<g id=\"edge22\" class=\"edge\"><title>21&#45;&gt;22</title>\r\n",
       "<path fill=\"none\" stroke=\"black\" d=\"M1134.39,-192.884C1130.7,-184.511 1126.68,-175.401 1122.81,-166.631\"/>\r\n",
       "<polygon fill=\"black\" stroke=\"black\" points=\"1125.93,-165.036 1118.69,-157.299 1119.53,-167.861 1125.93,-165.036\"/>\r\n",
       "</g>\r\n",
       "<!-- 25 -->\r\n",
       "<g id=\"node26\" class=\"node\"><title>25</title>\r\n",
       "<polygon fill=\"#399de5\" stroke=\"black\" points=\"1280,-149.5 1182,-149.5 1182,-96.5 1280,-96.5 1280,-149.5\"/>\r\n",
       "<text text-anchor=\"middle\" x=\"1231\" y=\"-134.3\" font-family=\"Times New Roman,serif\" font-size=\"14.00\">samples = 43</text>\r\n",
       "<text text-anchor=\"middle\" x=\"1231\" y=\"-119.3\" font-family=\"Times New Roman,serif\" font-size=\"14.00\">value = [0, 43]</text>\r\n",
       "<text text-anchor=\"middle\" x=\"1231\" y=\"-104.3\" font-family=\"Times New Roman,serif\" font-size=\"14.00\">class = Not</text>\r\n",
       "</g>\r\n",
       "<!-- 21&#45;&gt;25 -->\r\n",
       "<g id=\"edge25\" class=\"edge\"><title>21&#45;&gt;25</title>\r\n",
       "<path fill=\"none\" stroke=\"black\" d=\"M1175.62,-192.884C1184.73,-181.556 1194.92,-168.88 1204.05,-157.521\"/>\r\n",
       "<polygon fill=\"black\" stroke=\"black\" points=\"1206.95,-159.507 1210.48,-149.52 1201.49,-155.121 1206.95,-159.507\"/>\r\n",
       "</g>\r\n",
       "<!-- 23 -->\r\n",
       "<g id=\"node24\" class=\"node\"><title>23</title>\r\n",
       "<polygon fill=\"#e89152\" stroke=\"black\" points=\"1146,-53 1026,-53 1026,-0 1146,-0 1146,-53\"/>\r\n",
       "<text text-anchor=\"middle\" x=\"1086\" y=\"-37.8\" font-family=\"Times New Roman,serif\" font-size=\"14.00\">samples = 9</text>\r\n",
       "<text text-anchor=\"middle\" x=\"1086\" y=\"-22.8\" font-family=\"Times New Roman,serif\" font-size=\"14.00\">value = [8, 1]</text>\r\n",
       "<text text-anchor=\"middle\" x=\"1086\" y=\"-7.8\" font-family=\"Times New Roman,serif\" font-size=\"14.00\">class = Take Loan</text>\r\n",
       "</g>\r\n",
       "<!-- 22&#45;&gt;23 -->\r\n",
       "<g id=\"edge23\" class=\"edge\"><title>22&#45;&gt;23</title>\r\n",
       "<path fill=\"none\" stroke=\"black\" d=\"M1097.7,-88.9485C1096.12,-80.6238 1094.41,-71.6509 1092.8,-63.2027\"/>\r\n",
       "<polygon fill=\"black\" stroke=\"black\" points=\"1096.21,-62.4052 1090.9,-53.2367 1089.34,-63.715 1096.21,-62.4052\"/>\r\n",
       "</g>\r\n",
       "<!-- 24 -->\r\n",
       "<g id=\"node25\" class=\"node\"><title>24</title>\r\n",
       "<polygon fill=\"#399de5\" stroke=\"black\" points=\"1255.5,-53 1164.5,-53 1164.5,-0 1255.5,-0 1255.5,-53\"/>\r\n",
       "<text text-anchor=\"middle\" x=\"1210\" y=\"-37.8\" font-family=\"Times New Roman,serif\" font-size=\"14.00\">samples = 4</text>\r\n",
       "<text text-anchor=\"middle\" x=\"1210\" y=\"-22.8\" font-family=\"Times New Roman,serif\" font-size=\"14.00\">value = [0, 4]</text>\r\n",
       "<text text-anchor=\"middle\" x=\"1210\" y=\"-7.8\" font-family=\"Times New Roman,serif\" font-size=\"14.00\">class = Not</text>\r\n",
       "</g>\r\n",
       "<!-- 22&#45;&gt;24 -->\r\n",
       "<g id=\"edge24\" class=\"edge\"><title>22&#45;&gt;24</title>\r\n",
       "<path fill=\"none\" stroke=\"black\" d=\"M1141.07,-88.9485C1151.54,-79.6175 1162.92,-69.4722 1173.36,-60.1641\"/>\r\n",
       "<polygon fill=\"black\" stroke=\"black\" points=\"1176,-62.5038 1181.13,-53.2367 1171.34,-57.2788 1176,-62.5038\"/>\r\n",
       "</g>\r\n",
       "<!-- 27 -->\r\n",
       "<g id=\"node28\" class=\"node\"><title>27</title>\r\n",
       "<polygon fill=\"#f2c09c\" stroke=\"black\" points=\"1484,-261 1364,-261 1364,-193 1484,-193 1484,-261\"/>\r\n",
       "<text text-anchor=\"middle\" x=\"1424\" y=\"-245.8\" font-family=\"Times New Roman,serif\" font-size=\"14.00\">CCAvg &lt;= 0.457</text>\r\n",
       "<text text-anchor=\"middle\" x=\"1424\" y=\"-230.8\" font-family=\"Times New Roman,serif\" font-size=\"14.00\">samples = 75</text>\r\n",
       "<text text-anchor=\"middle\" x=\"1424\" y=\"-215.8\" font-family=\"Times New Roman,serif\" font-size=\"14.00\">value = [50, 25]</text>\r\n",
       "<text text-anchor=\"middle\" x=\"1424\" y=\"-200.8\" font-family=\"Times New Roman,serif\" font-size=\"14.00\">class = Take Loan</text>\r\n",
       "</g>\r\n",
       "<!-- 26&#45;&gt;27 -->\r\n",
       "<g id=\"edge27\" class=\"edge\"><title>26&#45;&gt;27</title>\r\n",
       "<path fill=\"none\" stroke=\"black\" d=\"M1424,-296.884C1424,-288.778 1424,-279.982 1424,-271.472\"/>\r\n",
       "<polygon fill=\"black\" stroke=\"black\" points=\"1427.5,-271.299 1424,-261.299 1420.5,-271.299 1427.5,-271.299\"/>\r\n",
       "</g>\r\n",
       "<!-- 34 -->\r\n",
       "<g id=\"node35\" class=\"node\"><title>34</title>\r\n",
       "<polygon fill=\"#399de5\" stroke=\"black\" points=\"1606,-253.5 1502,-253.5 1502,-200.5 1606,-200.5 1606,-253.5\"/>\r\n",
       "<text text-anchor=\"middle\" x=\"1554\" y=\"-238.3\" font-family=\"Times New Roman,serif\" font-size=\"14.00\">samples = 212</text>\r\n",
       "<text text-anchor=\"middle\" x=\"1554\" y=\"-223.3\" font-family=\"Times New Roman,serif\" font-size=\"14.00\">value = [0, 212]</text>\r\n",
       "<text text-anchor=\"middle\" x=\"1554\" y=\"-208.3\" font-family=\"Times New Roman,serif\" font-size=\"14.00\">class = Not</text>\r\n",
       "</g>\r\n",
       "<!-- 26&#45;&gt;34 -->\r\n",
       "<g id=\"edge34\" class=\"edge\"><title>26&#45;&gt;34</title>\r\n",
       "<path fill=\"none\" stroke=\"black\" d=\"M1466.21,-296.884C1481.35,-285.006 1498.37,-271.646 1513.37,-259.876\"/>\r\n",
       "<polygon fill=\"black\" stroke=\"black\" points=\"1515.77,-262.446 1521.47,-253.52 1511.45,-256.939 1515.77,-262.446\"/>\r\n",
       "</g>\r\n",
       "<!-- 28 -->\r\n",
       "<g id=\"node29\" class=\"node\"><title>28</title>\r\n",
       "<polygon fill=\"#e9965b\" stroke=\"black\" points=\"1484,-157 1364,-157 1364,-89 1484,-89 1484,-157\"/>\r\n",
       "<text text-anchor=\"middle\" x=\"1424\" y=\"-141.8\" font-family=\"Times New Roman,serif\" font-size=\"14.00\">CCAvg &lt;= &#45;0.388</text>\r\n",
       "<text text-anchor=\"middle\" x=\"1424\" y=\"-126.8\" font-family=\"Times New Roman,serif\" font-size=\"14.00\">samples = 55</text>\r\n",
       "<text text-anchor=\"middle\" x=\"1424\" y=\"-111.8\" font-family=\"Times New Roman,serif\" font-size=\"14.00\">value = [47, 8]</text>\r\n",
       "<text text-anchor=\"middle\" x=\"1424\" y=\"-96.8\" font-family=\"Times New Roman,serif\" font-size=\"14.00\">class = Take Loan</text>\r\n",
       "</g>\r\n",
       "<!-- 27&#45;&gt;28 -->\r\n",
       "<g id=\"edge28\" class=\"edge\"><title>27&#45;&gt;28</title>\r\n",
       "<path fill=\"none\" stroke=\"black\" d=\"M1424,-192.884C1424,-184.778 1424,-175.982 1424,-167.472\"/>\r\n",
       "<polygon fill=\"black\" stroke=\"black\" points=\"1427.5,-167.299 1424,-157.299 1420.5,-167.299 1427.5,-167.299\"/>\r\n",
       "</g>\r\n",
       "<!-- 31 -->\r\n",
       "<g id=\"node32\" class=\"node\"><title>31</title>\r\n",
       "<polygon fill=\"#5caeea\" stroke=\"black\" points=\"1648,-157 1550,-157 1550,-89 1648,-89 1648,-157\"/>\r\n",
       "<text text-anchor=\"middle\" x=\"1599\" y=\"-141.8\" font-family=\"Times New Roman,serif\" font-size=\"14.00\">Age &lt;= 0.14</text>\r\n",
       "<text text-anchor=\"middle\" x=\"1599\" y=\"-126.8\" font-family=\"Times New Roman,serif\" font-size=\"14.00\">samples = 20</text>\r\n",
       "<text text-anchor=\"middle\" x=\"1599\" y=\"-111.8\" font-family=\"Times New Roman,serif\" font-size=\"14.00\">value = [3, 17]</text>\r\n",
       "<text text-anchor=\"middle\" x=\"1599\" y=\"-96.8\" font-family=\"Times New Roman,serif\" font-size=\"14.00\">class = Not</text>\r\n",
       "</g>\r\n",
       "<!-- 27&#45;&gt;31 -->\r\n",
       "<g id=\"edge31\" class=\"edge\"><title>27&#45;&gt;31</title>\r\n",
       "<path fill=\"none\" stroke=\"black\" d=\"M1480.82,-192.884C1500.12,-181.634 1521.7,-169.056 1541.08,-157.757\"/>\r\n",
       "<polygon fill=\"black\" stroke=\"black\" points=\"1542.94,-160.725 1549.82,-152.666 1539.42,-154.677 1542.94,-160.725\"/>\r\n",
       "</g>\r\n",
       "<!-- 29 -->\r\n",
       "<g id=\"node30\" class=\"node\"><title>29</title>\r\n",
       "<polygon fill=\"#efb185\" stroke=\"black\" points=\"1394,-53 1274,-53 1274,-0 1394,-0 1394,-53\"/>\r\n",
       "<text text-anchor=\"middle\" x=\"1334\" y=\"-37.8\" font-family=\"Times New Roman,serif\" font-size=\"14.00\">samples = 18</text>\r\n",
       "<text text-anchor=\"middle\" x=\"1334\" y=\"-22.8\" font-family=\"Times New Roman,serif\" font-size=\"14.00\">value = [13, 5]</text>\r\n",
       "<text text-anchor=\"middle\" x=\"1334\" y=\"-7.8\" font-family=\"Times New Roman,serif\" font-size=\"14.00\">class = Take Loan</text>\r\n",
       "</g>\r\n",
       "<!-- 28&#45;&gt;29 -->\r\n",
       "<g id=\"edge29\" class=\"edge\"><title>28&#45;&gt;29</title>\r\n",
       "<path fill=\"none\" stroke=\"black\" d=\"M1392.52,-88.9485C1383.81,-79.8005 1374.35,-69.8697 1365.63,-60.7126\"/>\r\n",
       "<polygon fill=\"black\" stroke=\"black\" points=\"1367.94,-58.0643 1358.51,-53.2367 1362.87,-62.8919 1367.94,-58.0643\"/>\r\n",
       "</g>\r\n",
       "<!-- 30 -->\r\n",
       "<g id=\"node31\" class=\"node\"><title>30</title>\r\n",
       "<polygon fill=\"#e78c4a\" stroke=\"black\" points=\"1532,-53 1412,-53 1412,-0 1532,-0 1532,-53\"/>\r\n",
       "<text text-anchor=\"middle\" x=\"1472\" y=\"-37.8\" font-family=\"Times New Roman,serif\" font-size=\"14.00\">samples = 37</text>\r\n",
       "<text text-anchor=\"middle\" x=\"1472\" y=\"-22.8\" font-family=\"Times New Roman,serif\" font-size=\"14.00\">value = [34, 3]</text>\r\n",
       "<text text-anchor=\"middle\" x=\"1472\" y=\"-7.8\" font-family=\"Times New Roman,serif\" font-size=\"14.00\">class = Take Loan</text>\r\n",
       "</g>\r\n",
       "<!-- 28&#45;&gt;30 -->\r\n",
       "<g id=\"edge30\" class=\"edge\"><title>28&#45;&gt;30</title>\r\n",
       "<path fill=\"none\" stroke=\"black\" d=\"M1440.79,-88.9485C1445.16,-80.3494 1449.88,-71.0586 1454.29,-62.3689\"/>\r\n",
       "<polygon fill=\"black\" stroke=\"black\" points=\"1457.52,-63.7376 1458.93,-53.2367 1451.28,-60.5675 1457.52,-63.7376\"/>\r\n",
       "</g>\r\n",
       "<!-- 32 -->\r\n",
       "<g id=\"node33\" class=\"node\"><title>32</title>\r\n",
       "<polygon fill=\"#399de5\" stroke=\"black\" points=\"1648,-53 1550,-53 1550,-0 1648,-0 1648,-53\"/>\r\n",
       "<text text-anchor=\"middle\" x=\"1599\" y=\"-37.8\" font-family=\"Times New Roman,serif\" font-size=\"14.00\">samples = 10</text>\r\n",
       "<text text-anchor=\"middle\" x=\"1599\" y=\"-22.8\" font-family=\"Times New Roman,serif\" font-size=\"14.00\">value = [0, 10]</text>\r\n",
       "<text text-anchor=\"middle\" x=\"1599\" y=\"-7.8\" font-family=\"Times New Roman,serif\" font-size=\"14.00\">class = Not</text>\r\n",
       "</g>\r\n",
       "<!-- 31&#45;&gt;32 -->\r\n",
       "<g id=\"edge32\" class=\"edge\"><title>31&#45;&gt;32</title>\r\n",
       "<path fill=\"none\" stroke=\"black\" d=\"M1599,-88.9485C1599,-80.7153 1599,-71.848 1599,-63.4814\"/>\r\n",
       "<polygon fill=\"black\" stroke=\"black\" points=\"1602.5,-63.2367 1599,-53.2367 1595.5,-63.2367 1602.5,-63.2367\"/>\r\n",
       "</g>\r\n",
       "<!-- 33 -->\r\n",
       "<g id=\"node34\" class=\"node\"><title>33</title>\r\n",
       "<polygon fill=\"#8ec7f0\" stroke=\"black\" points=\"1757.5,-53 1666.5,-53 1666.5,-0 1757.5,-0 1757.5,-53\"/>\r\n",
       "<text text-anchor=\"middle\" x=\"1712\" y=\"-37.8\" font-family=\"Times New Roman,serif\" font-size=\"14.00\">samples = 10</text>\r\n",
       "<text text-anchor=\"middle\" x=\"1712\" y=\"-22.8\" font-family=\"Times New Roman,serif\" font-size=\"14.00\">value = [3, 7]</text>\r\n",
       "<text text-anchor=\"middle\" x=\"1712\" y=\"-7.8\" font-family=\"Times New Roman,serif\" font-size=\"14.00\">class = Not</text>\r\n",
       "</g>\r\n",
       "<!-- 31&#45;&gt;33 -->\r\n",
       "<g id=\"edge33\" class=\"edge\"><title>31&#45;&gt;33</title>\r\n",
       "<path fill=\"none\" stroke=\"black\" d=\"M1638.52,-88.9485C1649.79,-79.526 1662.05,-69.2731 1673.27,-59.8906\"/>\r\n",
       "<polygon fill=\"black\" stroke=\"black\" points=\"1675.8,-62.3368 1681.22,-53.2367 1671.31,-56.967 1675.8,-62.3368\"/>\r\n",
       "</g>\r\n",
       "</g>\r\n",
       "</svg>\r\n"
      ],
      "text/plain": [
       "<graphviz.files.Source at 0x1f18acb3b88>"
      ]
     },
     "execution_count": 89,
     "metadata": {},
     "output_type": "execute_result"
    }
   ],
   "source": [
    "graphviz.Source(export_graphviz(dt_default, class_names=[\"Take Loan\", \"Not\"],feature_names=X.columns, impurity=False, filled=True))"
   ]
  },
  {
   "cell_type": "code",
   "execution_count": 108,
   "metadata": {},
   "outputs": [
    {
     "name": "stdout",
     "output_type": "stream",
     "text": [
      "0.984\n"
     ]
    }
   ],
   "source": [
    "from sklearn.ensemble import BaggingClassifier\n",
    "from sklearn import tree\n",
    "model_bagg = BaggingClassifier(tree.DecisionTreeClassifier(random_state=1))\n",
    "model_bagg.fit(X_train_sc, y_train)\n",
    "print(model_bagg.score(X_test_sc,y_test))"
   ]
  },
  {
   "cell_type": "code",
   "execution_count": 109,
   "metadata": {},
   "outputs": [
    {
     "data": {
      "text/plain": [
       "0.9833333333333333"
      ]
     },
     "execution_count": 109,
     "metadata": {},
     "output_type": "execute_result"
    }
   ],
   "source": [
    "model_ADA = AdaBoostClassifier(base_estimator=RandomForestClassifier(),random_state=1)\n",
    "model_ADA.fit(X_train_sc, y_train)\n",
    "model_ADA.score(X_test_sc,y_test)"
   ]
  },
  {
   "cell_type": "code",
   "execution_count": 110,
   "metadata": {},
   "outputs": [
    {
     "data": {
      "text/plain": [
       "0.9826666666666667"
      ]
     },
     "execution_count": 110,
     "metadata": {},
     "output_type": "execute_result"
    }
   ],
   "source": [
    "model_ADA = AdaBoostClassifier(base_estimator=RF_default1,random_state=1)\n",
    "model_ADA.fit(X_train_sc, y_train)\n",
    "model_ADA.score(X_test_sc,y_test)"
   ]
  },
  {
   "cell_type": "code",
   "execution_count": 111,
   "metadata": {},
   "outputs": [
    {
     "data": {
      "text/plain": [
       "0.978"
      ]
     },
     "execution_count": 111,
     "metadata": {},
     "output_type": "execute_result"
    }
   ],
   "source": [
    "model_GB= GradientBoostingClassifier(learning_rate=0.01,random_state=1)\n",
    "model_GB.fit(X_train_sc, y_train)\n",
    "model_GB.score(X_test_sc,y_test)"
   ]
  },
  {
   "cell_type": "code",
   "execution_count": 112,
   "metadata": {},
   "outputs": [
    {
     "data": {
      "text/plain": [
       "0.9826666666666667"
      ]
     },
     "execution_count": 112,
     "metadata": {},
     "output_type": "execute_result"
    }
   ],
   "source": [
    "# XGBoosting \n",
    "import xgboost as xgb\n",
    "model_XG=xgb.XGBClassifier()\n",
    "model_XG.fit(X_train_sc,y_train)\n",
    "model_XG.score(X_test_sc,y_test)"
   ]
  },
  {
   "cell_type": "code",
   "execution_count": 126,
   "metadata": {},
   "outputs": [
    {
     "data": {
      "image/png": "[encoded data removed]",
      "text/plain": [
       "<Figure size 432x288 with 1 Axes>"
      ]
     },
     "metadata": {
      "needs_background": "light"
     },
     "output_type": "display_data"
    }
   ],
   "source": [
    "from mlxtend.plotting import plot_learning_curves   \n",
    "plt.figure()\n",
    "plot_learning_curves(X_train_sc, y_train, X_test_sc, y_test, model_bagg, print_model=False, style='ggplot')\n",
    "plt.show()"
   ]
  },
  {
   "cell_type": "code",
   "execution_count": 123,
   "metadata": {},
   "outputs": [
    {
     "data": {
      "image/png": "[encoded data removed]",
      "text/plain": [
       "<Figure size 432x288 with 1 Axes>"
      ]
     },
     "metadata": {
      "needs_background": "light"
     },
     "output_type": "display_data"
    }
   ],
   "source": [
    "from mlxtend.plotting import plot_learning_curves   \n",
    "plt.figure()\n",
    "plot_learning_curves(X_train_sc, y_train, X_test_sc, y_test, model_XG, print_model=False, style='ggplot')\n",
    "plt.show()"
   ]
  },
  {
   "cell_type": "code",
   "execution_count": 124,
   "metadata": {},
   "outputs": [
    {
     "data": {
      "image/png": "[encoded data removed]",
      "text/plain": [
       "<Figure size 432x288 with 1 Axes>"
      ]
     },
     "metadata": {
      "needs_background": "light"
     },
     "output_type": "display_data"
    }
   ],
   "source": [
    "from mlxtend.plotting import plot_learning_curves   \n",
    "plt.figure()\n",
    "plot_learning_curves(X_train_sc, y_train, X_test_sc, y_test, model_GB, print_model=False, style='ggplot')\n",
    "plt.show()"
   ]
  },
  {
   "cell_type": "code",
   "execution_count": 114,
   "metadata": {},
   "outputs": [
    {
     "data": {
      "text/plain": [
       "0.982"
      ]
     },
     "execution_count": 114,
     "metadata": {},
     "output_type": "execute_result"
    }
   ],
   "source": [
    "from sklearn.ensemble import VotingClassifier\n",
    "estimate= [(\"Bagging\",model_bagg), (\"Gradient Boosting\", model_GB), (\"XGboosting\",model_XG), (\"Adaptive Boosting\",model_ADA), (\"DT\",dt_default1),(\"RF\",RF_default1)]\n",
    "\n",
    "VC1=VotingClassifier(estimators=estimate, voting='soft')\n",
    "model_vc1=VC1.fit(X_train_sc, y_train)\n",
    "model_vc1.score(X_test_sc,y_test)"
   ]
  },
  {
   "cell_type": "code",
   "execution_count": 92,
   "metadata": {},
   "outputs": [],
   "source": [
    "from sklearn import model_selection\n",
    "GB_bias=[]\n",
    "for val in np.arange(1,200):\n",
    "  gb=GradientBoostingClassifier(n_estimators=val)\n",
    "  #kfold = sklearn.model_selection.KFold(shuffle=True,n_splits=3,random_state=0)\n",
    "  cv_results = model_selection.cross_val_score(gb, X_train_sc, y_train,cv=3, scoring='f1_weighted')\n",
    "  GB_bias.append(1-np.mean(cv_results))\n",
    "  #print(val,1-np.mean(cv_results))"
   ]
  },
  {
   "cell_type": "code",
   "execution_count": 95,
   "metadata": {},
   "outputs": [
    {
     "data": {
      "text/plain": [
       "[<matplotlib.lines.Line2D at 0x1f18b120308>]"
      ]
     },
     "execution_count": 95,
     "metadata": {},
     "output_type": "execute_result"
    },
    {
     "data": {
      "image/png": "[encoded data removed]",
      "text/plain": [
       "<Figure size 432x288 with 1 Axes>"
      ]
     },
     "metadata": {
      "needs_background": "light"
     },
     "output_type": "display_data"
    }
   ],
   "source": [
    "x_axis=np.arange(1,200)\n",
    "plt.plot(x_axis,GB_bias)"
   ]
  },
  {
   "cell_type": "code",
   "execution_count": 93,
   "metadata": {},
   "outputs": [],
   "source": [
    "RF_var=[]\n",
    "for val in np.arange(1,50):\n",
    "  RF=RandomForestClassifier(criterion='gini',n_estimators=val,random_state=0)\n",
    "  cv_results = model_selection.cross_val_score(RF, X_train_sc, y_train,cv=3, scoring='f1_weighted')\n",
    "  RF_var.append(np.var(cv_results,ddof=1))"
   ]
  },
  {
   "cell_type": "code",
   "execution_count": 96,
   "metadata": {},
   "outputs": [
    {
     "data": {
      "text/plain": [
       "[<matplotlib.lines.Line2D at 0x1f18b208b88>]"
      ]
     },
     "execution_count": 96,
     "metadata": {},
     "output_type": "execute_result"
    },
    {
     "data": {
      "image/png": "[encoded data removed]",
      "text/plain": [
       "<Figure size 432x288 with 1 Axes>"
      ]
     },
     "metadata": {
      "needs_background": "light"
     },
     "output_type": "display_data"
    }
   ],
   "source": [
    "x_axis=np.arange(1,50)\n",
    "plt.plot(x_axis,RF_var)"
   ]
  },
  {
   "cell_type": "code",
   "execution_count": null,
   "metadata": {},
   "outputs": [],
   "source": []
  },
  {
   "cell_type": "code",
   "execution_count": 139,
   "metadata": {},
   "outputs": [],
   "source": [
    "from sklearn.model_selection import cross_val_score"
   ]
  },
  {
   "cell_type": "code",
   "execution_count": 115,
   "metadata": {},
   "outputs": [],
   "source": [
    "models = []\n",
    "models.append(('LR' ,model_Lg))\n",
    "models.append(('KNN',knn))\n",
    "models.append(('DT',dt_default1))\n",
    "models.append(('RF',RF_default1))\n",
    "models.append(('Bagg',model_bagg))\n",
    "models.append(('ADA',model_ADA))\n",
    "models.append(('GB',model_GB))\n",
    "models.append(('XGB',model_XG))\n",
    "models.append(('Voting',model_vc1))\n",
    "#models.append(('Stacked',stacked))"
   ]
  },
  {
   "cell_type": "code",
   "execution_count": 116,
   "metadata": {},
   "outputs": [],
   "source": [
    "import sklearn.model_selection\n",
    "from sklearn.model_selection import cross_val_score"
   ]
  },
  {
   "cell_type": "code",
   "execution_count": 118,
   "metadata": {},
   "outputs": [
    {
     "name": "stdout",
     "output_type": "stream",
     "text": [
      "LR: 0.951553 (0.000069)\n",
      "KNN: 0.951613 (0.000090)\n",
      "DT: 0.968825 (0.000161)\n",
      "RF: 0.956888 (0.000030)\n",
      "Bagg: 0.986309 (0.000020)\n",
      "ADA: 0.988310 (0.000024)\n",
      "GB: 0.976779 (0.000002)\n",
      "XGB: 0.987744 (0.000022)\n",
      "Voting: 0.986163 (0.000036)\n"
     ]
    },
    {
     "data": {
      "image/png": "[encoded data removed]",
      "text/plain": [
       "<Figure size 432x288 with 1 Axes>"
      ]
     },
     "metadata": {
      "needs_background": "light"
     },
     "output_type": "display_data"
    }
   ],
   "source": [
    "import sklearn.model_selection\n",
    "from sklearn.model_selection import cross_val_score\n",
    "# evaluate each model in turn\n",
    "results = []\n",
    "names = []\n",
    "for name, model in models:\n",
    "    kfold = model_selection.KFold(shuffle=True,n_splits=3,random_state=0)\n",
    "    cv_results = model_selection.cross_val_score(model, X_train_sc, y_train,cv=kfold, scoring='f1_weighted')\n",
    "    results.append(cv_results)\n",
    "    names.append(name)\n",
    "    print(\"%s: %f (%f)\" % (name, np.mean(cv_results),np.var(cv_results,ddof=1)))\n",
    "   # boxplot algorithm comparison\n",
    "fig = plt.figure()\n",
    "fig.suptitle('Algorithm Comparison')\n",
    "ax = fig.add_subplot(111)\n",
    "plt.boxplot(results)\n",
    "ax.set_xticklabels(names)\n",
    "plt.show()"
   ]
  },
  {
   "cell_type": "code",
   "execution_count": 97,
   "metadata": {},
   "outputs": [
    {
     "name": "stdout",
     "output_type": "stream",
     "text": [
      "0.9590651091962561\n"
     ]
    }
   ],
   "source": [
    "scores=cross_val_score(model_Lg,X_train_sc,y_train,cv=5,scoring='roc_auc')\n",
    "print(scores.mean())"
   ]
  },
  {
   "cell_type": "code",
   "execution_count": 144,
   "metadata": {},
   "outputs": [
    {
     "name": "stdout",
     "output_type": "stream",
     "text": [
      "[0.99809557 0.99345994 0.99751132]\n"
     ]
    }
   ],
   "source": [
    "scores=cross_val_score(model_vc1,X_train_sc,y_train,cv=3,scoring='roc_auc')\n",
    "print(scores)"
   ]
  },
  {
   "cell_type": "code",
   "execution_count": 75,
   "metadata": {},
   "outputs": [
    {
     "data": {
      "text/plain": [
       "0.00019197688355633273"
      ]
     },
     "execution_count": 75,
     "metadata": {},
     "output_type": "execute_result"
    }
   ],
   "source": [
    "np.var(scores,ddof=1)"
   ]
  },
  {
   "cell_type": "code",
   "execution_count": 151,
   "metadata": {},
   "outputs": [
    {
     "name": "stdout",
     "output_type": "stream",
     "text": [
      "Accuracy: 0.99 (+/- 0.00) [Decision Tree]\n"
     ]
    },
    {
     "name": "stderr",
     "output_type": "stream",
     "text": [
      "C:\\Users\\Kanchan Wadhava\\anaconda3\\lib\\site-packages\\mlxtend\\plotting\\decision_regions.py:247: UserWarning: No contour levels were found within the data range.\n",
      "  antialiased=True)\n",
      "C:\\Users\\Kanchan Wadhava\\anaconda3\\lib\\site-packages\\mlxtend\\plotting\\decision_regions.py:247: UserWarning: No contour levels were found within the data range.\n",
      "  antialiased=True)\n"
     ]
    },
    {
     "name": "stdout",
     "output_type": "stream",
     "text": [
      "Accuracy: 0.97 (+/- 0.00) [Bagging Tree]\n"
     ]
    },
    {
     "data": {
      "image/png": "[encoded data removed]",
      "text/plain": [
       "<Figure size 720x576 with 2 Axes>"
      ]
     },
     "metadata": {
      "needs_background": "light"
     },
     "output_type": "display_data"
    }
   ],
   "source": [
    "import numpy as np\n",
    "X_n_train=X_train_sc.to_numpy()\n",
    "y_n_train=y_train.to_numpy()\n",
    "import seaborn as sns\n",
    "import matplotlib.pyplot as plt\n",
    "import matplotlib.gridspec as gridspec\n",
    "import itertools\n",
    "from sklearn.model_selection import cross_val_score\n",
    "from mlxtend.plotting import plot_decision_regions\n",
    "\n",
    "label = ['Decision Tree','Bagging Tree']\n",
    "clf_list = [model_bagg,dt_default1]\n",
    "\n",
    "feature_values = {i:1 for i in range(2, 11)}  \n",
    "feature_width = {i:1 for i in range(2, 11)}  \n",
    "\n",
    "fig = plt.figure(figsize=(10, 8))\n",
    "gs = gridspec.GridSpec(2, 2)\n",
    "grid = itertools.product([0,1],repeat=2)\n",
    "\n",
    "for clf, label, grd in zip(clf_list, label, grid):        \n",
    "    scores = cross_val_score(clf, X_n_train, y_n_train, cv=3, scoring='accuracy')\n",
    "    print (\"Accuracy: %.2f (+/- %.2f) [%s]\" %(scores.mean(), scores.std(), label))\n",
    "        \n",
    "    clf.fit(X, y)\n",
    "    ax = plt.subplot(gs[grd[0], grd[1]])\n",
    "    fig = plot_decision_regions(X=X_n_train, y=y_n_train,\n",
    "                                filler_feature_values=feature_values,\n",
    "                                filler_feature_ranges=feature_width, clf=clf, legend=2)\n",
    "    plt.title(label)\n",
    "\n",
    "plt.show()"
   ]
  },
  {
   "cell_type": "code",
   "execution_count": 156,
   "metadata": {},
   "outputs": [
    {
     "name": "stdout",
     "output_type": "stream",
     "text": [
      "[[9.99523742e-01 4.76257973e-04]\n",
      " [9.96114870e-01 3.88512981e-03]\n",
      " [9.99357866e-01 6.42134402e-04]\n",
      " ...\n",
      " [6.86766184e-01 3.13233816e-01]\n",
      " [1.00000000e+00 0.00000000e+00]\n",
      " [9.95423474e-01 4.57652648e-03]]\n"
     ]
    }
   ],
   "source": [
    "print(RF_default1.predict_proba(X_train_sc))"
   ]
  },
  {
   "cell_type": "code",
   "execution_count": null,
   "metadata": {},
   "outputs": [],
   "source": []
  }
 ],
 "metadata": {
  "hide_input": false,
  "kernelspec": {
   "display_name": "Python 3",
   "language": "python",
   "name": "python3"
  },
  "language_info": {
   "codemirror_mode": {
    "name": "ipython",
    "version": 3
   },
   "file_extension": ".py",
   "mimetype": "text/x-python",
   "name": "python",
   "nbconvert_exporter": "python",
   "pygments_lexer": "ipython3",
   "version": "3.6.9"
  },
  "toc": {
   "base_numbering": 1,
   "nav_menu": {},
   "number_sections": true,
   "sideBar": true,
   "skip_h1_title": false,
   "title_cell": "Table of Contents",
   "title_sidebar": "Contents",
   "toc_cell": false,
   "toc_position": {},
   "toc_section_display": true,
   "toc_window_display": false
  },
  "varInspector": {
   "cols": {
    "lenName": 16,
    "lenType": 16,
    "lenVar": 40
   },
   "kernels_config": {
    "python": {
     "delete_cmd_postfix": "",
     "delete_cmd_prefix": "del ",
     "library": "var_list.py",
     "varRefreshCmd": "print(var_dic_list())"
    },
    "r": {
     "delete_cmd_postfix": ") ",
     "delete_cmd_prefix": "rm(",
     "library": "var_list.r",
     "varRefreshCmd": "cat(var_dic_list()) "
    }
   },
   "types_to_exclude": [
    "module",
    "function",
    "builtin_function_or_method",
    "instance",
    "_Feature"
   ],
   "window_display": false
  }
 },
 "nbformat": 4,
 "nbformat_minor": 2
}
